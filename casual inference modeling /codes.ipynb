{
 "cells": [
  {
   "cell_type": "markdown",
   "metadata": {},
   "source": [
    "# This file includes the methods we used in our project"
   ]
  },
  {
   "cell_type": "code",
   "execution_count": 4,
   "metadata": {
    "id": "A2I5CEa0cwB3"
   },
   "outputs": [],
   "source": [
    "import pandas as pd\n",
    "import numpy as np\n",
    "\n",
    "from sklearn.model_selection import train_test_split\n",
    "from sklearn.preprocessing import MinMaxScaler, OneHotEncoder\n",
    "import statsmodels.formula.api as smf\n",
    "from sklearn.ensemble import RandomForestClassifier\n",
    "from sklearn.ensemble import RandomForestRegressor\n",
    "from sklearn.tree import DecisionTreeClassifier\n",
    "from sklearn.neighbors import KNeighborsClassifier\n",
    "from sklearn.model_selection import GridSearchCV\n",
    "from sklearn.neighbors import KNeighborsClassifier\n",
    "from sklearn.linear_model import LogisticRegression\n",
    "from xgboost import XGBClassifier\n",
    "from xgboost import XGBRegressor\n",
    "from causalml.inference.meta import BaseXRegressor\n",
    "from sklearn.linear_model import LinearRegression\n",
    "\n",
    "import xgboost as xgb\n",
    "import itertools\n",
    "\n",
    "import xgboost as xgb\n",
    "import itertools\n",
    "\n",
    "import matplotlib as mpl\n",
    "from matplotlib import pyplot as plt\n",
    "mpl.rcParams['pdf.fonttype'] = 42\n",
    "mpl.rcParams['ps.fonttype'] = 42\n",
    "fig_dpi      = 300\n",
    "fig_typeface = 'Helvetica'\n",
    "fig_family   = 'monospace'\n",
    "fig_style    = 'normal'\n",
    "\n",
    "import warnings\n",
    "warnings.filterwarnings(\"ignore\")"
   ]
  },
  {
   "cell_type": "code",
   "execution_count": 5,
   "metadata": {},
   "outputs": [],
   "source": [
    "dataset = pd.read_csv(\"data.csv\")"
   ]
  },
  {
   "cell_type": "code",
   "execution_count": 2,
   "metadata": {},
   "outputs": [
    {
     "data": {
      "text/html": [
       "<div>\n",
       "<style scoped>\n",
       "    .dataframe tbody tr th:only-of-type {\n",
       "        vertical-align: middle;\n",
       "    }\n",
       "\n",
       "    .dataframe tbody tr th {\n",
       "        vertical-align: top;\n",
       "    }\n",
       "\n",
       "    .dataframe thead th {\n",
       "        text-align: right;\n",
       "    }\n",
       "</style>\n",
       "<table border=\"1\" class=\"dataframe\">\n",
       "  <thead>\n",
       "    <tr style=\"text-align: right;\">\n",
       "      <th></th>\n",
       "      <th>gender</th>\n",
       "      <th>race/ethnicity</th>\n",
       "      <th>parental level of education</th>\n",
       "      <th>lunch</th>\n",
       "      <th>test preparation course</th>\n",
       "      <th>math score</th>\n",
       "      <th>reading score</th>\n",
       "      <th>writing score</th>\n",
       "    </tr>\n",
       "  </thead>\n",
       "  <tbody>\n",
       "    <tr>\n",
       "      <th>0</th>\n",
       "      <td>female</td>\n",
       "      <td>group B</td>\n",
       "      <td>bachelor's degree</td>\n",
       "      <td>standard</td>\n",
       "      <td>none</td>\n",
       "      <td>72</td>\n",
       "      <td>72</td>\n",
       "      <td>74</td>\n",
       "    </tr>\n",
       "    <tr>\n",
       "      <th>1</th>\n",
       "      <td>female</td>\n",
       "      <td>group C</td>\n",
       "      <td>some college</td>\n",
       "      <td>standard</td>\n",
       "      <td>completed</td>\n",
       "      <td>69</td>\n",
       "      <td>90</td>\n",
       "      <td>88</td>\n",
       "    </tr>\n",
       "  </tbody>\n",
       "</table>\n",
       "</div>"
      ],
      "text/plain": [
       "   gender race/ethnicity parental level of education     lunch  \\\n",
       "0  female        group B           bachelor's degree  standard   \n",
       "1  female        group C                some college  standard   \n",
       "\n",
       "  test preparation course  math score  reading score  writing score  \n",
       "0                    none          72             72             74  \n",
       "1               completed          69             90             88  "
      ]
     },
     "execution_count": 2,
     "metadata": {},
     "output_type": "execute_result"
    }
   ],
   "source": [
    "dataset.head(2)"
   ]
  },
  {
   "cell_type": "markdown",
   "metadata": {},
   "source": [
    "## Distrubution Of Two groups"
   ]
  },
  {
   "cell_type": "code",
   "execution_count": 4,
   "metadata": {},
   "outputs": [
    {
     "data": {
      "image/png": "[encoded data removed]",
      "text/plain": [
       "<Figure size 640x480 with 1 Axes>"
      ]
     },
     "metadata": {},
     "output_type": "display_data"
    }
   ],
   "source": [
    "colors = ['#ff9999','#66b3ff']\n",
    "Percentage = dataset[\"lunch\"].value_counts()\n",
    "Percentage.plot(kind=\"pie\", colors=colors, autopct='%1.1f%%', startangle=90, wedgeprops=dict(width=0.7), textprops={'fontsize': 12})\n",
    "plt.ylabel(\" \", fontsize=10)\n",
    "plt.title(\"Treatment Pie Chart\", fontsize=14, fontweight=\"bold\")\n",
    "plt.legend(labels = Percentage.index, loc=\"best\", fontsize=10)\n",
    "plt.show()"
   ]
  },
  {
   "cell_type": "markdown",
   "metadata": {},
   "source": [
    "## Data Pre processing And define Bootstrap from HW2"
   ]
  },
  {
   "cell_type": "code",
   "execution_count": 6,
   "metadata": {},
   "outputs": [
    {
     "data": {
      "text/html": [
       "<div>\n",
       "<style scoped>\n",
       "    .dataframe tbody tr th:only-of-type {\n",
       "        vertical-align: middle;\n",
       "    }\n",
       "\n",
       "    .dataframe tbody tr th {\n",
       "        vertical-align: top;\n",
       "    }\n",
       "\n",
       "    .dataframe thead th {\n",
       "        text-align: right;\n",
       "    }\n",
       "</style>\n",
       "<table border=\"1\" class=\"dataframe\">\n",
       "  <thead>\n",
       "    <tr style=\"text-align: right;\">\n",
       "      <th></th>\n",
       "      <th>gender</th>\n",
       "      <th>race/ethnicity</th>\n",
       "      <th>parental level of education</th>\n",
       "      <th>lunch</th>\n",
       "      <th>test preparation course</th>\n",
       "      <th>Performance</th>\n",
       "    </tr>\n",
       "  </thead>\n",
       "  <tbody>\n",
       "    <tr>\n",
       "      <th>0</th>\n",
       "      <td>female</td>\n",
       "      <td>group B</td>\n",
       "      <td>bachelor's degree</td>\n",
       "      <td>standard</td>\n",
       "      <td>none</td>\n",
       "      <td>1</td>\n",
       "    </tr>\n",
       "    <tr>\n",
       "      <th>1</th>\n",
       "      <td>female</td>\n",
       "      <td>group C</td>\n",
       "      <td>some college</td>\n",
       "      <td>standard</td>\n",
       "      <td>completed</td>\n",
       "      <td>1</td>\n",
       "    </tr>\n",
       "  </tbody>\n",
       "</table>\n",
       "</div>"
      ],
      "text/plain": [
       "   gender race/ethnicity parental level of education     lunch   \n",
       "0  female        group B           bachelor's degree  standard  \\\n",
       "1  female        group C                some college  standard   \n",
       "\n",
       "  test preparation course  Performance  \n",
       "0                    none            1  \n",
       "1               completed            1  "
      ]
     },
     "execution_count": 6,
     "metadata": {},
     "output_type": "execute_result"
    }
   ],
   "source": [
    "dataset[\"Performance\"] = dataset[\"math score\"] + dataset[\"reading score\"] + dataset[\"writing score\"]\n",
    "dataset = dataset.drop(columns=['math score', 'reading score', 'writing score'])\n",
    "p = []\n",
    "for i in dataset[\"Performance\"]:\n",
    "    if i >= np.median(dataset[\"Performance\"]):\n",
    "        p.append(1)\n",
    "    else:\n",
    "        p.append(0)\n",
    "dataset[\"Performance\"] = p\n",
    "dataset[:2]"
   ]
  },
  {
   "cell_type": "code",
   "execution_count": 7,
   "metadata": {
    "colab": {
     "base_uri": "https://localhost:8080/",
     "height": 402
    },
    "id": "9w81NrWkeUMw",
    "outputId": "512063b6-6f6d-4a3c-cd4f-070e124b61ff"
   },
   "outputs": [
    {
     "data": {
      "text/html": [
       "<div>\n",
       "<style scoped>\n",
       "    .dataframe tbody tr th:only-of-type {\n",
       "        vertical-align: middle;\n",
       "    }\n",
       "\n",
       "    .dataframe tbody tr th {\n",
       "        vertical-align: top;\n",
       "    }\n",
       "\n",
       "    .dataframe thead th {\n",
       "        text-align: right;\n",
       "    }\n",
       "</style>\n",
       "<table border=\"1\" class=\"dataframe\">\n",
       "  <thead>\n",
       "    <tr style=\"text-align: right;\">\n",
       "      <th></th>\n",
       "      <th>gender</th>\n",
       "      <th>race/ethnicity</th>\n",
       "      <th>parental level of education</th>\n",
       "      <th>lunch</th>\n",
       "      <th>test preparation course</th>\n",
       "      <th>Performance</th>\n",
       "    </tr>\n",
       "  </thead>\n",
       "  <tbody>\n",
       "    <tr>\n",
       "      <th>0</th>\n",
       "      <td>0</td>\n",
       "      <td>1</td>\n",
       "      <td>1</td>\n",
       "      <td>0</td>\n",
       "      <td>1</td>\n",
       "      <td>1</td>\n",
       "    </tr>\n",
       "    <tr>\n",
       "      <th>1</th>\n",
       "      <td>0</td>\n",
       "      <td>2</td>\n",
       "      <td>4</td>\n",
       "      <td>0</td>\n",
       "      <td>0</td>\n",
       "      <td>1</td>\n",
       "    </tr>\n",
       "  </tbody>\n",
       "</table>\n",
       "</div>"
      ],
      "text/plain": [
       "   gender  race/ethnicity  parental level of education  lunch   \n",
       "0       0               1                            1      0  \\\n",
       "1       0               2                            4      0   \n",
       "\n",
       "   test preparation course  Performance  \n",
       "0                        1            1  \n",
       "1                        0            1  "
      ]
     },
     "execution_count": 7,
     "metadata": {},
     "output_type": "execute_result"
    }
   ],
   "source": [
    "confounders = dataset.copy()\n",
    "confounders = confounders.drop(\"Performance\", axis = 1)\n",
    "\n",
    "for col in confounders.columns:\n",
    "    confounders[col] = confounders[col].astype('category').cat.codes\n",
    "A = 'lunch'\n",
    "Y = 'Performance'\n",
    "data = confounders.copy()\n",
    "data['lunch'] = data['lunch'].map({0: 1, 1: 0})\n",
    "data[\"Performance\"] = dataset[\"Performance\"]\n",
    "data.head(2)"
   ]
  },
  {
   "cell_type": "code",
   "execution_count": 7,
   "metadata": {},
   "outputs": [],
   "source": [
    "def bootstrap(df, function, n=1000, ci=95, **kwargs):\n",
    "    \"\"\"\n",
    "    From HW2\n",
    "    \"\"\"\n",
    "    np.random.seed(396)  # Keep this random seed call for reproducibility\n",
    "    resample = []\n",
    "    for idx in range(n):\n",
    "        sample = df.sample(frac=1.0, replace=True)\n",
    "        afterFunc = function(sample, **kwargs)\n",
    "        resample.append(afterFunc)\n",
    "    resample = np.array(resample)\n",
    "    pl = np.percentile(resample, (100 - ci) / 2, axis=0)\n",
    "    pu = np.percentile(resample, 100 - (100 - ci) / 2, axis=0)\n",
    "    return np.array([pl, pu])"
   ]
  },
  {
   "cell_type": "markdown",
   "metadata": {},
   "source": [
    "# Naive ATE"
   ]
  },
  {
   "cell_type": "markdown",
   "metadata": {},
   "source": [
    "## ATE value"
   ]
  },
  {
   "cell_type": "code",
   "execution_count": 8,
   "metadata": {
    "colab": {
     "base_uri": "https://localhost:8080/"
    },
    "id": "cNwnO4ROb0v6",
    "outputId": "552fdc73-ebf6-4054-a5d4-dcb437406ff1"
   },
   "outputs": [
    {
     "name": "stdout",
     "output_type": "stream",
     "text": [
      "-0.2245004913200131\n"
     ]
    }
   ],
   "source": [
    "ATE = {}\n",
    "CG = data[data['lunch'] == 0]\n",
    "TG = data[data['lunch'] == 1]\n",
    "ATE = TG[\"Performance\"].mean() - CG[\"Performance\"].mean()\n",
    "\n",
    "print(ATE)"
   ]
  },
  {
   "cell_type": "markdown",
   "metadata": {},
   "source": [
    "## Uncertainty"
   ]
  },
  {
   "cell_type": "code",
   "execution_count": 9,
   "metadata": {},
   "outputs": [
    {
     "name": "stdout",
     "output_type": "stream",
     "text": [
      "[-0.29, -0.16]\n"
     ]
    }
   ],
   "source": [
    "np.random.seed(396)\n",
    "resample = []\n",
    "ci = 95\n",
    "n = 1000\n",
    "for idx in range(n):\n",
    "    sample = data.sample(frac=1.0, replace=True)\n",
    "    CG = sample[sample['lunch'] == 0]\n",
    "    TG = sample[sample['lunch'] == 1]\n",
    "    ATE = np.mean(TG[\"Performance\"]) - np.mean(CG[\"Performance\"])\n",
    "    resample.append(ATE)\n",
    "resample = np.array(resample)\n",
    "pl = np.percentile(resample, (100 - ci) / 2, axis=0)\n",
    "pu = np.percentile(resample, 100 - (100 - ci) / 2, axis=0)\n",
    "print(\"[%.2f, %.2f]\"%(pl, pu))"
   ]
  },
  {
   "cell_type": "markdown",
   "metadata": {},
   "source": [
    "## Do calculus Backdoor"
   ]
  },
  {
   "cell_type": "code",
   "execution_count": 36,
   "metadata": {},
   "outputs": [],
   "source": [
    "def BDAdj(confounders, data):\n",
    "    '''\n",
    "    This mothod is to use Backdoor adjustment to estimate the ATE.\n",
    "    Args:\n",
    "    confounders: the data without outcome variable but includes the treatment variable\n",
    "    data: The dataset\n",
    "    return: \n",
    "    bd_ATE: average treatment effect with backdoor adjustment estimation.\n",
    "    '''\n",
    "    bd_confounders = confounders.drop(\"lunch\", axis=1).columns\n",
    "    combo = [getVal(confounders, variable) for variable in bd_confounders]\n",
    "    size = len(confounders)\n",
    "    probs = calProb(confounders, data, size, combo)\n",
    "    bd_ATE = calOut(probs)\n",
    "    \n",
    "    return bd_ATE\n",
    "\n",
    "def bootstrap(data, function, n = 1000, ci = 95):\n",
    "    np.random.seed(396)\n",
    "    resample = []\n",
    "    for idx in range(n):\n",
    "        sample = data.sample(frac=1.0, replace=True)\n",
    "        cf = (sample.copy()).drop(\"Performance\", axis = 1)\n",
    "        afterFunc = function(cf, sample)\n",
    "        resample.append(afterFunc)\n",
    "    resample = np.array(resample)\n",
    "    pl = np.percentile(resample, (100 - ci) / 2, axis=0)\n",
    "    pu = np.percentile(resample, 100 - (100 - ci) / 2, axis=0)\n",
    "    return np.array([pl, pu])\n",
    "\n",
    "def getVal(confounders, variable):\n",
    "    return list(confounders[variable].unique())\n",
    "\n",
    "\n",
    "def calProb(confounders, data, size, combo):\n",
    "    probs = {}\n",
    "    for c in itertools.product(*combo):\n",
    "        sub_combo = filter_data(data, confounders, c)\n",
    "        probs[c] = {}\n",
    "        probs[c]['c'] = len(sub_combo) / size\n",
    "        try:\n",
    "            TG = sub_combo[sub_combo[\"lunch\"] == 1]\n",
    "            CG = sub_combo[sub_combo[\"lunch\"] == 0]\n",
    "            pT = len(TG) / len(sub_combo)\n",
    "            pC = len(CG) / len(sub_combo)\n",
    "            probs[c]['T_given_c'] = [pC, pT]\n",
    "            probs[c]['Y_given_Tc'] = cal_YT_C(TG, CG)\n",
    "        except:\n",
    "            continue\n",
    "    return probs\n",
    "\n",
    "def filter_data(data, confounders, values):\n",
    "    filters = []\n",
    "    for variable, value in zip(confounders.columns, values):\n",
    "        filters.append(data[variable] == value)\n",
    "    sub_combo = data[np.logical_and.reduce(filters)]\n",
    "    return sub_combo\n",
    "\n",
    "def cal_YT_C(TG, CG):\n",
    "    yT = TG[TG[\"Performance\"] == 1]\n",
    "    yC = CG[CG[\"Performance\"] == 1]\n",
    "    yT_c_values = [1 - len(yT) / len(TG), len(yT) / len(TG)] if len(TG) != 0 else [0, 0]\n",
    "    yC_c_values = [1 - len(yC) / len(CG), len(yC) / len(CG)] if len(CG) != 0 else [0, 0]\n",
    "    return {0: yC_c_values, 1: yT_c_values}\n",
    "\n",
    "def calOut(probs):\n",
    "    TG_outcome = 0\n",
    "    CG_outcome = 0\n",
    "    for c in probs.keys():\n",
    "        if probs[c]['c'] != 0:\n",
    "            TG_outcome += (1 * probs[c]['Y_given_Tc'][1][1]) * probs[c]['c']\n",
    "            CG_outcome += (1 * probs[c]['Y_given_Tc'][0][1]) * probs[c]['c']\n",
    "    bd_ATE = TG_outcome - CG_outcome\n",
    "    return bd_ATE"
   ]
  },
  {
   "cell_type": "markdown",
   "metadata": {},
   "source": [
    "##  IPW"
   ]
  },
  {
   "cell_type": "code",
   "execution_count": 38,
   "metadata": {},
   "outputs": [],
   "source": [
    "def IPW(confounders, data, model = LogisticRegression(C = 1, penalty=\"l2\")):\n",
    "    '''\n",
    "    This mothod is to use IPW to estimate the ATE.\n",
    "    Args:\n",
    "    confounders: the data without outcome variable but includes the treatment variable\n",
    "    data: The dataset\n",
    "    model: the model for the inverse propensity score\n",
    "    \n",
    "    return: \n",
    "    IPW: average treatment effect with IPW estimation\n",
    "    '''\n",
    "    C = confounders.drop([\"lunch\"], axis = 1)\n",
    "    performance = data[\"Performance\"]\n",
    "    TG = data[data[\"lunch\"] == 1]; C_TG = TG.drop([\"lunch\", \"Performance\"], axis = 1)\n",
    "    CG = data[data[\"lunch\"] == 0]; C_CG = CG.drop([\"lunch\", \"Performance\"], axis = 1)\n",
    "    y_TG = TG[\"Performance\"]\n",
    "    y_CG = CG[\"Performance\"]\n",
    "    model = model\n",
    "    model.fit(C, confounders[\"lunch\"])\n",
    "    T = model.predict_proba(C_TG)[:,1]\n",
    "    C = model.predict_proba(C_CG)[:,1]\n",
    "    n_cf = len(C)\n",
    "    ETG = T[T!=0]; y_TG = y_TG[T!=0]\n",
    "    ECG = C[C!=1]; y_CG = y_CG[C!=1]\n",
    "    IPW = np.round( np.sum(y_TG / ETG) / n_cf -\n",
    "                   np.sum(y_CG / (1 - ECG)) / n_cf, 2)\n",
    "    return IPW"
   ]
  },
  {
   "cell_type": "markdown",
   "metadata": {},
   "source": [
    "## Results of Do-calculus"
   ]
  },
  {
   "cell_type": "code",
   "execution_count": 40,
   "metadata": {},
   "outputs": [],
   "source": [
    "do_cal_estimate = BDAdj(confounders, data)\n",
    "do_cal_estimate\n",
    "CI = bootstrap(data, BDAdj, n = 10)"
   ]
  },
  {
   "cell_type": "code",
   "execution_count": 42,
   "metadata": {},
   "outputs": [
    {
     "data": {
      "text/plain": [
       "(-0.25100000000000017, array([-0.28185, -0.20385]))"
      ]
     },
     "execution_count": 42,
     "metadata": {},
     "output_type": "execute_result"
    }
   ],
   "source": [
    "do_cal_estimate, CI"
   ]
  },
  {
   "cell_type": "code",
   "execution_count": 44,
   "metadata": {},
   "outputs": [],
   "source": [
    "logistic_model = LogisticRegression(C = 1, penalty=\"l2\")\n",
    "confounders = data.drop([\"Performance\"], axis = 1)\n",
    "ipw = IPW(confounders, data)\n",
    "CI = bootstrap(data, IPW, n = 10)"
   ]
  },
  {
   "cell_type": "code",
   "execution_count": 45,
   "metadata": {},
   "outputs": [
    {
     "data": {
      "text/plain": [
       "(-0.35, array([-0.37775, -0.2445 ]))"
      ]
     },
     "execution_count": 45,
     "metadata": {},
     "output_type": "execute_result"
    }
   ],
   "source": [
    "ipw, CI"
   ]
  },
  {
   "cell_type": "markdown",
   "metadata": {},
   "source": [
    "## Results of IPW"
   ]
  },
  {
   "cell_type": "markdown",
   "metadata": {},
   "source": [
    "First we are trying to find out the the best hyperparameters"
   ]
  },
  {
   "cell_type": "code",
   "execution_count": 174,
   "metadata": {},
   "outputs": [
    {
     "data": {
      "text/plain": [
       "Index(['gender', 'race/ethnicity', 'parental level of education', 'lunch',\n",
       "       'test preparation course', 'Performance'],\n",
       "      dtype='object')"
      ]
     },
     "execution_count": 174,
     "metadata": {},
     "output_type": "execute_result"
    }
   ],
   "source": [
    "data.columns"
   ]
  },
  {
   "cell_type": "code",
   "execution_count": 296,
   "metadata": {},
   "outputs": [
    {
     "data": {
      "text/plain": [
       "0.655"
      ]
     },
     "execution_count": 296,
     "metadata": {},
     "output_type": "execute_result"
    }
   ],
   "source": [
    "from sklearn.model_selection import train_test_split\n",
    "X = data.drop(columns=[\"lunch\"])\n",
    "y = data['lunch']\n",
    "X_train, X_test, y_train, y_test = train_test_split(X, y, test_size=0.2, random_state=396)\n",
    "\n",
    "rf_model = RandomForestClassifier(random_state=96, \n",
    "                                  n_estimators=100, \n",
    "                                  max_depth = 5, \n",
    "                                  min_samples_split = 6, \n",
    "                                  min_samples_leaf = 6)\n",
    "rf_model.fit(X_train, y_train)\n",
    "y_pred = rf_model.predict(X_test)\n",
    "sum(y_pred == y_test)/len(y_pred)"
   ]
  },
  {
   "cell_type": "code",
   "execution_count": 260,
   "metadata": {},
   "outputs": [
    {
     "data": {
      "text/plain": [
       "0.655"
      ]
     },
     "execution_count": 260,
     "metadata": {},
     "output_type": "execute_result"
    }
   ],
   "source": [
    "logistic_model = LogisticRegression(C = 1, penalty=\"l2\")\n",
    "logistic_model.fit(X_train, y_train)\n",
    "y_pred = logistic_model.predict(X_test)\n",
    "sum(y_pred == y_test)/len(y_pred)"
   ]
  },
  {
   "cell_type": "code",
   "execution_count": 265,
   "metadata": {},
   "outputs": [
    {
     "data": {
      "text/plain": [
       "0.655"
      ]
     },
     "execution_count": 265,
     "metadata": {},
     "output_type": "execute_result"
    }
   ],
   "source": [
    "xgb_model = xgb.XGBClassifier(random_state=396, n_estimators = 70)\n",
    "xgb_model.fit(X_train, y_train)\n",
    "y_pred = xgb_model.predict(X_test)\n",
    "sum(y_pred == y_test)/len(y_pred)"
   ]
  },
  {
   "cell_type": "markdown",
   "metadata": {},
   "source": [
    "Then we use the best hyperparamters to get the ATE results"
   ]
  },
  {
   "cell_type": "code",
   "execution_count": 34,
   "metadata": {},
   "outputs": [],
   "source": [
    "lr = LogisticRegression(C = 1, penalty=\"l2\")\n",
    "confounders= data.drop(\"Performance\",axis = 1)\n",
    "ipw = IPW(confounders, data, lr)\n",
    "CI = bootstrap(data, IPW, n = 10)"
   ]
  },
  {
   "cell_type": "code",
   "execution_count": 35,
   "metadata": {},
   "outputs": [
    {
     "data": {
      "text/plain": [
       "(-0.35, array([-0.37775, -0.2445 ]))"
      ]
     },
     "execution_count": 35,
     "metadata": {},
     "output_type": "execute_result"
    }
   ],
   "source": [
    "ipw, CI"
   ]
  },
  {
   "cell_type": "code",
   "execution_count": 278,
   "metadata": {},
   "outputs": [
    {
     "name": "stdout",
     "output_type": "stream",
     "text": [
      "[-0.49, -0.29]\n"
     ]
    }
   ],
   "source": [
    "np.random.seed(396)\n",
    "resample = []\n",
    "ci = 95\n",
    "n = 100\n",
    "for idx in range(n):\n",
    "    sample = data.sample(frac=1.0, replace=True)\n",
    "    cf = (sample.copy()).drop(\"Performance\", axis = 1)\n",
    "    ATE = IPW(cf, sample)\n",
    "    resample.append(ATE)\n",
    "resample = np.array(resample)\n",
    "pl = np.percentile(resample, (100 - ci) / 2, axis=0)\n",
    "pu = np.percentile(resample, 100 - (100 - ci) / 2, axis=0)\n",
    "\n",
    "print(\"[%.2f, %.2f]\"%(pl, pu))"
   ]
  },
  {
   "cell_type": "code",
   "execution_count": 162,
   "metadata": {},
   "outputs": [
    {
     "data": {
      "text/plain": [
       "Index(['gender', 'race/ethnicity', 'parental level of education', 'lunch',\n",
       "       'test preparation course', 'Performance'],\n",
       "      dtype='object')"
      ]
     },
     "execution_count": 162,
     "metadata": {},
     "output_type": "execute_result"
    }
   ],
   "source": [
    "sample.columns"
   ]
  },
  {
   "cell_type": "code",
   "execution_count": 284,
   "metadata": {},
   "outputs": [
    {
     "data": {
      "text/plain": [
       "-0.35"
      ]
     },
     "execution_count": 284,
     "metadata": {},
     "output_type": "execute_result"
    }
   ],
   "source": [
    "confounders= data.drop(\"Performance\",axis = 1)\n",
    "ipw = IPW(confounders, data, model)\n",
    "ipw"
   ]
  },
  {
   "cell_type": "code",
   "execution_count": 282,
   "metadata": {},
   "outputs": [],
   "source": [
    "np.random.seed(396)\n",
    "resample = []\n",
    "ci = 95\n",
    "n = 1000\n",
    "for idx in range(n):\n",
    "    sample = data.sample(frac=1.0, replace=True)\n",
    "    cf = (sample.copy()).drop(\"Performance\", axis = 1)\n",
    "    ATE = IPW(cf, sample)\n",
    "\n",
    "    resample.append(ATE)\n",
    "resample = np.array(resample)\n",
    "pl = np.percentile(resample, (100 - ci) / 2, axis=0)\n",
    "pu = np.percentile(resample, 100 - (100 - ci) / 2, axis=0)"
   ]
  },
  {
   "cell_type": "code",
   "execution_count": 283,
   "metadata": {
    "id": "G_qQyzjs82Qm"
   },
   "outputs": [
    {
     "name": "stdout",
     "output_type": "stream",
     "text": [
      "[-0.44, -0.26]\n"
     ]
    }
   ],
   "source": [
    "print(\"[%.2f, %.2f]\"%(pl, pu))"
   ]
  },
  {
   "cell_type": "markdown",
   "metadata": {},
   "source": [
    "## Double Meching Learning\n",
    "\n",
    "- Bach, P., Chernozhukov, V., Kurz, M. S., and Spindler, M. (2022), DoubleML - An Object-Oriented Implementation of Double Machine Learning in Python, Journal of Machine Learning Research, 23(53): 1-6, https://www.jmlr.org/papers/v23/21-0862.html.\n"
   ]
  },
  {
   "cell_type": "code",
   "execution_count": 320,
   "metadata": {},
   "outputs": [
    {
     "name": "stdout",
     "output_type": "stream",
     "text": [
      "================== DoubleMLData Object ==================\n",
      "\n",
      "------------------ Data summary      ------------------\n",
      "Outcome variable: Performance\n",
      "Treatment variable(s): ['lunch']\n",
      "Covariates: ['gender', 'race/ethnicity', 'parental level of education', 'test preparation course']\n",
      "Instrument variable(s): None\n",
      "No. Observations: 1000\n",
      "\n",
      "------------------ DataFrame info    ------------------\n",
      "<class 'pandas.core.frame.DataFrame'>\n",
      "RangeIndex: 1000 entries, 0 to 999\n",
      "Columns: 6 entries, gender to Performance\n",
      "dtypes: int64(2), int8(4)\n",
      "memory usage: 19.7 KB\n",
      "\n"
     ]
    }
   ],
   "source": [
    "# Creat double mL data\n",
    "from doubleml import DoubleMLData\n",
    "dml_data = DoubleMLData(data,\n",
    "                              y_col='Performance',\n",
    "                              d_cols='lunch',\n",
    "                              x_cols=['gender', 'race/ethnicity', 'parental level of education','test preparation course'])\n",
    "print(dml_data)"
   ]
  },
  {
   "cell_type": "code",
   "execution_count": 306,
   "metadata": {},
   "outputs": [],
   "source": [
    "X = data[['gender', 'race/ethnicity', 'parental level of education','test preparation course']]\n",
    "y = data[\"Performance\"]\n",
    "d = data[\"lunch\"]\n",
    "\n",
    "from sklearn.preprocessing import PolynomialFeatures\n",
    "poly = PolynomialFeatures(degree=2, include_bias=False)\n",
    "X_poly = poly.fit_transform(X)"
   ]
  },
  {
   "cell_type": "code",
   "execution_count": 321,
   "metadata": {},
   "outputs": [
    {
     "name": "stdout",
     "output_type": "stream",
     "text": [
      "================== DoubleMLData Object ==================\n",
      "\n",
      "------------------ Data summary      ------------------\n",
      "Outcome variable: y\n",
      "Treatment variable(s): ['d']\n",
      "Covariates: ['X1', 'X2', 'X3', 'X4', 'X5', 'X6', 'X7', 'X8', 'X9', 'X10', 'X11', 'X12', 'X13', 'X14']\n",
      "Instrument variable(s): None\n",
      "No. Observations: 1000\n",
      "\n",
      "------------------ DataFrame info    ------------------\n",
      "<class 'pandas.core.frame.DataFrame'>\n",
      "RangeIndex: 1000 entries, 0 to 999\n",
      "Columns: 16 entries, X1 to d\n",
      "dtypes: float64(16)\n",
      "memory usage: 125.1 KB\n",
      "\n"
     ]
    }
   ],
   "source": [
    "dml_data_ploy = DoubleMLData.from_arrays(X_poly, y, d)\n",
    "print(dml_data_ploy)"
   ]
  },
  {
   "cell_type": "code",
   "execution_count": 333,
   "metadata": {},
   "outputs": [
    {
     "name": "stdout",
     "output_type": "stream",
     "text": [
      "================== DoubleMLPLR Object ==================\n",
      "\n",
      "------------------ Data summary      ------------------\n",
      "Outcome variable: y\n",
      "Treatment variable(s): ['d']\n",
      "Covariates: ['X1', 'X2', 'X3', 'X4', 'X5', 'X6', 'X7', 'X8', 'X9', 'X10', 'X11', 'X12', 'X13', 'X14']\n",
      "Instrument variable(s): None\n",
      "No. Observations: 1000\n",
      "\n",
      "------------------ Score & algorithm ------------------\n",
      "Score function: partialling out\n",
      "DML algorithm: dml2\n",
      "\n",
      "------------------ Machine learner   ------------------\n",
      "Learner ml_l: RandomForestRegressor(max_depth=15, random_state=396)\n",
      "Learner ml_m: RandomForestRegressor(max_depth=15, random_state=396)\n",
      "Out-of-sample Performance:\n",
      "Learner ml_l RMSE: [[0.50684079]]\n",
      "Learner ml_m RMSE: [[0.52099487]]\n",
      "\n",
      "------------------ Resampling        ------------------\n",
      "No. folds: 5\n",
      "No. repeated sample splits: 1\n",
      "Apply cross-fitting: True\n",
      "\n",
      "------------------ Fit summary       ------------------\n",
      "       coef   std err         t         P>|t|    2.5 %    97.5 %\n",
      "d -0.233442  0.029811 -7.830841  4.846175e-15 -0.29187 -0.175014\n"
     ]
    }
   ],
   "source": [
    "from sklearn.base import clone\n",
    "#learner = RandomForestRegressor(max_depth = 15, random_state=396, n_estimators=100)\n",
    "learner = RandomForestRegressor(max_depth = 15, random_state=396, n_estimators=100)\n",
    "ml_l_ploy = clone(learner)\n",
    "ml_m_ploy = clone(learner)\n",
    "from doubleml import DoubleMLPLR\n",
    "np.random.seed(396)\n",
    "obj_dml_plr_ploy = DoubleMLPLR(dml_data_ploy, ml_l_ploy, ml_m_ploy)\n",
    "obj_dml_plr_ploy.fit()\n",
    "print(obj_dml_plr_ploy)"
   ]
  },
  {
   "cell_type": "code",
   "execution_count": 323,
   "metadata": {},
   "outputs": [
    {
     "name": "stdout",
     "output_type": "stream",
     "text": [
      "[[-0.23344211]]\n"
     ]
    }
   ],
   "source": [
    "print(obj_dml_plr_sim.all_coef)"
   ]
  },
  {
   "cell_type": "markdown",
   "metadata": {},
   "source": [
    "## Meta Learner_models\n",
    "\n",
    "- Künzel, Sören R., Jasjeet S. Sekhon, Peter J. Bickel, and Bin Yu. \"Metalearners for Estimating Heterogeneous Treatment Effects Using Machine Learning.\" February 15, 2019. https://doi.org/10.1073/pnas.1804597116."
   ]
  },
  {
   "cell_type": "code",
   "execution_count": 11,
   "metadata": {},
   "outputs": [],
   "source": [
    "def XLearner(data, model1, model2):\n",
    "    from sklearn.linear_model import LinearRegression\n",
    "    '''\n",
    "    This mothod is to use XLearner to estimate the ATE.\n",
    "    Args:\n",
    "    data: The dataset\n",
    "    model1: the model for the treatment group\n",
    "    model2: the model for the control group\n",
    "    \n",
    "    return: \n",
    "    ATE: average treatment effect\n",
    "    CI: confidence interval for ATE\n",
    "    '''\n",
    "    treatmentLearner = model1\n",
    "    controlLearner = model2\n",
    "    prop_model = LinearRegression()\n",
    "\n",
    "    XLearner = BaseXRegressor(treatmentLearner, controlLearner, prop_model)\n",
    "    confounders = data.drop([\"Performance\", \"lunch\"], axis = 1)\n",
    "    treatment = data[\"lunch\"]\n",
    "    performance = data[\"Performance\"]\n",
    "    XLearner.fit(X=confounders, treatment=treatment, y=performance)\n",
    "    ATE_array = XLearner.estimate_ate(X=confounders, treatment=treatment, y=performance)\n",
    "    ATE = ATE_array[0][0]\n",
    "    CI = [ATE_array[1][0], ATE_array[2][0]]\n",
    "    return ATE, CI\n",
    "def SLearner(data, model):\n",
    "    '''\n",
    "    This method is to use SLearner to estimate the ATE.\n",
    "    Args:\n",
    "    data: The dataset\n",
    "    model: prediction model\n",
    "    \n",
    "    return:\n",
    "    ATE: average treatment effect\n",
    "    CI: confidence interval for ATE\n",
    "    '''\n",
    "    confounders = data.drop([\"Performance\", \"lunch\"], axis = 1)\n",
    "    treatment = data[\"lunch\"]\n",
    "    performance = data[\"Performance\"]\n",
    "    \n",
    "    data_C_Real = np.hstack([confounders, np.array(treatment).reshape(-1, 1)])\n",
    "    model = model\n",
    "    model.fit(data_C_Real, performance)\n",
    "\n",
    "    data_C_T = np.hstack([confounders, np.ones((confounders.shape[0], 1))])\n",
    "    data_C_C = np.hstack([confounders, np.zeros((confounders.shape[0], 1))])   # assume all are control\n",
    "    Y_hat_T = model.predict(data_C_T)\n",
    "    Y_hat_C = model.predict(data_C_C)\n",
    "    \n",
    "    SLearnerPrediction = Y_hat_T - Y_hat_C\n",
    "    \n",
    "    ATE = np.mean(SLearnerPrediction)\n",
    "    CI = [np.percentile(SLearnerPrediction, (100 - 95) / 2, axis=0), \n",
    "          np.percentile(SLearnerPrediction, 100 - (100 - 95) / 2, axis=0)]\n",
    "    return ATE, CI\n",
    "\n",
    "def TLearner(data, model1, model2):\n",
    "    '''\n",
    "    This method is to use TLearner to estimate the ATE.\n",
    "    Args:\n",
    "    data: The dataset\n",
    "    model1: prediction model for TG\n",
    "    model2: prediction model for CG\n",
    "    \n",
    "    return:\n",
    "    ATE: average treatment effect\n",
    "    CI: confidence interval for ATE\n",
    "    '''\n",
    "    confounders = data.drop([\"Performance\", \"lunch\"], axis = 1)\n",
    "    treatment = data[\"lunch\"]\n",
    "    performance = data[\"Performance\"]\n",
    "\n",
    "    ConfoundersOfTG = confounders[treatment == 1]\n",
    "    YOfTG = performance[treatment == 1]\n",
    "    ConfoundersOfCG = confounders[treatment == 0]\n",
    "    YOfCG = performance[treatment == 0]\n",
    "\n",
    "\n",
    "    model_TG = model1\n",
    "    model_TG.fit(ConfoundersOfTG, YOfTG)\n",
    "\n",
    "    model_CG = model2\n",
    "    model_CG.fit(ConfoundersOfCG, YOfCG)\n",
    "\n",
    "    Y_hat_T = model_TG.predict(confounders)\n",
    "    Y_hat_C = model_CG.predict(confounders)\n",
    "\n",
    "    TLearnerPrediction = Y_hat_T - Y_hat_C\n",
    "    ATE = np.mean(TLearnerPrediction)\n",
    "    CI = [np.percentile(TLearnerPrediction, (100 - 95) / 2, axis=0), \n",
    "          np.percentile(TLearnerPrediction, 100 - (100 - 95) / 2, axis=0)]\n",
    "    return ATE, CI"
   ]
  },
  {
   "cell_type": "code",
   "execution_count": 8,
   "metadata": {},
   "outputs": [
    {
     "data": {
      "text/plain": [
       "(-0.23829892, [-0.7874327301979065, 0.41039276123046875])"
      ]
     },
     "execution_count": 8,
     "metadata": {},
     "output_type": "execute_result"
    }
   ],
   "source": [
    "ATE_T, CI_T = TLearner(data, XGBRegressor(), XGBRegressor())\n",
    "ATE_T, CI_T"
   ]
  },
  {
   "cell_type": "code",
   "execution_count": 9,
   "metadata": {},
   "outputs": [
    {
     "data": {
      "text/plain": [
       "(-0.23485108, [-0.7707615494728088, 0.42324262857437134])"
      ]
     },
     "execution_count": 9,
     "metadata": {},
     "output_type": "execute_result"
    }
   ],
   "source": [
    "ATE_S, CI_S = SLearner(data, XGBRegressor())\n",
    "ATE_S, CI_S"
   ]
  },
  {
   "cell_type": "code",
   "execution_count": 13,
   "metadata": {},
   "outputs": [
    {
     "data": {
      "text/plain": [
       "(-0.22086472860979967, [-0.28005016622384626, -0.16167929099575304])"
      ]
     },
     "execution_count": 13,
     "metadata": {},
     "output_type": "execute_result"
    }
   ],
   "source": [
    "from sklearn.ensemble import RandomForestRegressor\n",
    "ATE_X, CI_X = XLearner(data, RandomForestRegressor(), RandomForestRegressor())\n",
    "ATE_X, CI_X"
   ]
  }
 ],
 "metadata": {
  "colab": {
   "collapsed_sections": [],
   "name": "project_207977166_315275511.ipynb",
   "provenance": []
  },
  "hide_input": false,
  "kernelspec": {
   "display_name": "Python 3 (ipykernel)",
   "language": "python",
   "name": "python3"
  },
  "language_info": {
   "codemirror_mode": {
    "name": "ipython",
    "version": 3
   },
   "file_extension": ".py",
   "mimetype": "text/x-python",
   "name": "python",
   "nbconvert_exporter": "python",
   "pygments_lexer": "ipython3",
   "version": "3.9.16"
  }
 },
 "nbformat": 4,
 "nbformat_minor": 1
}
