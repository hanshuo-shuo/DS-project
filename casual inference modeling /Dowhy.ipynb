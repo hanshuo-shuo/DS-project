{
 "cells": [
  {
   "cell_type": "markdown",
   "id": "0b7fd10d",
   "metadata": {},
   "source": [
    "## Example of dowhy on our dataset"
   ]
  },
  {
   "cell_type": "markdown",
   "id": "8f5cbbfd",
   "metadata": {},
   "source": [
    "Code Reference\n",
    "- Amit Sharma, Emre Kiciman. DoWhy: An End-to-End Library for Causal Inference. 2020. https://arxiv.org/abs/2011.04216"
   ]
  },
  {
   "cell_type": "code",
   "execution_count": 1,
   "id": "803864ab",
   "metadata": {},
   "outputs": [],
   "source": [
    "import pandas as pd\n",
    "import numpy as np\n",
    "import dowhy\n",
    "from dowhy import CausalModel\n",
    "import warnings\n",
    "warnings.filterwarnings(\"ignore\")"
   ]
  },
  {
   "cell_type": "code",
   "execution_count": 2,
   "id": "14d1918c",
   "metadata": {},
   "outputs": [
    {
     "data": {
      "image/png": "[encoded data removed]",
      "text/latex": [
       "$\\displaystyle \\left( 1000, \\  8\\right)$"
      ],
      "text/plain": [
       "(1000, 8)"
      ]
     },
     "execution_count": 2,
     "metadata": {},
     "output_type": "execute_result"
    }
   ],
   "source": [
    "student_data = pd.read_csv(\"data.csv\")\n",
    "student_data.shape"
   ]
  },
  {
   "cell_type": "code",
   "execution_count": 3,
   "id": "1ce6a87b",
   "metadata": {},
   "outputs": [
    {
     "data": {
      "text/html": [
       "<div>\n",
       "<style scoped>\n",
       "    .dataframe tbody tr th:only-of-type {\n",
       "        vertical-align: middle;\n",
       "    }\n",
       "\n",
       "    .dataframe tbody tr th {\n",
       "        vertical-align: top;\n",
       "    }\n",
       "\n",
       "    .dataframe thead th {\n",
       "        text-align: right;\n",
       "    }\n",
       "</style>\n",
       "<table border=\"1\" class=\"dataframe\">\n",
       "  <thead>\n",
       "    <tr style=\"text-align: right;\">\n",
       "      <th></th>\n",
       "      <th>gender</th>\n",
       "      <th>race/ethnicity</th>\n",
       "      <th>parental level of education</th>\n",
       "      <th>lunch</th>\n",
       "      <th>test preparation course</th>\n",
       "      <th>math score</th>\n",
       "      <th>reading score</th>\n",
       "      <th>writing score</th>\n",
       "      <th>performance</th>\n",
       "    </tr>\n",
       "  </thead>\n",
       "  <tbody>\n",
       "    <tr>\n",
       "      <th>0</th>\n",
       "      <td>female</td>\n",
       "      <td>group B</td>\n",
       "      <td>bachelor's degree</td>\n",
       "      <td>standard</td>\n",
       "      <td>none</td>\n",
       "      <td>72</td>\n",
       "      <td>72</td>\n",
       "      <td>74</td>\n",
       "      <td>72.666667</td>\n",
       "    </tr>\n",
       "    <tr>\n",
       "      <th>1</th>\n",
       "      <td>female</td>\n",
       "      <td>group C</td>\n",
       "      <td>some college</td>\n",
       "      <td>standard</td>\n",
       "      <td>completed</td>\n",
       "      <td>69</td>\n",
       "      <td>90</td>\n",
       "      <td>88</td>\n",
       "      <td>82.333333</td>\n",
       "    </tr>\n",
       "    <tr>\n",
       "      <th>2</th>\n",
       "      <td>female</td>\n",
       "      <td>group B</td>\n",
       "      <td>master's degree</td>\n",
       "      <td>standard</td>\n",
       "      <td>none</td>\n",
       "      <td>90</td>\n",
       "      <td>95</td>\n",
       "      <td>93</td>\n",
       "      <td>92.666667</td>\n",
       "    </tr>\n",
       "    <tr>\n",
       "      <th>3</th>\n",
       "      <td>male</td>\n",
       "      <td>group A</td>\n",
       "      <td>associate's degree</td>\n",
       "      <td>free/reduced</td>\n",
       "      <td>none</td>\n",
       "      <td>47</td>\n",
       "      <td>57</td>\n",
       "      <td>44</td>\n",
       "      <td>49.333333</td>\n",
       "    </tr>\n",
       "    <tr>\n",
       "      <th>4</th>\n",
       "      <td>male</td>\n",
       "      <td>group C</td>\n",
       "      <td>some college</td>\n",
       "      <td>standard</td>\n",
       "      <td>none</td>\n",
       "      <td>76</td>\n",
       "      <td>78</td>\n",
       "      <td>75</td>\n",
       "      <td>76.333333</td>\n",
       "    </tr>\n",
       "  </tbody>\n",
       "</table>\n",
       "</div>"
      ],
      "text/plain": [
       "   gender race/ethnicity parental level of education         lunch   \n",
       "0  female        group B           bachelor's degree      standard  \\\n",
       "1  female        group C                some college      standard   \n",
       "2  female        group B             master's degree      standard   \n",
       "3    male        group A          associate's degree  free/reduced   \n",
       "4    male        group C                some college      standard   \n",
       "\n",
       "  test preparation course  math score  reading score  writing score   \n",
       "0                    none          72             72             74  \\\n",
       "1               completed          69             90             88   \n",
       "2                    none          90             95             93   \n",
       "3                    none          47             57             44   \n",
       "4                    none          76             78             75   \n",
       "\n",
       "   performance  \n",
       "0    72.666667  \n",
       "1    82.333333  \n",
       "2    92.666667  \n",
       "3    49.333333  \n",
       "4    76.333333  "
      ]
     },
     "execution_count": 3,
     "metadata": {},
     "output_type": "execute_result"
    }
   ],
   "source": [
    "student_data['performance'] = student_data[['math score', 'reading score', 'writing score']].mean(axis=1)\n",
    "student_data.head()"
   ]
  },
  {
   "cell_type": "markdown",
   "id": "bbc05976",
   "metadata": {},
   "source": [
    "## Dowhy can not process catagorical data, so one hot transform is needed"
   ]
  },
  {
   "cell_type": "code",
   "execution_count": 4,
   "id": "1f1999a0",
   "metadata": {},
   "outputs": [],
   "source": [
    "student_data['performance'] = student_data['performance'].apply(lambda x: 1 if x > student_data[\"performance\"].median() else 0)"
   ]
  },
  {
   "cell_type": "code",
   "execution_count": 5,
   "id": "5ddfda66",
   "metadata": {},
   "outputs": [
    {
     "data": {
      "text/html": [
       "<div>\n",
       "<style scoped>\n",
       "    .dataframe tbody tr th:only-of-type {\n",
       "        vertical-align: middle;\n",
       "    }\n",
       "\n",
       "    .dataframe tbody tr th {\n",
       "        vertical-align: top;\n",
       "    }\n",
       "\n",
       "    .dataframe thead th {\n",
       "        text-align: right;\n",
       "    }\n",
       "</style>\n",
       "<table border=\"1\" class=\"dataframe\">\n",
       "  <thead>\n",
       "    <tr style=\"text-align: right;\">\n",
       "      <th></th>\n",
       "      <th>gender</th>\n",
       "      <th>race/ethnicity</th>\n",
       "      <th>parental level of education</th>\n",
       "      <th>lunch</th>\n",
       "      <th>test preparation course</th>\n",
       "      <th>math score</th>\n",
       "      <th>reading score</th>\n",
       "      <th>writing score</th>\n",
       "      <th>performance</th>\n",
       "    </tr>\n",
       "  </thead>\n",
       "  <tbody>\n",
       "    <tr>\n",
       "      <th>0</th>\n",
       "      <td>0</td>\n",
       "      <td>group B</td>\n",
       "      <td>1</td>\n",
       "      <td>0</td>\n",
       "      <td>0</td>\n",
       "      <td>72</td>\n",
       "      <td>72</td>\n",
       "      <td>74</td>\n",
       "      <td>1</td>\n",
       "    </tr>\n",
       "    <tr>\n",
       "      <th>1</th>\n",
       "      <td>0</td>\n",
       "      <td>group C</td>\n",
       "      <td>1</td>\n",
       "      <td>0</td>\n",
       "      <td>1</td>\n",
       "      <td>69</td>\n",
       "      <td>90</td>\n",
       "      <td>88</td>\n",
       "      <td>1</td>\n",
       "    </tr>\n",
       "    <tr>\n",
       "      <th>2</th>\n",
       "      <td>0</td>\n",
       "      <td>group B</td>\n",
       "      <td>1</td>\n",
       "      <td>0</td>\n",
       "      <td>0</td>\n",
       "      <td>90</td>\n",
       "      <td>95</td>\n",
       "      <td>93</td>\n",
       "      <td>1</td>\n",
       "    </tr>\n",
       "    <tr>\n",
       "      <th>3</th>\n",
       "      <td>1</td>\n",
       "      <td>group A</td>\n",
       "      <td>0</td>\n",
       "      <td>1</td>\n",
       "      <td>0</td>\n",
       "      <td>47</td>\n",
       "      <td>57</td>\n",
       "      <td>44</td>\n",
       "      <td>0</td>\n",
       "    </tr>\n",
       "    <tr>\n",
       "      <th>4</th>\n",
       "      <td>1</td>\n",
       "      <td>group C</td>\n",
       "      <td>1</td>\n",
       "      <td>0</td>\n",
       "      <td>0</td>\n",
       "      <td>76</td>\n",
       "      <td>78</td>\n",
       "      <td>75</td>\n",
       "      <td>1</td>\n",
       "    </tr>\n",
       "  </tbody>\n",
       "</table>\n",
       "</div>"
      ],
      "text/plain": [
       "   gender race/ethnicity  parental level of education  lunch   \n",
       "0       0        group B                            1      0  \\\n",
       "1       0        group C                            1      0   \n",
       "2       0        group B                            1      0   \n",
       "3       1        group A                            0      1   \n",
       "4       1        group C                            1      0   \n",
       "\n",
       "   test preparation course  math score  reading score  writing score   \n",
       "0                        0          72             72             74  \\\n",
       "1                        1          69             90             88   \n",
       "2                        0          90             95             93   \n",
       "3                        0          47             57             44   \n",
       "4                        0          76             78             75   \n",
       "\n",
       "   performance  \n",
       "0            1  \n",
       "1            1  \n",
       "2            1  \n",
       "3            0  \n",
       "4            1  "
      ]
     },
     "execution_count": 5,
     "metadata": {},
     "output_type": "execute_result"
    }
   ],
   "source": [
    "student_data['test preparation course'] = student_data['test preparation course'].map({'none': 0, 'completed': 1})\n",
    "student_data['gender'] = student_data['gender'].map({'female': 0, 'male': 1})\n",
    "student_data['lunch'] = student_data['lunch'].map({'standard': 0, 'free/reduced': 1})\n",
    "student_data[\"parental level of education\"] = student_data[\"parental level of education\"].map({\"bachelor's degree\":1,'some college':1,\"master's degree\":1,\"associate's degree\":0, 'high school':0, 'some high school':0 })\n",
    "student_data.head()"
   ]
  },
  {
   "cell_type": "code",
   "execution_count": 6,
   "id": "51965ab8",
   "metadata": {},
   "outputs": [
    {
     "data": {
      "text/plain": [
       "array([1, 0])"
      ]
     },
     "execution_count": 6,
     "metadata": {},
     "output_type": "execute_result"
    }
   ],
   "source": [
    "student_data['parental level of education'].unique()"
   ]
  },
  {
   "cell_type": "markdown",
   "id": "d3259510",
   "metadata": {},
   "source": [
    "## We only consider gender and test preparation course as confounders"
   ]
  },
  {
   "cell_type": "code",
   "execution_count": 7,
   "id": "20c681f9",
   "metadata": {},
   "outputs": [
    {
     "data": {
      "image/png": "[encoded data removed]",
      "text/plain": [
       "<Figure size 800x600 with 1 Axes>"
      ]
     },
     "metadata": {},
     "output_type": "display_data"
    }
   ],
   "source": [
    "model0 = CausalModel(\n",
    "    data=student_data,\n",
    "    treatment='lunch',\n",
    "    outcome='performance',\n",
    "    common_causes=['test preparation course',\"gender\"]\n",
    ")\n",
    "model0.view_model()"
   ]
  },
  {
   "cell_type": "code",
   "execution_count": 8,
   "id": "5101b464",
   "metadata": {},
   "outputs": [
    {
     "name": "stdout",
     "output_type": "stream",
     "text": [
      "Estimand type: nonparametric-ate\n",
      "\n",
      "### Estimand : 1\n",
      "Estimand name: backdoor\n",
      "Estimand expression:\n",
      "   d                                                   \n",
      "────────(E[performance|gender,test preparation course])\n",
      "d[lunch]                                               \n",
      "Estimand assumption 1, Unconfoundedness: If U→{lunch} and U→performance then P(performance|lunch,gender,test preparation course,U) = P(performance|lunch,gender,test preparation course)\n",
      "\n",
      "### Estimand : 2\n",
      "Estimand name: iv\n",
      "No such variable(s) found!\n",
      "\n",
      "### Estimand : 3\n",
      "Estimand name: frontdoor\n",
      "No such variable(s) found!\n",
      "\n"
     ]
    }
   ],
   "source": [
    "identified_estimand = model0.identify_effect(proceed_when_unidentifiable=True)\n",
    "print(identified_estimand)"
   ]
  },
  {
   "cell_type": "code",
   "execution_count": 9,
   "id": "e60f7514",
   "metadata": {},
   "outputs": [
    {
     "name": "stdout",
     "output_type": "stream",
     "text": [
      "propensity_score_stratification\n",
      "*** Causal Estimate ***\n",
      "\n",
      "## Identified estimand\n",
      "Estimand type: nonparametric-ate\n",
      "\n",
      "### Estimand : 1\n",
      "Estimand name: backdoor\n",
      "Estimand expression:\n",
      "   d                                                   \n",
      "────────(E[performance|gender,test preparation course])\n",
      "d[lunch]                                               \n",
      "Estimand assumption 1, Unconfoundedness: If U→{lunch} and U→performance then P(performance|lunch,gender,test preparation course,U) = P(performance|lunch,gender,test preparation course)\n",
      "\n",
      "## Realized estimand\n",
      "b: performance~lunch+gender+test preparation course\n",
      "Target units: ate\n",
      "\n",
      "## Estimate\n",
      "Mean value: -0.23279896714507659\n",
      "\n"
     ]
    }
   ],
   "source": [
    "estimate = model0.estimate_effect(identified_estimand,\n",
    "                                 method_name=\"backdoor.propensity_score_stratification\")\n",
    "print(estimate)"
   ]
  },
  {
   "cell_type": "markdown",
   "id": "2e5a2bf7",
   "metadata": {},
   "source": [
    "## When we consider more outcomes"
   ]
  },
  {
   "cell_type": "code",
   "execution_count": 11,
   "id": "efcf4500",
   "metadata": {},
   "outputs": [
    {
     "data": {
      "image/png": "[encoded data removed]",
      "text/plain": [
       "<Figure size 800x600 with 1 Axes>"
      ]
     },
     "metadata": {},
     "output_type": "display_data"
    }
   ],
   "source": [
    "model1 = CausalModel(\n",
    "    data=student_data,\n",
    "    treatment='lunch',\n",
    "    outcome='performance',\n",
    "    common_causes=['gender', 'test preparation course',\"parental level of education\"]\n",
    ")\n",
    "model1.view_model()"
   ]
  },
  {
   "cell_type": "code",
   "execution_count": 12,
   "id": "1fa0b06e",
   "metadata": {},
   "outputs": [
    {
     "name": "stdout",
     "output_type": "stream",
     "text": [
      "Estimand type: nonparametric-ate\n",
      "\n",
      "### Estimand : 1\n",
      "Estimand name: backdoor\n",
      "Estimand expression:\n",
      "   d                                                                          \n",
      "────────(E[performance|gender,test preparation course,parental level of educat\n",
      "d[lunch]                                                                      \n",
      "\n",
      "     \n",
      "ion])\n",
      "     \n",
      "Estimand assumption 1, Unconfoundedness: If U→{lunch} and U→performance then P(performance|lunch,gender,test preparation course,parental level of education,U) = P(performance|lunch,gender,test preparation course,parental level of education)\n",
      "\n",
      "### Estimand : 2\n",
      "Estimand name: iv\n",
      "No such variable(s) found!\n",
      "\n",
      "### Estimand : 3\n",
      "Estimand name: frontdoor\n",
      "No such variable(s) found!\n",
      "\n"
     ]
    }
   ],
   "source": [
    "identified_estimand = model1.identify_effect(proceed_when_unidentifiable=True)\n",
    "print(identified_estimand)"
   ]
  },
  {
   "cell_type": "code",
   "execution_count": 13,
   "id": "6051ba81",
   "metadata": {},
   "outputs": [
    {
     "name": "stdout",
     "output_type": "stream",
     "text": [
      "propensity_score_stratification\n"
     ]
    }
   ],
   "source": [
    "estimate = model1.estimate_effect(identified_estimand,\n",
    "                                 method_name=\"backdoor.propensity_score_stratification\")"
   ]
  },
  {
   "cell_type": "code",
   "execution_count": 14,
   "id": "fa32329c",
   "metadata": {},
   "outputs": [
    {
     "name": "stdout",
     "output_type": "stream",
     "text": [
      "*** Causal Estimate ***\n",
      "\n",
      "## Identified estimand\n",
      "Estimand type: nonparametric-ate\n",
      "\n",
      "### Estimand : 1\n",
      "Estimand name: backdoor\n",
      "Estimand expression:\n",
      "   d                                                                          \n",
      "────────(E[performance|gender,test preparation course,parental level of educat\n",
      "d[lunch]                                                                      \n",
      "\n",
      "     \n",
      "ion])\n",
      "     \n",
      "Estimand assumption 1, Unconfoundedness: If U→{lunch} and U→performance then P(performance|lunch,gender,test preparation course,parental level of education,U) = P(performance|lunch,gender,test preparation course,parental level of education)\n",
      "\n",
      "## Realized estimand\n",
      "b: performance~lunch+gender+test preparation course+parental level of education\n",
      "Target units: ate\n",
      "\n",
      "## Estimate\n",
      "Mean value: -0.23390292301801996\n",
      "\n"
     ]
    }
   ],
   "source": [
    "print(estimate)"
   ]
  },
  {
   "cell_type": "markdown",
   "id": "42f064b5",
   "metadata": {},
   "source": [
    "## Methods of refuting the estimate obtained"
   ]
  },
  {
   "cell_type": "code",
   "execution_count": 16,
   "id": "1a431b30",
   "metadata": {},
   "outputs": [
    {
     "name": "stdout",
     "output_type": "stream",
     "text": [
      "Refute: Add a random common cause\n",
      "Estimated effect:-0.23390292301801996\n",
      "New effect:-0.23498916402899056\n",
      "p value:0.8600000000000001\n",
      "\n"
     ]
    }
   ],
   "source": [
    "res_random=model1.refute_estimate(identified_estimand, estimate, method_name=\"random_common_cause\")\n",
    "print(res_random)"
   ]
  },
  {
   "cell_type": "markdown",
   "id": "3776fb06",
   "metadata": {},
   "source": [
    "### Explain"
   ]
  },
  {
   "cell_type": "markdown",
   "id": "68409ba6",
   "metadata": {},
   "source": [
    "Based on the results, I performed a \"refute\" analysis by Adding a random common cause. The estimated effect is -0.23390292301801996, and the new effect after using the subset is -0.0.23498916402899056(This indicates the effect obtained when Adding a random common cause). They are pretty close. Moreover, the p-value is reported as 0.86, suggestiing here is no strong evidence to support the claim that the new effect is significantly different from the estimated effect."
   ]
  },
  {
   "cell_type": "code",
   "execution_count": 17,
   "id": "2f95d930",
   "metadata": {},
   "outputs": [
    {
     "name": "stdout",
     "output_type": "stream",
     "text": [
      "Refute: Use a subset of data\n",
      "Estimated effect:-0.23390292301801996\n",
      "New effect:-0.23253346422602977\n",
      "p value:0.88\n",
      "\n"
     ]
    }
   ],
   "source": [
    "res_subset=model1.refute_estimate(identified_estimand, estimate,\n",
    "        method_name=\"data_subset_refuter\", subset_fraction=0.9)\n",
    "print(res_subset)"
   ]
  },
  {
   "cell_type": "markdown",
   "id": "1f9440e0",
   "metadata": {},
   "source": [
    "### Explaination"
   ]
  },
  {
   "cell_type": "markdown",
   "id": "c5f44cb0",
   "metadata": {},
   "source": [
    "Based on the results, I performed a \"refute\" analysis using a subset of the data. The estimated effect is -0.23390292301801996, and the new effect after using the subset is -0.23253346422602977(This indicates the effect obtained when considering only a portion of the data). They are pretty close. Moreover, the p-value is reported as 0.88, suggestiing here is no strong evidence to support the claim that the new effect is significantly different from the estimated effect."
   ]
  },
  {
   "cell_type": "markdown",
   "id": "44729300",
   "metadata": {},
   "source": [
    "From the results, such way of estimator is good, because it pass the significant test. "
   ]
  },
  {
   "cell_type": "markdown",
   "id": "e1a240c8",
   "metadata": {},
   "source": [
    "## conclusion"
   ]
  },
  {
   "cell_type": "markdown",
   "id": "56b78c96",
   "metadata": {},
   "source": [
    "According to our estimator results, lunch type of (free/reduced) do have negaitive effect on how the students perform the exam.  Recall that our method in this project by backdoor do calculus have 95% range [-0.31, -0.20], and backdoor estimator by linear regression has 95% range [-0.28, -0.17]. So I think this is a pretty good result and I think we can apply such library here. "
   ]
  }
 ],
 "metadata": {
  "kernelspec": {
   "display_name": "Python 3 (ipykernel)",
   "language": "python",
   "name": "python3"
  },
  "language_info": {
   "codemirror_mode": {
    "name": "ipython",
    "version": 3
   },
   "file_extension": ".py",
   "mimetype": "text/x-python",
   "name": "python",
   "nbconvert_exporter": "python",
   "pygments_lexer": "ipython3",
   "version": "3.9.16"
  }
 },
 "nbformat": 4,
 "nbformat_minor": 5
}
