{
 "cells": [
  {
   "cell_type": "code",
   "execution_count": 517,
   "id": "c3499289",
   "metadata": {},
   "outputs": [],
   "source": [
    "import pandas as pd\n",
    "plt.style.use('tableau-colorblind10')"
   ]
  },
  {
   "cell_type": "code",
   "execution_count": 518,
   "id": "2fdc4ea6",
   "metadata": {},
   "outputs": [
    {
     "data": {
      "text/html": [
       "<div>\n",
       "<style scoped>\n",
       "    .dataframe tbody tr th:only-of-type {\n",
       "        vertical-align: middle;\n",
       "    }\n",
       "\n",
       "    .dataframe tbody tr th {\n",
       "        vertical-align: top;\n",
       "    }\n",
       "\n",
       "    .dataframe thead th {\n",
       "        text-align: right;\n",
       "    }\n",
       "</style>\n",
       "<table border=\"1\" class=\"dataframe\">\n",
       "  <thead>\n",
       "    <tr style=\"text-align: right;\">\n",
       "      <th></th>\n",
       "      <th>POPULATION</th>\n",
       "      <th>POPULATION_DENSITY</th>\n",
       "      <th>RURAL_POPULATION_PERCENTAGE</th>\n",
       "      <th>RURAL_POPULATION_DENSITY</th>\n",
       "      <th>MALE_FEMALE_RATIO</th>\n",
       "      <th>WHITE_ALONE</th>\n",
       "      <th>BLACK_ALONE</th>\n",
       "      <th>AMERICAN_INDIAN_ALASKA_NATIVE_ALONE</th>\n",
       "      <th>ASIAN_ALONE</th>\n",
       "      <th>NATIVE_HAWAIIAN_PACIFIC_ISLANDER_ALONE</th>\n",
       "      <th>...</th>\n",
       "      <th>MEDIAN_INCOME</th>\n",
       "      <th>POVERTY_RATE</th>\n",
       "      <th>DEMOCRAT_PERCENTAGE</th>\n",
       "      <th>REPUBLICAN_PERCENTAGE</th>\n",
       "      <th>OBESITY_RATE</th>\n",
       "      <th>SMOKING_RATE</th>\n",
       "      <th>DRUG_OVERDOSE_DEATH_RATE</th>\n",
       "      <th>PRECIPITATION</th>\n",
       "      <th>TOTAL_ACCIDENTS</th>\n",
       "      <th>DRUNK_DRIVING_PERCENTAGE</th>\n",
       "    </tr>\n",
       "  </thead>\n",
       "  <tbody>\n",
       "    <tr>\n",
       "      <th>0</th>\n",
       "      <td>0.001629</td>\n",
       "      <td>188.536533</td>\n",
       "      <td>0.032291</td>\n",
       "      <td>7.990649</td>\n",
       "      <td>104.895000</td>\n",
       "      <td>60.739427</td>\n",
       "      <td>14.807821</td>\n",
       "      <td>2.460794</td>\n",
       "      <td>8.819452</td>\n",
       "      <td>0.010000</td>\n",
       "      <td>...</td>\n",
       "      <td>32463.914002</td>\n",
       "      <td>1.701977</td>\n",
       "      <td>54.887154</td>\n",
       "      <td>28.972410</td>\n",
       "      <td>39.727870</td>\n",
       "      <td>14.673271</td>\n",
       "      <td>99.900000</td>\n",
       "      <td>38.537022</td>\n",
       "      <td>13.603062</td>\n",
       "      <td>9.027207</td>\n",
       "    </tr>\n",
       "    <tr>\n",
       "      <th>1</th>\n",
       "      <td>0.004568</td>\n",
       "      <td>0.100000</td>\n",
       "      <td>0.011869</td>\n",
       "      <td>56.230687</td>\n",
       "      <td>97.858856</td>\n",
       "      <td>98.436834</td>\n",
       "      <td>0.010000</td>\n",
       "      <td>1.580469</td>\n",
       "      <td>66.618515</td>\n",
       "      <td>0.097852</td>\n",
       "      <td>...</td>\n",
       "      <td>47608.501369</td>\n",
       "      <td>3.581751</td>\n",
       "      <td>32.796780</td>\n",
       "      <td>33.609767</td>\n",
       "      <td>46.973692</td>\n",
       "      <td>14.229877</td>\n",
       "      <td>6.965160</td>\n",
       "      <td>88.651651</td>\n",
       "      <td>50.464376</td>\n",
       "      <td>26.229567</td>\n",
       "    </tr>\n",
       "    <tr>\n",
       "      <th>2</th>\n",
       "      <td>0.800408</td>\n",
       "      <td>999.000000</td>\n",
       "      <td>0.020898</td>\n",
       "      <td>36.496362</td>\n",
       "      <td>104.895000</td>\n",
       "      <td>74.624715</td>\n",
       "      <td>0.010000</td>\n",
       "      <td>0.010000</td>\n",
       "      <td>4.170625</td>\n",
       "      <td>0.424334</td>\n",
       "      <td>...</td>\n",
       "      <td>56322.183175</td>\n",
       "      <td>2.651653</td>\n",
       "      <td>37.715517</td>\n",
       "      <td>37.275346</td>\n",
       "      <td>43.374924</td>\n",
       "      <td>9.100637</td>\n",
       "      <td>31.960733</td>\n",
       "      <td>43.010389</td>\n",
       "      <td>12.010000</td>\n",
       "      <td>15.838133</td>\n",
       "    </tr>\n",
       "    <tr>\n",
       "      <th>3</th>\n",
       "      <td>2.822161</td>\n",
       "      <td>510.634838</td>\n",
       "      <td>17.065325</td>\n",
       "      <td>99.957909</td>\n",
       "      <td>101.611398</td>\n",
       "      <td>64.416833</td>\n",
       "      <td>3.554620</td>\n",
       "      <td>0.010000</td>\n",
       "      <td>0.010000</td>\n",
       "      <td>1.432343</td>\n",
       "      <td>...</td>\n",
       "      <td>28074.760879</td>\n",
       "      <td>2.577355</td>\n",
       "      <td>34.461998</td>\n",
       "      <td>39.989110</td>\n",
       "      <td>38.251403</td>\n",
       "      <td>11.956131</td>\n",
       "      <td>99.900000</td>\n",
       "      <td>50.250622</td>\n",
       "      <td>29.090148</td>\n",
       "      <td>11.268868</td>\n",
       "    </tr>\n",
       "    <tr>\n",
       "      <th>4</th>\n",
       "      <td>5.042789</td>\n",
       "      <td>0.100000</td>\n",
       "      <td>0.034675</td>\n",
       "      <td>5.877269</td>\n",
       "      <td>99.690018</td>\n",
       "      <td>80.366648</td>\n",
       "      <td>6.901976</td>\n",
       "      <td>1.685286</td>\n",
       "      <td>0.116342</td>\n",
       "      <td>0.720658</td>\n",
       "      <td>...</td>\n",
       "      <td>41707.121227</td>\n",
       "      <td>2.275618</td>\n",
       "      <td>45.124522</td>\n",
       "      <td>30.088506</td>\n",
       "      <td>38.331628</td>\n",
       "      <td>9.132512</td>\n",
       "      <td>5.975314</td>\n",
       "      <td>97.429530</td>\n",
       "      <td>18.845805</td>\n",
       "      <td>29.343376</td>\n",
       "    </tr>\n",
       "  </tbody>\n",
       "</table>\n",
       "<p>5 rows × 23 columns</p>\n",
       "</div>"
      ],
      "text/plain": [
       "   POPULATION  POPULATION_DENSITY  RURAL_POPULATION_PERCENTAGE   \n",
       "0    0.001629          188.536533                     0.032291  \\\n",
       "1    0.004568            0.100000                     0.011869   \n",
       "2    0.800408          999.000000                     0.020898   \n",
       "3    2.822161          510.634838                    17.065325   \n",
       "4    5.042789            0.100000                     0.034675   \n",
       "\n",
       "   RURAL_POPULATION_DENSITY  MALE_FEMALE_RATIO  WHITE_ALONE  BLACK_ALONE   \n",
       "0                  7.990649         104.895000    60.739427    14.807821  \\\n",
       "1                 56.230687          97.858856    98.436834     0.010000   \n",
       "2                 36.496362         104.895000    74.624715     0.010000   \n",
       "3                 99.957909         101.611398    64.416833     3.554620   \n",
       "4                  5.877269          99.690018    80.366648     6.901976   \n",
       "\n",
       "   AMERICAN_INDIAN_ALASKA_NATIVE_ALONE  ASIAN_ALONE   \n",
       "0                             2.460794     8.819452  \\\n",
       "1                             1.580469    66.618515   \n",
       "2                             0.010000     4.170625   \n",
       "3                             0.010000     0.010000   \n",
       "4                             1.685286     0.116342   \n",
       "\n",
       "   NATIVE_HAWAIIAN_PACIFIC_ISLANDER_ALONE  ...  MEDIAN_INCOME  POVERTY_RATE   \n",
       "0                                0.010000  ...   32463.914002      1.701977  \\\n",
       "1                                0.097852  ...   47608.501369      3.581751   \n",
       "2                                0.424334  ...   56322.183175      2.651653   \n",
       "3                                1.432343  ...   28074.760879      2.577355   \n",
       "4                                0.720658  ...   41707.121227      2.275618   \n",
       "\n",
       "   DEMOCRAT_PERCENTAGE  REPUBLICAN_PERCENTAGE  OBESITY_RATE  SMOKING_RATE   \n",
       "0            54.887154              28.972410     39.727870     14.673271  \\\n",
       "1            32.796780              33.609767     46.973692     14.229877   \n",
       "2            37.715517              37.275346     43.374924      9.100637   \n",
       "3            34.461998              39.989110     38.251403     11.956131   \n",
       "4            45.124522              30.088506     38.331628      9.132512   \n",
       "\n",
       "   DRUG_OVERDOSE_DEATH_RATE  PRECIPITATION  TOTAL_ACCIDENTS   \n",
       "0                 99.900000      38.537022        13.603062  \\\n",
       "1                  6.965160      88.651651        50.464376   \n",
       "2                 31.960733      43.010389        12.010000   \n",
       "3                 99.900000      50.250622        29.090148   \n",
       "4                  5.975314      97.429530        18.845805   \n",
       "\n",
       "   DRUNK_DRIVING_PERCENTAGE  \n",
       "0                  9.027207  \n",
       "1                 26.229567  \n",
       "2                 15.838133  \n",
       "3                 11.268868  \n",
       "4                 29.343376  \n",
       "\n",
       "[5 rows x 23 columns]"
      ]
     },
     "execution_count": 518,
     "metadata": {},
     "output_type": "execute_result"
    }
   ],
   "source": [
    "df = pd.read_csv(\"raw-census-tracts-dataset_clean.csv\")\n",
    "df = df.drop(columns=[\"Unnamed: 0.1\",\"Unnamed: 0\"], axis=1)\n",
    "df.head()"
   ]
  },
  {
   "cell_type": "code",
   "execution_count": 665,
   "id": "f73e3be7",
   "metadata": {},
   "outputs": [
    {
     "name": "stdout",
     "output_type": "stream",
     "text": [
      "Mean Squared Error: 50.7639777259023\n",
      "R-squared score: 0.3143323001672724\n"
     ]
    }
   ],
   "source": [
    "from sklearn.linear_model import LinearRegression\n",
    "from sklearn.metrics import mean_squared_error\n",
    "from sklearn.metrics import r2_score\n",
    "X = df.drop(['DRUNK_DRIVING_PERCENTAGE'], axis=1)\n",
    "y = df['DRUNK_DRIVING_PERCENTAGE']\n",
    "\n",
    "X_train, X_test, y_train, y_test = train_test_split(X, y, test_size=0.2, random_state=42)\n",
    "\n",
    "model = LinearRegression()\n",
    "model.fit(X_train, y_train)\n",
    "y_pred = model.predict(X_test)\n",
    "mse = mean_squared_error(y_test, y_pred)\n",
    "error = y_test - y_pred\n",
    "print('Mean Squared Error:', mse)\n",
    "r2 = r2_score(y_test, y_pred)\n",
    "print('R-squared score:', r2)"
   ]
  },
  {
   "cell_type": "code",
   "execution_count": 520,
   "id": "2e8a29df",
   "metadata": {},
   "outputs": [
    {
     "data": {
      "image/png": "[encoded data removed]",
      "text/plain": [
       "<Figure size 640x480 with 1 Axes>"
      ]
     },
     "metadata": {},
     "output_type": "display_data"
    }
   ],
   "source": [
    "from scipy.stats import norm\n",
    "import matplotlib.pyplot as plt\n",
    "\n",
    "# Compute mean and standard deviation of the errors\n",
    "mean_error = np.mean(error)\n",
    "std_error = np.std(error)\n",
    "\n",
    "fig, ax = plt.subplots(figsize=(8, 6))\n",
    "\n",
    "# Plot the histogram of errors\n",
    "ax.hist(error, density=True, alpha=0.7, color='#6495ED', label='Error', bins=50)\n",
    "\n",
    "# Overlay the normal distribution PDF\n",
    "x = np.linspace(np.min(error), np.max(error), 100)\n",
    "y = norm.pdf(x, loc=mean_error, scale=std_error)\n",
    "ax.plot(x, y, label='Normal-Fit', linewidth=2, color='#FF6347')\n",
    "\n",
    "# Set axis labels and title\n",
    "ax.set_xlabel('Error', fontsize=14)\n",
    "ax.set_ylabel('Density', fontsize=14)\n",
    "ax.set_title('Histogram of Linear Model Errors', fontsize=14, fontweight='bold')\n",
    "\n",
    "# Add gridlines\n",
    "ax.grid(axis='y', linestyle='--', alpha=0.5)\n",
    "\n",
    "# Add legend\n",
    "ax.legend(fontsize=15)\n",
    "\n",
    "# Remove top and right spines\n",
    "ax.spines['top'].set_visible(False)\n",
    "ax.spines['right'].set_visible(False)\n",
    "\n",
    "# Adjust tick parameters\n",
    "ax.tick_params(axis='both', which='both', labelsize=15, length=0)\n",
    "ax.text(25, 0.03, r\"$\\mu = %.3f, \\sigma = %.3f$\"%(mean_error, std_error), fontsize=14)\n",
    "# Save the figure\n",
    "plt.savefig('pic/1.png', dpi=300, bbox_inches='tight')\n",
    "\n",
    "# Display the plot\n",
    "plt.show()"
   ]
  },
  {
   "cell_type": "markdown",
   "id": "e847c282",
   "metadata": {},
   "source": [
    "An R-squared score of 0.2988 means that the linear regression model explains about 30% of the variation in the target variable, percentage of drunk driving accidents. While this is not a very high value, it is still better than randomly guessing the target variable. However, it also suggests that there may be other important factors that are not included in the current set of predictor variables that could improve the performance of the model. In general, an R-squared score of 0.3 is considered to be a weak fit, but it can still provide some useful insights into the relationship between the predictor variables and the target variable."
   ]
  },
  {
   "cell_type": "code",
   "execution_count": 524,
   "id": "fc6edd66",
   "metadata": {},
   "outputs": [
    {
     "data": {
      "image/png": "[encoded data removed]",
      "text/plain": [
       "<Figure size 640x480 with 1 Axes>"
      ]
     },
     "metadata": {},
     "output_type": "display_data"
    },
    {
     "name": "stdout",
     "output_type": "stream",
     "text": [
      "Correlation coefficient: 0.5607623091108129\n"
     ]
    }
   ],
   "source": [
    "import numpy as np\n",
    "import matplotlib.pyplot as plt\n",
    "\n",
    "# Make a histogram of the predicted drunk driving percentages\n",
    "plt.hist(y_pred, bins=40, alpha=0.7, color='blue',histtype=\"step\", label='Predicted')\n",
    "plt.hist(y_test, bins=60, alpha=0.7, color='red',histtype=\"step\", label='Actual')\n",
    "\n",
    "# Set axis labels and title\n",
    "plt.xlabel('Percentage of Fatal Accidents Involving Drunk Driving')\n",
    "plt.ylabel('Number of States')\n",
    "plt.title('Comparison of Actual vs. Predicted on Test Set',fontsize=14, fontweight='bold')\n",
    "\n",
    "# Add legend\n",
    "plt.legend(loc='upper right')\n",
    "\n",
    "# Remove top and right spines\n",
    "plt.gca().spines['top'].set_visible(False)\n",
    "plt.gca().spines['right'].set_visible(False)\n",
    "\n",
    "# Add gridlines\n",
    "plt.grid(axis='y', linestyle='--', alpha=0.5)\n",
    "\n",
    "# Save the figure\n",
    "plt.savefig('pic/2.png', dpi=300, bbox_inches='tight')\n",
    "\n",
    "# Display the plot\n",
    "plt.show()\n",
    "\n",
    "# Compute the correlation coefficient between the predicted and actual values\n",
    "corr_coef = np.corrcoef(y_test, y_pred)[0, 1]\n",
    "print('Correlation coefficient:', corr_coef)"
   ]
  },
  {
   "cell_type": "markdown",
   "id": "7fc2f5a2",
   "metadata": {},
   "source": [
    "A correlation coefficient of 0.56076 indicates a moderate positive correlation between the predictor variables and the target variable, percentage of drunk driving accidents. This means that as the predictor variables increase, the target variable also tends to increase, but the relationship is not very strong. A correlation coefficient of 1 indicates a perfect positive correlation, while a value of 0 indicates no correlation and a value of -1 indicates a perfect negative correlation."
   ]
  },
  {
   "cell_type": "code",
   "execution_count": 412,
   "id": "0a95c6d4",
   "metadata": {},
   "outputs": [
    {
     "name": "stdout",
     "output_type": "stream",
     "text": [
      "Lasso - Best alpha: 0.01\n",
      "Lasso - R2: 0.2922448553637321\n",
      "Ridge - Best alpha: 100\n",
      "Ridge - R2: 0.29223191903476897\n"
     ]
    }
   ],
   "source": [
    "from sklearn.linear_model import Lasso, Ridge\n",
    "from sklearn.model_selection import GridSearchCV\n",
    "from sklearn.ensemble import RandomForestRegressor\n",
    "from sklearn.model_selection import train_test_split\n",
    "\n",
    "lasso = Lasso()\n",
    "\n",
    "ridge = Ridge()\n",
    "\n",
    "lasso_param_grid = {'alpha': [0.001, 0.01, 0.1, 1, 10]}\n",
    "\n",
    "ridge_param_grid = {'alpha': [0.001, 0.01, 0.1, 1, 10, 50, 100, 150, 250, 500]}\n",
    "\n",
    "lasso_cv = GridSearchCV(lasso, lasso_param_grid, cv=5)\n",
    "lasso_cv.fit(X_train, y_train)\n",
    "\n",
    "ridge_cv = GridSearchCV(ridge, ridge_param_grid, cv=5)\n",
    "ridge_cv.fit(X_train, y_train)\n",
    "\n",
    "print('Lasso - Best alpha:', lasso_cv.best_params_['alpha'])\n",
    "print('Lasso - R2:', lasso_cv.best_score_)\n",
    "\n",
    "print('Ridge - Best alpha:', ridge_cv.best_params_['alpha'])\n",
    "print('Ridge - R2:', ridge_cv.best_score_)"
   ]
  },
  {
   "cell_type": "code",
   "execution_count": 417,
   "id": "876b3279",
   "metadata": {},
   "outputs": [
    {
     "data": {
      "text/plain": [
       "50.763568958162345"
      ]
     },
     "execution_count": 417,
     "metadata": {},
     "output_type": "execute_result"
    }
   ],
   "source": [
    "y_pred = lasso_cv.predict(X_test)\n",
    "mse_lasso = mean_squared_error(y_test, y_pred)\n",
    "\n",
    "mse_lasso"
   ]
  },
  {
   "cell_type": "code",
   "execution_count": 418,
   "id": "65bfe81c",
   "metadata": {},
   "outputs": [
    {
     "data": {
      "text/plain": [
       "50.76325005143106"
      ]
     },
     "execution_count": 418,
     "metadata": {},
     "output_type": "execute_result"
    }
   ],
   "source": [
    "y_pred = ridge_cv.predict(X_test)\n",
    "mse_ridge = mean_squared_error(y_test, y_pred)\n",
    "\n",
    "mse_ridge"
   ]
  },
  {
   "cell_type": "code",
   "execution_count": 666,
   "id": "c99bd894",
   "metadata": {},
   "outputs": [
    {
     "name": "stdout",
     "output_type": "stream",
     "text": [
      "Random forest MSE: 46.293943263513356\n"
     ]
    }
   ],
   "source": [
    "from sklearn.ensemble import RandomForestRegressor\n",
    "from sklearn.model_selection import train_test_split\n",
    "from sklearn.metrics import mean_squared_error\n",
    "\n",
    "\n",
    "X_train, X_test, y_train, y_test = train_test_split(X, y, test_size=0.2, random_state=42)\n",
    "\n",
    "model_rf = RandomForestRegressor(n_estimators=300, random_state=42, max_depth = 20, min_samples_split = 2)\n",
    "model_rf.fit(X_train, y_train)\n",
    "\n",
    "y_pred_rf = model_rf.predict(X_test)\n",
    "mse_rf = mean_squared_error(y_test, y_pred_rf)\n",
    "print('Random forest MSE:', mse_rf)"
   ]
  },
  {
   "cell_type": "code",
   "execution_count": 432,
   "id": "73d8ea0c",
   "metadata": {},
   "outputs": [
    {
     "data": {
      "text/plain": [
       "torch.Size([4000, 1])"
      ]
     },
     "execution_count": 432,
     "metadata": {},
     "output_type": "execute_result"
    }
   ],
   "source": [
    "y_test.shape"
   ]
  },
  {
   "cell_type": "code",
   "execution_count": 530,
   "id": "12437858",
   "metadata": {},
   "outputs": [
    {
     "data": {
      "image/png": "[encoded data removed]",
      "text/plain": [
       "<Figure size 640x480 with 1 Axes>"
      ]
     },
     "metadata": {},
     "output_type": "display_data"
    },
    {
     "name": "stdout",
     "output_type": "stream",
     "text": [
      "Correlation coefficient: 0.6157234943427137\n"
     ]
    }
   ],
   "source": [
    "# Make a histogram of the predicted drunk driving percentages\n",
    "# Make a histogram of the predicted drunk driving percentages\n",
    "plt.hist(y_pred_rf, bins=40, alpha=0.7, color='red',histtype=\"step\", label='Predicted')\n",
    "plt.hist(y_test, bins=40, alpha=0.7, color='blue', histtype=\"step\",label='Actual')\n",
    "\n",
    "# Set axis labels and title\n",
    "plt.xlabel('Percentage of Fatal Accidents Involving Drunk Driving',fontsize=14)\n",
    "plt.ylabel('Number of States',fontsize=14)\n",
    "plt.title('Actual vs. Predicted on Test Set Random Forest',fontsize=14, fontweight='bold')\n",
    "\n",
    "# Add legend\n",
    "plt.legend(loc='upper right')\n",
    "\n",
    "# Remove top and right spines\n",
    "plt.gca().spines['top'].set_visible(False)\n",
    "plt.gca().spines['right'].set_visible(False)\n",
    "\n",
    "# Add gridlines\n",
    "plt.grid(axis='y', linestyle='--', alpha=0.5)\n",
    "\n",
    "# Save the figure\n",
    "plt.savefig('pic/3.png', dpi=300, bbox_inches='tight')\n",
    "\n",
    "# Display the plot\n",
    "plt.show()\n",
    "\n",
    "# Compute the correlation coefficient between the predicted and actual values\n",
    "corr_coef = np.corrcoef(y_test, y_pred_rf)[0, 1]\n",
    "print('Correlation coefficient:', corr_coef)"
   ]
  },
  {
   "cell_type": "code",
   "execution_count": 667,
   "id": "1cda5757",
   "metadata": {},
   "outputs": [
    {
     "data": {
      "image/png": "[encoded data removed]",
      "text/plain": [
       "<Figure size 640x480 with 1 Axes>"
      ]
     },
     "metadata": {},
     "output_type": "display_data"
    }
   ],
   "source": [
    "error = y_test - y_pred_rf\n",
    "# Compute mean and standard deviation of the errors\n",
    "mean_error = np.mean(error)\n",
    "std_error = np.std(error)\n",
    "\n",
    "fig, ax = plt.subplots(figsize=(8, 6))\n",
    "\n",
    "# Plot the histogram of errors\n",
    "ax.hist(error, density=True, alpha=0.7, color='#6495ED', label='Error', bins=50)\n",
    "\n",
    "# Overlay the normal distribution PDF\n",
    "x = np.linspace(np.min(error), np.max(error), 100)\n",
    "y = norm.pdf(x, loc=mean_error, scale=std_error)\n",
    "ax.plot(x, y, label='Normal-Fit', linewidth=2, color='#FF6347')\n",
    "\n",
    "# Set axis labels and title\n",
    "ax.set_xlabel('Error', fontsize=14)\n",
    "ax.set_ylabel('Density', fontsize=14)\n",
    "ax.set_title('Random Forest Model Errors', fontsize=14, fontweight='bold')\n",
    "\n",
    "# Add gridlines\n",
    "ax.grid(axis='y', linestyle='--', alpha=0.5)\n",
    "\n",
    "# Add legend\n",
    "ax.legend(fontsize=14)\n",
    "\n",
    "# Remove top and right spines\n",
    "ax.spines['top'].set_visible(False)\n",
    "ax.spines['right'].set_visible(False)\n",
    "\n",
    "# Adjust tick parameters\n",
    "ax.tick_params(axis='both', which='both', labelsize=14, length=0)\n",
    "ax.text(25, 0.03, r\"$\\mu = %.3f, \\sigma = %.3f$\"%(mean_error, std_error),fontsize=13)\n",
    "# Save the figure\n",
    "plt.savefig('pic/4.png', dpi=300, bbox_inches='tight')\n",
    "\n",
    "# Display the plot\n",
    "plt.show()"
   ]
  },
  {
   "cell_type": "code",
   "execution_count": 437,
   "id": "da2a37d4",
   "metadata": {},
   "outputs": [
    {
     "name": "stdout",
     "output_type": "stream",
     "text": [
      "Random forest MSE: 46.51896262806983\n"
     ]
    }
   ],
   "source": [
    "model_rf = RandomForestRegressor(n_estimators=200, random_state=123)\n",
    "model_rf.fit(X_train, y_train)\n",
    "\n",
    "y_pred_rf = model_rf.predict(X_test)\n",
    "mse_rf = mean_squared_error(y_test, y_pred_rf)\n",
    "print('Random forest MSE:', mse_rf)"
   ]
  },
  {
   "cell_type": "code",
   "execution_count": 375,
   "id": "5fa26121",
   "metadata": {},
   "outputs": [
    {
     "name": "stdout",
     "output_type": "stream",
     "text": [
      "Best Parameters: {'max_depth': 20, 'min_samples_split': 2, 'n_estimators': 300}\n",
      "Random Forest MSE: 46.293943263513356\n"
     ]
    }
   ],
   "source": [
    "from sklearn.ensemble import RandomForestRegressor\n",
    "from sklearn.model_selection import GridSearchCV\n",
    "\n",
    "# Define the parameter grid for GridSearchCV\n",
    "param_grid = {\n",
    "    'n_estimators': [100, 200, 300],\n",
    "    'max_depth': [None, 5, 10, 20],\n",
    "    'min_samples_split': [2, 5, 10, 20]\n",
    "}\n",
    "\n",
    "# Create a Random Forest Regressor model\n",
    "model_rf = RandomForestRegressor(random_state=42)\n",
    "\n",
    "# Create a GridSearchCV instance\n",
    "grid_search = GridSearchCV(estimator=model_rf, param_grid=param_grid, cv=5, scoring='neg_mean_squared_error')\n",
    "\n",
    "# Perform grid search on the training data\n",
    "grid_search.fit(X_train, y_train)\n",
    "\n",
    "# Get the best model and its hyperparameters\n",
    "best_model_rf = grid_search.best_estimator_\n",
    "best_params_rf = grid_search.best_params_\n",
    "\n",
    "# Print the best parameters found\n",
    "print('Best Parameters:', best_params_rf)\n",
    "\n",
    "# Make predictions using the best model\n",
    "y_pred_rf = best_model_rf.predict(X_test)\n",
    "\n",
    "# Compute the mean squared error using the best model\n",
    "mse_rf = mean_squared_error(y_test, y_pred_rf)\n",
    "print('Random Forest MSE:', mse_rf)"
   ]
  },
  {
   "cell_type": "markdown",
   "id": "1aefd0df",
   "metadata": {},
   "source": [
    "# NN"
   ]
  },
  {
   "cell_type": "code",
   "execution_count": 1031,
   "id": "fb510170",
   "metadata": {},
   "outputs": [],
   "source": [
    "import torch\n",
    "import torch.nn as nn\n",
    "import torch.optim as optim\n",
    "from torch.utils.data import Dataset, DataLoader"
   ]
  },
  {
   "cell_type": "code",
   "execution_count": 1032,
   "id": "d4a4cba1",
   "metadata": {},
   "outputs": [],
   "source": [
    "X = df.drop(['DRUNK_DRIVING_PERCENTAGE'], axis=1)\n",
    "y = df['DRUNK_DRIVING_PERCENTAGE']"
   ]
  },
  {
   "cell_type": "code",
   "execution_count": 1033,
   "id": "a0b3f131",
   "metadata": {},
   "outputs": [],
   "source": [
    "X = torch.tensor(X.values, dtype=torch.float32)\n",
    "y = torch.tensor(y, dtype=torch.float32).reshape(-1, 1)"
   ]
  },
  {
   "cell_type": "code",
   "execution_count": 263,
   "id": "a39745c1",
   "metadata": {},
   "outputs": [
    {
     "data": {
      "text/plain": [
       "torch.Size([20000, 22])"
      ]
     },
     "execution_count": 263,
     "metadata": {},
     "output_type": "execute_result"
    }
   ],
   "source": [
    "X.shape"
   ]
  },
  {
   "cell_type": "code",
   "execution_count": 264,
   "id": "8bc4f58c",
   "metadata": {},
   "outputs": [
    {
     "data": {
      "text/plain": [
       "torch.Size([20000, 1])"
      ]
     },
     "execution_count": 264,
     "metadata": {},
     "output_type": "execute_result"
    }
   ],
   "source": [
    "y.shape"
   ]
  },
  {
   "cell_type": "code",
   "execution_count": 1034,
   "id": "1c52e99a",
   "metadata": {},
   "outputs": [],
   "source": [
    "X_train, X_test, y_train, y_test = train_test_split(X, y, test_size=0.2, random_state=415)"
   ]
  },
  {
   "cell_type": "code",
   "execution_count": 1035,
   "id": "afa61973",
   "metadata": {},
   "outputs": [],
   "source": [
    "loader = DataLoader(list(zip(X,y)), shuffle=True, batch_size=100)"
   ]
  },
  {
   "cell_type": "code",
   "execution_count": 1036,
   "id": "ffc0ee3f",
   "metadata": {},
   "outputs": [],
   "source": [
    "class NeuralNet(nn.Module):\n",
    "    def __init__(self, input_size = 22, hidden_size = 64, num_classes = 1):\n",
    "        super(NeuralNet, self).__init__()\n",
    "        self.fc1 = nn.Linear(input_size, hidden_size) \n",
    "        self.sigmoid = nn.Sigmoid()\n",
    "        self.fc2 = nn.Linear(hidden_size, num_classes)  \n",
    "    \n",
    "    def forward(self, x):\n",
    "        out = self.fc1(x)\n",
    "        out = self.sigmoid(out)\n",
    "        out = self.fc2(out)\n",
    "        return out"
   ]
  },
  {
   "cell_type": "code",
   "execution_count": 1037,
   "id": "7102a728",
   "metadata": {
    "scrolled": true
   },
   "outputs": [],
   "source": [
    "torch.manual_seed(123)\n",
    "model = NeuralNet()\n",
    "criterion = nn.MSELoss()\n",
    "optimizer = optim.SGD(model.parameters(), lr=0.01)\n",
    "losses = []\n",
    "test_losses = []\n",
    "for epoch in range(50):\n",
    "    #for X_batch, y_batch in loader:\n",
    "    optimizer.zero_grad()\n",
    "\n",
    "    outputs = model(X_train)\n",
    "    loss = criterion(outputs, y_train)\n",
    "    loss.backward()\n",
    "    optimizer.step()\n",
    "    losses.append(loss.item())\n",
    "    with torch.no_grad():\n",
    "            y_pred_test = model(X_test)\n",
    "            test_mse = criterion(y_pred_test, y_test)\n",
    "            test_losses.append(test_mse)"
   ]
  },
  {
   "cell_type": "code",
   "execution_count": 919,
   "id": "4c457223",
   "metadata": {},
   "outputs": [
    {
     "data": {
      "image/png": "[encoded data removed]",
      "text/plain": [
       "<Figure size 640x320 with 1 Axes>"
      ]
     },
     "metadata": {},
     "output_type": "display_data"
    }
   ],
   "source": [
    "import matplotlib.pyplot as plt\n",
    "\n",
    "# Set the figure size\n",
    "fig, ax = plt.subplots(figsize=(8, 4))\n",
    "\n",
    "# Plot the losses\n",
    "ax.plot(losses, color='#6495ED', linewidth=1, linestyle='-', label='Train Loss')\n",
    "ax.plot(test_losses, color='red', linewidth=2, alpha=0.5, linestyle='--', label='Test Loss')\n",
    "\n",
    "# Add labels and title\n",
    "ax.set_xlabel('Epoch', fontsize=15)\n",
    "ax.set_ylabel('Loss', fontsize=15)\n",
    "ax.set_title('Test and Train Loss', fontsize=15)\n",
    "\n",
    "ax.grid(True, linestyle='--', alpha=0.5)\n",
    "\n",
    "# Add final loss value as text\n",
    "ax.text(40, 76, 'Test loss: 76.113', ha='center', va='bottom', color='black', fontsize=15)\n",
    "\n",
    "# Add legend\n",
    "ax.legend(fontsize=12)\n",
    "\n",
    "# Adjust the plot layout\n",
    "plt.tight_layout()\n",
    "\n",
    "# Save the plot as an image\n",
    "plt.savefig('pic/5.png', dpi=300, bbox_inches='tight')"
   ]
  },
  {
   "cell_type": "code",
   "execution_count": 485,
   "id": "4c83a49a",
   "metadata": {},
   "outputs": [
    {
     "data": {
      "text/plain": [
       "['Solarize_Light2',\n",
       " '_classic_test_patch',\n",
       " '_mpl-gallery',\n",
       " '_mpl-gallery-nogrid',\n",
       " 'bmh',\n",
       " 'classic',\n",
       " 'dark_background',\n",
       " 'fast',\n",
       " 'fivethirtyeight',\n",
       " 'ggplot',\n",
       " 'grayscale',\n",
       " 'seaborn-v0_8',\n",
       " 'seaborn-v0_8-bright',\n",
       " 'seaborn-v0_8-colorblind',\n",
       " 'seaborn-v0_8-dark',\n",
       " 'seaborn-v0_8-dark-palette',\n",
       " 'seaborn-v0_8-darkgrid',\n",
       " 'seaborn-v0_8-deep',\n",
       " 'seaborn-v0_8-muted',\n",
       " 'seaborn-v0_8-notebook',\n",
       " 'seaborn-v0_8-paper',\n",
       " 'seaborn-v0_8-pastel',\n",
       " 'seaborn-v0_8-poster',\n",
       " 'seaborn-v0_8-talk',\n",
       " 'seaborn-v0_8-ticks',\n",
       " 'seaborn-v0_8-white',\n",
       " 'seaborn-v0_8-whitegrid',\n",
       " 'tableau-colorblind10']"
      ]
     },
     "execution_count": 485,
     "metadata": {},
     "output_type": "execute_result"
    }
   ],
   "source": [
    "plt.style.available"
   ]
  },
  {
   "cell_type": "code",
   "execution_count": 270,
   "id": "2e4ae6a3",
   "metadata": {},
   "outputs": [],
   "source": [
    "class NeuralNet_2(nn.Module):\n",
    "    def __init__(self, input_size=22, hidden_size=128, out_dim=1):\n",
    "        super(NeuralNet_2, self).__init__()\n",
    "        self.fc1 = nn.Linear(input_size, hidden_size)\n",
    "        self.tanh = nn.Tanh()\n",
    "        self.fc2 = nn.Linear(hidden_size, out_dim)\n",
    "\n",
    "    def forward(self, x):\n",
    "        out = self.fc1(x)\n",
    "        out = self.tanh(out)\n",
    "        out = self.fc2(out)\n",
    "        return out"
   ]
  },
  {
   "cell_type": "code",
   "execution_count": 271,
   "id": "953a4fda",
   "metadata": {},
   "outputs": [
    {
     "name": "stdout",
     "output_type": "stream",
     "text": [
      "74.52306365966797\n"
     ]
    }
   ],
   "source": [
    "torch.manual_seed(123)\n",
    "model = NeuralNet_2()\n",
    "criterion = nn.MSELoss()\n",
    "optimizer = optim.Adam(model.parameters(), lr=0.001, weight_decay=3e-4)\n",
    "\n",
    "for epoch in range(10000):\n",
    "    optimizer.zero_grad()\n",
    "\n",
    "    outputs = model(X_train)\n",
    "    loss = criterion(outputs, y_train)\n",
    "    loss.backward()\n",
    "    optimizer.step()\n",
    "print(loss.item())"
   ]
  },
  {
   "cell_type": "code",
   "execution_count": 272,
   "id": "8e7fe27b",
   "metadata": {},
   "outputs": [
    {
     "data": {
      "image/png": "[encoded data removed]",
      "text/plain": [
       "<Figure size 640x480 with 1 Axes>"
      ]
     },
     "metadata": {},
     "output_type": "display_data"
    }
   ],
   "source": [
    "predicted = model(X_test).detach().numpy()\n",
    "\n",
    "plt.plot(y_test, 'ro', label='Actual')\n",
    "plt.plot(predicted, 'bo', label='Predicted')\n",
    "plt.legend()\n",
    "plt.show()"
   ]
  },
  {
   "cell_type": "code",
   "execution_count": 273,
   "id": "4526c8ae",
   "metadata": {},
   "outputs": [
    {
     "data": {
      "text/plain": [
       "74.03605"
      ]
     },
     "execution_count": 273,
     "metadata": {},
     "output_type": "execute_result"
    }
   ],
   "source": [
    "mse = mean_squared_error(y_test, predicted)\n",
    "mse"
   ]
  },
  {
   "cell_type": "code",
   "execution_count": 1038,
   "id": "7f872475",
   "metadata": {},
   "outputs": [
    {
     "data": {
      "image/png": "[encoded data removed]",
      "text/plain": [
       "<Figure size 640x480 with 1 Axes>"
      ]
     },
     "metadata": {},
     "output_type": "display_data"
    }
   ],
   "source": [
    "import matplotlib.pyplot as plt\n",
    "\n",
    "# Get predicted outputs\n",
    "outputs = model(X_test).detach().numpy()\n",
    "\n",
    "# Set up the figure and axes\n",
    "fig, ax = plt.subplots(figsize=(8, 6))\n",
    "\n",
    "# Plot histograms of predicted and true outputs\n",
    "ax.hist(outputs, bins=1, alpha=0.7, color='#6495ED',label='Predicted')\n",
    "ax.hist(y_test.numpy(), bins=10, color='red', histtype=\"step\",label='True')\n",
    "plt.gca().spines['top'].set_visible(False)\n",
    "plt.gca().spines['right'].set_visible(False)\n",
    "\n",
    "# Add gridlines\n",
    "plt.grid(axis='y', linestyle='--', alpha=0.5)\n",
    "# Add labels and title\n",
    "ax.set_xlabel('Percentage of Fatal Accidents Involving Drunk Driving', fontsize=13)\n",
    "ax.set_ylabel('Frequency', fontsize=13)\n",
    "ax.set_title('Comparison of Predicted and True Outputs', fontsize=14)\n",
    "\n",
    "# Add legend\n",
    "ax.legend()\n",
    "plt.savefig('pic/6.png', dpi=300, bbox_inches='tight')\n",
    "# Show the plot\n",
    "plt.show()"
   ]
  },
  {
   "cell_type": "code",
   "execution_count": 920,
   "id": "74838398",
   "metadata": {},
   "outputs": [],
   "source": [
    "class NeuralNet_3(nn.Module):\n",
    "    def __init__(self, input_size=22, hidden_size=128, out_dim=1):\n",
    "        super(NeuralNet_3, self).__init__()\n",
    "        self.fc1 = nn.Linear(input_size, hidden_size)\n",
    "        self.norm = nn.BatchNorm1d(hidden_size)\n",
    "        self.ReLU = nn.ReLU()\n",
    "        self.fc2 = nn.Linear(hidden_size, out_dim)\n",
    "\n",
    "    def forward(self, x):\n",
    "        out = self.fc1(x)\n",
    "        out = self.norm(out)\n",
    "        out = self.ReLU(out)\n",
    "        out = self.fc2(out)\n",
    "        return out"
   ]
  },
  {
   "cell_type": "code",
   "execution_count": 1109,
   "id": "1b6afed1",
   "metadata": {},
   "outputs": [],
   "source": [
    "X = df.drop(['DRUNK_DRIVING_PERCENTAGE'], axis=1)\n",
    "y = df['DRUNK_DRIVING_PERCENTAGE']\n",
    "\n",
    "X = torch.tensor(X.values, dtype=torch.float32)\n",
    "y = torch.tensor(y, dtype=torch.float32).reshape(-1, 1)\n",
    "\n",
    "X_train, X_test, y_train, y_test = train_test_split(X, y, test_size=0.2, random_state=42)\n",
    "\n",
    "torch.manual_seed(123)\n",
    "model = NeuralNet_3()\n",
    "criterion = nn.MSELoss()\n",
    "optimizer = optim.Adam(model.parameters(), lr=0.001, weight_decay=3e-4)\n",
    "\n",
    "losses = []\n",
    "testlosses = []\n",
    "for epoch in range(15000):\n",
    "    optimizer.zero_grad()\n",
    "    outputs = model(X_train)\n",
    "    loss = criterion(outputs, y_train)\n",
    "    loss.backward()\n",
    "    optimizer.step()\n",
    "    if (epoch%20 ==0):\n",
    "        with torch.no_grad():\n",
    "            losses.append(loss.item())\n",
    "            y_pred_test = model(X_test)\n",
    "            test_mse = criterion(y_pred_test, y_test)\n",
    "            testlosses.append(test_mse)"
   ]
  },
  {
   "cell_type": "code",
   "execution_count": 1110,
   "id": "23e86aba",
   "metadata": {},
   "outputs": [
    {
     "data": {
      "text/plain": [
       "39.422054290771484"
      ]
     },
     "execution_count": 1110,
     "metadata": {},
     "output_type": "execute_result"
    }
   ],
   "source": [
    "loss.item()"
   ]
  },
  {
   "cell_type": "code",
   "execution_count": 1045,
   "id": "911b3648",
   "metadata": {},
   "outputs": [
    {
     "data": {
      "text/plain": [
       "42.413063049316406"
      ]
     },
     "execution_count": 1045,
     "metadata": {},
     "output_type": "execute_result"
    }
   ],
   "source": [
    "test_mse.item() "
   ]
  },
  {
   "cell_type": "code",
   "execution_count": 1111,
   "id": "13a9eb9e",
   "metadata": {},
   "outputs": [
    {
     "data": {
      "image/png": "[encoded data removed]",
      "text/plain": [
       "<Figure size 640x320 with 1 Axes>"
      ]
     },
     "metadata": {},
     "output_type": "display_data"
    }
   ],
   "source": [
    "# Set the figure size\n",
    "fig, ax = plt.subplots(figsize=(8, 4))\n",
    "\n",
    "# Plot the losses\n",
    "ax.plot(losses, color='#6495ED', linewidth=1, linestyle='-', label='Train Loss')\n",
    "ax.plot(testlosses, color='red', linewidth=2, alpha=0.5, linestyle='--', label='Test Loss')\n",
    "\n",
    "# Add labels and title\n",
    "ax.set_xlabel('Step', fontsize=15)\n",
    "ax.set_ylabel('Loss', fontsize=15)\n",
    "ax.set_title('Test and Train Loss', fontsize=15)\n",
    "ax.set_xlim(0, 600)\n",
    "ax.grid(True, linestyle='--', alpha=0.7)\n",
    "\n",
    "# Add final loss value as text\n",
    "ax.text(450, 42, 'Test loss: 41.89', ha='center', va='bottom', color='red', fontsize=15)\n",
    "ax.text(350, 1, 'Train loss: 39.43', ha='center', va='bottom', color='#6495ED', fontsize=15)\n",
    "\n",
    "# Adjust the plot layout\n",
    "plt.tight_layout()\n",
    "\n",
    "ax.legend(fontsize=12)\n",
    "\n",
    "# Save the plot as an image\n",
    "plt.savefig('pic/7.png', dpi=300, bbox_inches='tight')\n",
    "\n",
    "# Show the plot\n",
    "plt.show()\n"
   ]
  },
  {
   "cell_type": "code",
   "execution_count": 1047,
   "id": "2b26dbd4",
   "metadata": {},
   "outputs": [
    {
     "data": {
      "image/png": "[encoded data removed]",
      "text/plain": [
       "<Figure size 640x480 with 1 Axes>"
      ]
     },
     "metadata": {},
     "output_type": "display_data"
    }
   ],
   "source": [
    "import matplotlib.pyplot as plt\n",
    "\n",
    "# Get predicted outputs\n",
    "\n",
    "\n",
    "# Set up the figure and axes\n",
    "fig, ax = plt.subplots(figsize=(8, 6))\n",
    "\n",
    "# Plot histograms of predicted and true outputs\n",
    "ax.hist(y_pred_test.detach().numpy(), bins=40, alpha=0.7, color='#6495ED',histtype=\"step\",label='Predicted')\n",
    "ax.hist(y_test.reshape(-1), bins=40, color='red', histtype=\"step\",label='True')\n",
    "plt.gca().spines['top'].set_visible(False)\n",
    "plt.gca().spines['right'].set_visible(False)\n",
    "\n",
    "# Add gridlines\n",
    "plt.grid(axis='y', linestyle='--', alpha=0.5)\n",
    "# Add labels and title\n",
    "ax.set_xlabel('Percentage of Fatal Accidents Involving Drunk Driving', fontsize=13)\n",
    "ax.set_ylabel('Frequency', fontsize=13)\n",
    "ax.set_title('Final NN Predicted VS True',fontweight='bold', fontsize=14)\n",
    "\n",
    "# Add legend\n",
    "ax.legend()\n",
    "plt.savefig('pic/8.png', dpi=300, bbox_inches='tight')\n",
    "# Show the plot\n",
    "plt.show()"
   ]
  },
  {
   "cell_type": "code",
   "execution_count": 1029,
   "id": "170231c9",
   "metadata": {},
   "outputs": [
    {
     "data": {
      "image/png": "[encoded data removed]",
      "text/plain": [
       "<Figure size 640x480 with 1 Axes>"
      ]
     },
     "metadata": {},
     "output_type": "display_data"
    }
   ],
   "source": [
    "error = y_test.numpy() - y_pred_test.numpy()\n",
    "# Compute mean and standard deviation of the errors\n",
    "mean_error = np.mean(error)\n",
    "std_error = np.std(error)\n",
    "\n",
    "fig, ax = plt.subplots(figsize=(8, 6))\n",
    "\n",
    "# Plot the histogram of errors\n",
    "ax.hist(error, density=True, alpha=0.7, color='#6495ED', label='Error', bins=60)\n",
    "\n",
    "# Overlay the normal distribution PDF\n",
    "x = np.linspace(np.min(error), np.max(error), 100)\n",
    "y = norm.pdf(x, loc=mean_error, scale=std_error)\n",
    "ax.plot(x, y, label='Normal-Fit', linewidth=2, color='#FF6347')\n",
    "\n",
    "# Set axis labels and title\n",
    "ax.set_xlabel('Error', fontsize=14)\n",
    "ax.set_ylabel('Density', fontsize=14)\n",
    "ax.set_title('NN Errors', fontsize=14, fontweight='bold')\n",
    "\n",
    "# Add gridlines\n",
    "ax.grid(axis='y', linestyle='--', alpha=0.5)\n",
    "\n",
    "# Add legend\n",
    "ax.legend(fontsize=14)\n",
    "\n",
    "# Remove top and right spines\n",
    "ax.spines['top'].set_visible(False)\n",
    "ax.spines['right'].set_visible(False)\n",
    "\n",
    "# Adjust tick parameters\n",
    "ax.tick_params(axis='both', which='both', labelsize=14, length=0)\n",
    "ax.text(25, 0.03, r\"$\\mu = %.3f, \\sigma = %.3f$\"%(mean_error, std_error),fontsize=13)\n",
    "# Save the figure\n",
    "plt.savefig('pic/9.png', dpi=300, bbox_inches='tight')\n",
    "\n",
    "# Display the plot\n",
    "plt.show()"
   ]
  },
  {
   "cell_type": "code",
   "execution_count": 796,
   "id": "378f398c",
   "metadata": {},
   "outputs": [],
   "source": [
    "class NeuralNet_4(nn.Module):\n",
    "    def __init__(self, input_size=22, hidden_size=64, out_dim=1):\n",
    "        super(NeuralNet_4, self).__init__()\n",
    "        self.fc1 = nn.Linear(input_size, hidden_size)\n",
    "        self.norm1 = nn.BatchNorm1d(64)\n",
    "        self.ReLU = nn.ReLU()\n",
    "        self.fc2 = nn.Linear(64, 128)\n",
    "        self.norm2 = nn.BatchNorm1d(128)\n",
    "        self.fc3 = nn.Linear(128, 64)\n",
    "        self.fc4 = nn.Linear(64, out_dim)\n",
    "\n",
    "    def forward(self, x):\n",
    "        out = self.fc1(x)\n",
    "        out = self.norm1(out)\n",
    "        out = self.ReLU(out)\n",
    "        out = self.fc2(out)\n",
    "        out = self.norm2(out)\n",
    "        out = self.ReLU(out)\n",
    "        out = self.fc3(out)\n",
    "        out = self.norm1(out)\n",
    "        out = self.ReLU(out)\n",
    "        out = self.fc4(out)\n",
    "        return out"
   ]
  },
  {
   "cell_type": "code",
   "execution_count": 806,
   "id": "53bac939",
   "metadata": {},
   "outputs": [],
   "source": [
    "torch.manual_seed(123)\n",
    "model = NeuralNet_4()\n",
    "criterion = nn.MSELoss()\n",
    "optimizer = optim.Adam(model.parameters(), lr=0.001, weight_decay=3e-4)\n",
    "\n",
    "losses = []\n",
    "testlosses = []\n",
    "for epoch in range(1000):\n",
    "    optimizer.zero_grad()\n",
    "    outputs = model(X_train)\n",
    "    loss = criterion(outputs, y_train)\n",
    "    loss.backward()\n",
    "    optimizer.step()\n",
    "    if (epoch%10 ==0):\n",
    "        with torch.no_grad():\n",
    "            losses.append(loss.item())\n",
    "            y_pred_test = model(X_test)\n",
    "            test_mse = criterion(y_pred_test, y_test)\n",
    "            testlosses.append(test_mse)"
   ]
  },
  {
   "cell_type": "code",
   "execution_count": 807,
   "id": "4ea94ff6",
   "metadata": {},
   "outputs": [
    {
     "data": {
      "text/plain": [
       "tensor(47.0667)"
      ]
     },
     "execution_count": 807,
     "metadata": {},
     "output_type": "execute_result"
    }
   ],
   "source": [
    "test_mse"
   ]
  },
  {
   "cell_type": "code",
   "execution_count": 808,
   "id": "7879d177",
   "metadata": {},
   "outputs": [
    {
     "data": {
      "text/plain": [
       "tensor(37.4646, grad_fn=<MseLossBackward0>)"
      ]
     },
     "execution_count": 808,
     "metadata": {},
     "output_type": "execute_result"
    }
   ],
   "source": [
    "loss"
   ]
  },
  {
   "cell_type": "code",
   "execution_count": 771,
   "id": "ec624916",
   "metadata": {},
   "outputs": [
    {
     "data": {
      "text/plain": [
       "(4000,)"
      ]
     },
     "execution_count": 771,
     "metadata": {},
     "output_type": "execute_result"
    }
   ],
   "source": [
    "a1 = np.array(y_test).reshape(-1)\n",
    "a1.shape"
   ]
  },
  {
   "cell_type": "code",
   "execution_count": 773,
   "id": "a380394a",
   "metadata": {},
   "outputs": [],
   "source": [
    "a2 = np.array(outputs.detach().numpy()).reshape(-1)"
   ]
  },
  {
   "cell_type": "code",
   "execution_count": 774,
   "id": "e5481c6f",
   "metadata": {},
   "outputs": [
    {
     "ename": "ValueError",
     "evalue": "all the input array dimensions except for the concatenation axis must match exactly, but along dimension 1, the array at index 0 has size 4000 and the array at index 1 has size 16000",
     "output_type": "error",
     "traceback": [
      "\u001b[0;31m---------------------------------------------------------------------------\u001b[0m",
      "\u001b[0;31mValueError\u001b[0m                                Traceback (most recent call last)",
      "Cell \u001b[0;32mIn[774], line 1\u001b[0m\n\u001b[0;32m----> 1\u001b[0m corr_coef \u001b[38;5;241m=\u001b[39m \u001b[43mnp\u001b[49m\u001b[38;5;241;43m.\u001b[39;49m\u001b[43mcorrcoef\u001b[49m\u001b[43m(\u001b[49m\u001b[43ma1\u001b[49m\u001b[43m,\u001b[49m\u001b[43m \u001b[49m\u001b[43ma2\u001b[49m\u001b[43m)\u001b[49m[\u001b[38;5;241m0\u001b[39m, \u001b[38;5;241m1\u001b[39m]\n\u001b[1;32m      2\u001b[0m corr_coef\n",
      "File \u001b[0;32m<__array_function__ internals>:200\u001b[0m, in \u001b[0;36mcorrcoef\u001b[0;34m(*args, **kwargs)\u001b[0m\n",
      "File \u001b[0;32m/opt/homebrew/Caskroom/miniforge/base/envs/hunting/lib/python3.9/site-packages/numpy/lib/function_base.py:2846\u001b[0m, in \u001b[0;36mcorrcoef\u001b[0;34m(x, y, rowvar, bias, ddof, dtype)\u001b[0m\n\u001b[1;32m   2842\u001b[0m \u001b[38;5;28;01mif\u001b[39;00m bias \u001b[38;5;129;01mis\u001b[39;00m \u001b[38;5;129;01mnot\u001b[39;00m np\u001b[38;5;241m.\u001b[39m_NoValue \u001b[38;5;129;01mor\u001b[39;00m ddof \u001b[38;5;129;01mis\u001b[39;00m \u001b[38;5;129;01mnot\u001b[39;00m np\u001b[38;5;241m.\u001b[39m_NoValue:\n\u001b[1;32m   2843\u001b[0m     \u001b[38;5;66;03m# 2015-03-15, 1.10\u001b[39;00m\n\u001b[1;32m   2844\u001b[0m     warnings\u001b[38;5;241m.\u001b[39mwarn(\u001b[38;5;124m'\u001b[39m\u001b[38;5;124mbias and ddof have no effect and are deprecated\u001b[39m\u001b[38;5;124m'\u001b[39m,\n\u001b[1;32m   2845\u001b[0m                   \u001b[38;5;167;01mDeprecationWarning\u001b[39;00m, stacklevel\u001b[38;5;241m=\u001b[39m\u001b[38;5;241m3\u001b[39m)\n\u001b[0;32m-> 2846\u001b[0m c \u001b[38;5;241m=\u001b[39m \u001b[43mcov\u001b[49m\u001b[43m(\u001b[49m\u001b[43mx\u001b[49m\u001b[43m,\u001b[49m\u001b[43m \u001b[49m\u001b[43my\u001b[49m\u001b[43m,\u001b[49m\u001b[43m \u001b[49m\u001b[43mrowvar\u001b[49m\u001b[43m,\u001b[49m\u001b[43m \u001b[49m\u001b[43mdtype\u001b[49m\u001b[38;5;241;43m=\u001b[39;49m\u001b[43mdtype\u001b[49m\u001b[43m)\u001b[49m\n\u001b[1;32m   2847\u001b[0m \u001b[38;5;28;01mtry\u001b[39;00m:\n\u001b[1;32m   2848\u001b[0m     d \u001b[38;5;241m=\u001b[39m diag(c)\n",
      "File \u001b[0;32m<__array_function__ internals>:200\u001b[0m, in \u001b[0;36mcov\u001b[0;34m(*args, **kwargs)\u001b[0m\n",
      "File \u001b[0;32m/opt/homebrew/Caskroom/miniforge/base/envs/hunting/lib/python3.9/site-packages/numpy/lib/function_base.py:2640\u001b[0m, in \u001b[0;36mcov\u001b[0;34m(m, y, rowvar, bias, ddof, fweights, aweights, dtype)\u001b[0m\n\u001b[1;32m   2638\u001b[0m     \u001b[38;5;28;01mif\u001b[39;00m \u001b[38;5;129;01mnot\u001b[39;00m rowvar \u001b[38;5;129;01mand\u001b[39;00m y\u001b[38;5;241m.\u001b[39mshape[\u001b[38;5;241m0\u001b[39m] \u001b[38;5;241m!=\u001b[39m \u001b[38;5;241m1\u001b[39m:\n\u001b[1;32m   2639\u001b[0m         y \u001b[38;5;241m=\u001b[39m y\u001b[38;5;241m.\u001b[39mT\n\u001b[0;32m-> 2640\u001b[0m     X \u001b[38;5;241m=\u001b[39m \u001b[43mnp\u001b[49m\u001b[38;5;241;43m.\u001b[39;49m\u001b[43mconcatenate\u001b[49m\u001b[43m(\u001b[49m\u001b[43m(\u001b[49m\u001b[43mX\u001b[49m\u001b[43m,\u001b[49m\u001b[43m \u001b[49m\u001b[43my\u001b[49m\u001b[43m)\u001b[49m\u001b[43m,\u001b[49m\u001b[43m \u001b[49m\u001b[43maxis\u001b[49m\u001b[38;5;241;43m=\u001b[39;49m\u001b[38;5;241;43m0\u001b[39;49m\u001b[43m)\u001b[49m\n\u001b[1;32m   2642\u001b[0m \u001b[38;5;28;01mif\u001b[39;00m ddof \u001b[38;5;129;01mis\u001b[39;00m \u001b[38;5;28;01mNone\u001b[39;00m:\n\u001b[1;32m   2643\u001b[0m     \u001b[38;5;28;01mif\u001b[39;00m bias \u001b[38;5;241m==\u001b[39m \u001b[38;5;241m0\u001b[39m:\n",
      "File \u001b[0;32m<__array_function__ internals>:200\u001b[0m, in \u001b[0;36mconcatenate\u001b[0;34m(*args, **kwargs)\u001b[0m\n",
      "\u001b[0;31mValueError\u001b[0m: all the input array dimensions except for the concatenation axis must match exactly, but along dimension 1, the array at index 0 has size 4000 and the array at index 1 has size 16000"
     ]
    }
   ],
   "source": [
    "corr_coef = np.corrcoef(a1, a2)[0, 1]\n",
    "corr_coef"
   ]
  },
  {
   "cell_type": "code",
   "execution_count": 401,
   "id": "3d721a8f",
   "metadata": {},
   "outputs": [
    {
     "data": {
      "image/png": "[encoded data removed]",
      "text/plain": [
       "<Figure size 640x480 with 1 Axes>"
      ]
     },
     "metadata": {},
     "output_type": "display_data"
    }
   ],
   "source": [
    "predicted = model(X_test).detach().numpy()\n",
    "\n",
    "plt.plot(y_test, 'ro', label='Actual')\n",
    "plt.plot(predicted, 'bo', label='Predicted')\n",
    "plt.legend()\n",
    "plt.show()"
   ]
  },
  {
   "cell_type": "markdown",
   "id": "a9ce5a27",
   "metadata": {},
   "source": [
    "#  TL"
   ]
  },
  {
   "cell_type": "code",
   "execution_count": 956,
   "id": "18c34cb7",
   "metadata": {},
   "outputs": [
    {
     "data": {
      "text/html": [
       "<div>\n",
       "<style scoped>\n",
       "    .dataframe tbody tr th:only-of-type {\n",
       "        vertical-align: middle;\n",
       "    }\n",
       "\n",
       "    .dataframe tbody tr th {\n",
       "        vertical-align: top;\n",
       "    }\n",
       "\n",
       "    .dataframe thead th {\n",
       "        text-align: right;\n",
       "    }\n",
       "</style>\n",
       "<table border=\"1\" class=\"dataframe\">\n",
       "  <thead>\n",
       "    <tr style=\"text-align: right;\">\n",
       "      <th></th>\n",
       "      <th>STATE</th>\n",
       "      <th>STATE_NAME</th>\n",
       "      <th>POPULATION</th>\n",
       "      <th>POPULATION_DENSITY</th>\n",
       "      <th>RURAL_POPULATION_PERCENTAGE</th>\n",
       "      <th>RURAL_POPULATION_DENSITY</th>\n",
       "      <th>MALE_FEMALE_RATIO</th>\n",
       "      <th>WHITE_ALONE</th>\n",
       "      <th>BLACK_ALONE</th>\n",
       "      <th>AMERICAN_INDIAN_ALASKA_NATIVE_ALONE</th>\n",
       "      <th>...</th>\n",
       "      <th>MEDIAN_INCOME</th>\n",
       "      <th>POVERTY_RATE</th>\n",
       "      <th>DEMOCRAT_PERCENTAGE</th>\n",
       "      <th>REPUBLICAN_PERCENTAGE</th>\n",
       "      <th>OBESITY_RATE</th>\n",
       "      <th>SMOKING_RATE</th>\n",
       "      <th>DRUG_OVERDOSE_DEATH_RATE</th>\n",
       "      <th>PRECIPITATION</th>\n",
       "      <th>TOTAL_ACCIDENTS</th>\n",
       "      <th>DRUNK_DRIVING_PERCENTAGE_2</th>\n",
       "    </tr>\n",
       "  </thead>\n",
       "  <tbody>\n",
       "    <tr>\n",
       "      <th>0</th>\n",
       "      <td>1</td>\n",
       "      <td>Alabama</td>\n",
       "      <td>5.07</td>\n",
       "      <td>99.52</td>\n",
       "      <td>41.0</td>\n",
       "      <td>40.4</td>\n",
       "      <td>93.6</td>\n",
       "      <td>69.1</td>\n",
       "      <td>26.8</td>\n",
       "      <td>0.7</td>\n",
       "      <td>...</td>\n",
       "      <td>48608.0</td>\n",
       "      <td>14.5</td>\n",
       "      <td>35.0</td>\n",
       "      <td>52.0</td>\n",
       "      <td>39.9</td>\n",
       "      <td>15.0</td>\n",
       "      <td>22.3</td>\n",
       "      <td>56.00</td>\n",
       "      <td>852</td>\n",
       "      <td>22.231</td>\n",
       "    </tr>\n",
       "    <tr>\n",
       "      <th>1</th>\n",
       "      <td>2</td>\n",
       "      <td>Alaska</td>\n",
       "      <td>0.73</td>\n",
       "      <td>1.28</td>\n",
       "      <td>34.0</td>\n",
       "      <td>0.4</td>\n",
       "      <td>109.2</td>\n",
       "      <td>65.3</td>\n",
       "      <td>3.7</td>\n",
       "      <td>15.6</td>\n",
       "      <td>...</td>\n",
       "      <td>67138.0</td>\n",
       "      <td>11.7</td>\n",
       "      <td>33.0</td>\n",
       "      <td>51.0</td>\n",
       "      <td>33.5</td>\n",
       "      <td>15.0</td>\n",
       "      <td>22.0</td>\n",
       "      <td>29.03</td>\n",
       "      <td>53</td>\n",
       "      <td>28.480</td>\n",
       "    </tr>\n",
       "    <tr>\n",
       "      <th>2</th>\n",
       "      <td>4</td>\n",
       "      <td>Arizona</td>\n",
       "      <td>7.36</td>\n",
       "      <td>64.05</td>\n",
       "      <td>10.2</td>\n",
       "      <td>5.8</td>\n",
       "      <td>98.8</td>\n",
       "      <td>82.6</td>\n",
       "      <td>5.2</td>\n",
       "      <td>5.3</td>\n",
       "      <td>...</td>\n",
       "      <td>54301.0</td>\n",
       "      <td>11.2</td>\n",
       "      <td>41.0</td>\n",
       "      <td>41.0</td>\n",
       "      <td>31.3</td>\n",
       "      <td>12.0</td>\n",
       "      <td>35.8</td>\n",
       "      <td>11.80</td>\n",
       "      <td>967</td>\n",
       "      <td>18.330</td>\n",
       "    </tr>\n",
       "    <tr>\n",
       "      <th>3</th>\n",
       "      <td>5</td>\n",
       "      <td>Arkansas</td>\n",
       "      <td>3.01</td>\n",
       "      <td>58.16</td>\n",
       "      <td>43.8</td>\n",
       "      <td>25.1</td>\n",
       "      <td>96.4</td>\n",
       "      <td>79.0</td>\n",
       "      <td>15.7</td>\n",
       "      <td>1.0</td>\n",
       "      <td>...</td>\n",
       "      <td>51148.0</td>\n",
       "      <td>15.1</td>\n",
       "      <td>35.0</td>\n",
       "      <td>48.0</td>\n",
       "      <td>38.7</td>\n",
       "      <td>18.0</td>\n",
       "      <td>19.1</td>\n",
       "      <td>49.72</td>\n",
       "      <td>585</td>\n",
       "      <td>26.710</td>\n",
       "    </tr>\n",
       "    <tr>\n",
       "      <th>4</th>\n",
       "      <td>6</td>\n",
       "      <td>California</td>\n",
       "      <td>39.03</td>\n",
       "      <td>251.90</td>\n",
       "      <td>5.1</td>\n",
       "      <td>12.7</td>\n",
       "      <td>98.9</td>\n",
       "      <td>71.9</td>\n",
       "      <td>6.5</td>\n",
       "      <td>1.6</td>\n",
       "      <td>...</td>\n",
       "      <td>76386.0</td>\n",
       "      <td>11.0</td>\n",
       "      <td>51.0</td>\n",
       "      <td>31.0</td>\n",
       "      <td>27.6</td>\n",
       "      <td>9.0</td>\n",
       "      <td>21.8</td>\n",
       "      <td>22.97</td>\n",
       "      <td>3558</td>\n",
       "      <td>25.424</td>\n",
       "    </tr>\n",
       "  </tbody>\n",
       "</table>\n",
       "<p>5 rows × 25 columns</p>\n",
       "</div>"
      ],
      "text/plain": [
       "   STATE  STATE_NAME  POPULATION  POPULATION_DENSITY   \n",
       "0      1     Alabama        5.07               99.52  \\\n",
       "1      2      Alaska        0.73                1.28   \n",
       "2      4     Arizona        7.36               64.05   \n",
       "3      5    Arkansas        3.01               58.16   \n",
       "4      6  California       39.03              251.90   \n",
       "\n",
       "   RURAL_POPULATION_PERCENTAGE  RURAL_POPULATION_DENSITY  MALE_FEMALE_RATIO   \n",
       "0                         41.0                      40.4               93.6  \\\n",
       "1                         34.0                       0.4              109.2   \n",
       "2                         10.2                       5.8               98.8   \n",
       "3                         43.8                      25.1               96.4   \n",
       "4                          5.1                      12.7               98.9   \n",
       "\n",
       "   WHITE_ALONE  BLACK_ALONE  AMERICAN_INDIAN_ALASKA_NATIVE_ALONE  ...   \n",
       "0         69.1         26.8                                  0.7  ...  \\\n",
       "1         65.3          3.7                                 15.6  ...   \n",
       "2         82.6          5.2                                  5.3  ...   \n",
       "3         79.0         15.7                                  1.0  ...   \n",
       "4         71.9          6.5                                  1.6  ...   \n",
       "\n",
       "   MEDIAN_INCOME  POVERTY_RATE  DEMOCRAT_PERCENTAGE  REPUBLICAN_PERCENTAGE   \n",
       "0        48608.0          14.5                 35.0                   52.0  \\\n",
       "1        67138.0          11.7                 33.0                   51.0   \n",
       "2        54301.0          11.2                 41.0                   41.0   \n",
       "3        51148.0          15.1                 35.0                   48.0   \n",
       "4        76386.0          11.0                 51.0                   31.0   \n",
       "\n",
       "   OBESITY_RATE  SMOKING_RATE  DRUG_OVERDOSE_DEATH_RATE  PRECIPITATION   \n",
       "0          39.9          15.0                      22.3          56.00  \\\n",
       "1          33.5          15.0                      22.0          29.03   \n",
       "2          31.3          12.0                      35.8          11.80   \n",
       "3          38.7          18.0                      19.1          49.72   \n",
       "4          27.6           9.0                      21.8          22.97   \n",
       "\n",
       "   TOTAL_ACCIDENTS  DRUNK_DRIVING_PERCENTAGE_2  \n",
       "0              852                      22.231  \n",
       "1               53                      28.480  \n",
       "2              967                      18.330  \n",
       "3              585                      26.710  \n",
       "4             3558                      25.424  \n",
       "\n",
       "[5 rows x 25 columns]"
      ]
     },
     "execution_count": 956,
     "metadata": {},
     "output_type": "execute_result"
    }
   ],
   "source": [
    "small_df = pd.read_csv(\"raw_state_data_drunk_driving.csv\")\n",
    "small_df.head(5)"
   ]
  },
  {
   "cell_type": "code",
   "execution_count": 811,
   "id": "080ebca0",
   "metadata": {},
   "outputs": [
    {
     "data": {
      "text/html": [
       "<div>\n",
       "<style scoped>\n",
       "    .dataframe tbody tr th:only-of-type {\n",
       "        vertical-align: middle;\n",
       "    }\n",
       "\n",
       "    .dataframe tbody tr th {\n",
       "        vertical-align: top;\n",
       "    }\n",
       "\n",
       "    .dataframe thead th {\n",
       "        text-align: right;\n",
       "    }\n",
       "</style>\n",
       "<table border=\"1\" class=\"dataframe\">\n",
       "  <thead>\n",
       "    <tr style=\"text-align: right;\">\n",
       "      <th></th>\n",
       "      <th>POPULATION</th>\n",
       "      <th>POPULATION_DENSITY</th>\n",
       "      <th>RURAL_POPULATION_PERCENTAGE</th>\n",
       "      <th>RURAL_POPULATION_DENSITY</th>\n",
       "      <th>MALE_FEMALE_RATIO</th>\n",
       "      <th>WHITE_ALONE</th>\n",
       "      <th>BLACK_ALONE</th>\n",
       "      <th>AMERICAN_INDIAN_ALASKA_NATIVE_ALONE</th>\n",
       "      <th>ASIAN_ALONE</th>\n",
       "      <th>NATIVE_HAWAIIAN_PACIFIC_ISLANDER_ALONE</th>\n",
       "      <th>...</th>\n",
       "      <th>MEDIAN_INCOME</th>\n",
       "      <th>POVERTY_RATE</th>\n",
       "      <th>DEMOCRAT_PERCENTAGE</th>\n",
       "      <th>REPUBLICAN_PERCENTAGE</th>\n",
       "      <th>OBESITY_RATE</th>\n",
       "      <th>SMOKING_RATE</th>\n",
       "      <th>DRUG_OVERDOSE_DEATH_RATE</th>\n",
       "      <th>PRECIPITATION</th>\n",
       "      <th>TOTAL_ACCIDENTS</th>\n",
       "      <th>DRUNK_DRIVING_PERCENTAGE</th>\n",
       "    </tr>\n",
       "  </thead>\n",
       "  <tbody>\n",
       "    <tr>\n",
       "      <th>0</th>\n",
       "      <td>0.001629</td>\n",
       "      <td>188.536533</td>\n",
       "      <td>0.032291</td>\n",
       "      <td>7.990649</td>\n",
       "      <td>104.895</td>\n",
       "      <td>60.739427</td>\n",
       "      <td>14.807821</td>\n",
       "      <td>2.460794</td>\n",
       "      <td>8.819452</td>\n",
       "      <td>0.01</td>\n",
       "      <td>...</td>\n",
       "      <td>32463.914002</td>\n",
       "      <td>1.701977</td>\n",
       "      <td>54.887154</td>\n",
       "      <td>28.97241</td>\n",
       "      <td>39.72787</td>\n",
       "      <td>14.673271</td>\n",
       "      <td>99.9</td>\n",
       "      <td>38.537022</td>\n",
       "      <td>13.603062</td>\n",
       "      <td>9.027207</td>\n",
       "    </tr>\n",
       "  </tbody>\n",
       "</table>\n",
       "<p>1 rows × 23 columns</p>\n",
       "</div>"
      ],
      "text/plain": [
       "   POPULATION  POPULATION_DENSITY  RURAL_POPULATION_PERCENTAGE   \n",
       "0    0.001629          188.536533                     0.032291  \\\n",
       "\n",
       "   RURAL_POPULATION_DENSITY  MALE_FEMALE_RATIO  WHITE_ALONE  BLACK_ALONE   \n",
       "0                  7.990649            104.895    60.739427    14.807821  \\\n",
       "\n",
       "   AMERICAN_INDIAN_ALASKA_NATIVE_ALONE  ASIAN_ALONE   \n",
       "0                             2.460794     8.819452  \\\n",
       "\n",
       "   NATIVE_HAWAIIAN_PACIFIC_ISLANDER_ALONE  ...  MEDIAN_INCOME  POVERTY_RATE   \n",
       "0                                    0.01  ...   32463.914002      1.701977  \\\n",
       "\n",
       "   DEMOCRAT_PERCENTAGE  REPUBLICAN_PERCENTAGE  OBESITY_RATE  SMOKING_RATE   \n",
       "0            54.887154               28.97241      39.72787     14.673271  \\\n",
       "\n",
       "   DRUG_OVERDOSE_DEATH_RATE  PRECIPITATION  TOTAL_ACCIDENTS   \n",
       "0                      99.9      38.537022        13.603062  \\\n",
       "\n",
       "   DRUNK_DRIVING_PERCENTAGE  \n",
       "0                  9.027207  \n",
       "\n",
       "[1 rows x 23 columns]"
      ]
     },
     "execution_count": 811,
     "metadata": {},
     "output_type": "execute_result"
    }
   ],
   "source": [
    "df.head(1)"
   ]
  },
  {
   "cell_type": "code",
   "execution_count": 1051,
   "id": "49006e11",
   "metadata": {},
   "outputs": [
    {
     "name": "stdout",
     "output_type": "stream",
     "text": [
      "Mean Squared Error: 97.13775859937941\n",
      "R-squared score: -0.6500063105768996\n"
     ]
    }
   ],
   "source": [
    "X = small_df.drop(['STATE','STATE_NAME','DRUNK_DRIVING_PERCENTAGE_2'], axis=1)\n",
    "y = small_df['DRUNK_DRIVING_PERCENTAGE_2']\n",
    "\n",
    "X_train, X_test, y_train, y_test = train_test_split(X, y, test_size=0.2, random_state=42)\n",
    "\n",
    "model = LinearRegression()\n",
    "model.fit(X_train, y_train)\n",
    "y_pred = model.predict(X_test)\n",
    "mse = mean_squared_error(y_test, y_pred)\n",
    "error = y_test - y_pred\n",
    "print('Mean Squared Error:', mse)\n",
    "r2 = r2_score(y_test, y_pred)\n",
    "print('R-squared score:', r2)"
   ]
  },
  {
   "cell_type": "code",
   "execution_count": 1052,
   "id": "1fe8ce64",
   "metadata": {},
   "outputs": [
    {
     "name": "stdout",
     "output_type": "stream",
     "text": [
      "67.77751847554472\n",
      "R-squared score: -0.15128591407096437\n"
     ]
    }
   ],
   "source": [
    "model2 = Lasso(alpha = 10).fit(X_train, y_train)\n",
    "y_pred = model2.predict(X_test)\n",
    "mse = mean_squared_error(y_test, y_pred)\n",
    "print(mse)\n",
    "r2 = r2_score(y_test, y_pred)\n",
    "print('R-squared score:', r2)"
   ]
  },
  {
   "cell_type": "code",
   "execution_count": 1053,
   "id": "ac9c52e4",
   "metadata": {},
   "outputs": [
    {
     "name": "stdout",
     "output_type": "stream",
     "text": [
      "Random forest MSE: 62.38619239968669\n",
      "R-squared score: -0.05970749826427735\n"
     ]
    }
   ],
   "source": [
    "model_rf = RandomForestRegressor(n_estimators=300, max_depth = 20, min_samples_split = 2, random_state=123)\n",
    "model_rf.fit(X_train, y_train)\n",
    "\n",
    "y_pred_rf = model_rf.predict(X_test)\n",
    "mse_rf = mean_squared_error(y_test, y_pred_rf)\n",
    "print('Random forest MSE:', mse_rf)\n",
    "r2 = r2_score(y_test, y_pred_rf)\n",
    "print('R-squared score:', r2)"
   ]
  },
  {
   "cell_type": "code",
   "execution_count": 1054,
   "id": "a39d5b17",
   "metadata": {},
   "outputs": [],
   "source": [
    "X = torch.tensor(X.values, dtype=torch.float32)\n",
    "y = torch.tensor(y, dtype=torch.float32).reshape(-1, 1)\n",
    "\n",
    "X_train, X_test, y_train, y_test = train_test_split(X, y, test_size=0.2, random_state=415)"
   ]
  },
  {
   "cell_type": "code",
   "execution_count": 1055,
   "id": "41c07d27",
   "metadata": {},
   "outputs": [],
   "source": [
    "torch.manual_seed(123)\n",
    "model = NeuralNet_3()\n",
    "criterion = nn.MSELoss()\n",
    "optimizer = optim.Adam(model.parameters(), lr=0.001, weight_decay=3e-4)\n",
    "losses = []\n",
    "testlosses = []\n",
    "for epoch in range(500):\n",
    "    optimizer.zero_grad()\n",
    "\n",
    "    outputs = model(X_train)\n",
    "    loss = criterion(outputs, y_train)\n",
    "    loss.backward()\n",
    "    optimizer.step()\n",
    "    with torch.no_grad():\n",
    "        losses.append(loss.item())\n",
    "        y_pred_test = model(X_test)\n",
    "        test_mse = criterion(y_pred_test, y_test)\n",
    "        testlosses.append(test_mse)"
   ]
  },
  {
   "cell_type": "code",
   "execution_count": 988,
   "id": "002072ab",
   "metadata": {},
   "outputs": [
    {
     "data": {
      "text/plain": [
       "tensor(120.1374)"
      ]
     },
     "execution_count": 988,
     "metadata": {},
     "output_type": "execute_result"
    }
   ],
   "source": [
    "test_mse"
   ]
  },
  {
   "cell_type": "code",
   "execution_count": 989,
   "id": "d11e8350",
   "metadata": {},
   "outputs": [
    {
     "data": {
      "text/plain": [
       "tensor(6.7868, grad_fn=<MseLossBackward0>)"
      ]
     },
     "execution_count": 989,
     "metadata": {},
     "output_type": "execute_result"
    }
   ],
   "source": [
    "loss"
   ]
  },
  {
   "cell_type": "code",
   "execution_count": 825,
   "id": "5b0dfebd",
   "metadata": {},
   "outputs": [
    {
     "data": {
      "image/png": "[encoded data removed]",
      "text/plain": [
       "<Figure size 640x480 with 1 Axes>"
      ]
     },
     "metadata": {},
     "output_type": "display_data"
    }
   ],
   "source": [
    "import matplotlib.pyplot as plt\n",
    "\n",
    "# Get predicted outputs\n",
    "outputs = model(X_test).detach().numpy()\n",
    "\n",
    "# Plot histograms of predicted and true outputs\n",
    "plt.hist(outputs, bins=20, alpha=1, label='Predicted')\n",
    "plt.hist(y_test.numpy(), bins=20, alpha=0.5, label='True')\n",
    "plt.legend()\n",
    "plt.show()"
   ]
  },
  {
   "cell_type": "code",
   "execution_count": 830,
   "id": "949036e9",
   "metadata": {},
   "outputs": [
    {
     "name": "stdout",
     "output_type": "stream",
     "text": [
      "Mean Squared Error: 1643.5564167572763\n",
      "R-squared score: -21.995868404921193\n"
     ]
    }
   ],
   "source": [
    "X_train = df.drop(['DRUNK_DRIVING_PERCENTAGE'], axis=1)\n",
    "y_train = df['DRUNK_DRIVING_PERCENTAGE']\n",
    "\n",
    "X = small_df.drop(['STATE','STATE_NAME','DRUNK_DRIVING_PERCENTAGE_2'], axis=1)\n",
    "y = small_df['DRUNK_DRIVING_PERCENTAGE_2']\n",
    "\n",
    "_, X_test, _, y_test = train_test_split(X, y, test_size=0.2, random_state=415)\n",
    "\n",
    "model = LinearRegression()\n",
    "model.fit(X_train, y_train)\n",
    "y_pred = model.predict(X_test)\n",
    "mse = mean_squared_error(y_test, y_pred)\n",
    "error = y_test - y_pred\n",
    "print('Mean Squared Error:', mse)\n",
    "r2 = r2_score(y_test, y_pred)\n",
    "print('R-squared score:', r2)"
   ]
  },
  {
   "cell_type": "code",
   "execution_count": 831,
   "id": "2910f6e9",
   "metadata": {},
   "outputs": [
    {
     "name": "stdout",
     "output_type": "stream",
     "text": [
      "Random forest MSE: 147.13747903363793\n"
     ]
    }
   ],
   "source": [
    "X_train = df.drop(['DRUNK_DRIVING_PERCENTAGE'], axis=1)\n",
    "y_train = df['DRUNK_DRIVING_PERCENTAGE']\n",
    "\n",
    "X = small_df.drop(['STATE','STATE_NAME','DRUNK_DRIVING_PERCENTAGE_2'], axis=1)\n",
    "y = small_df['DRUNK_DRIVING_PERCENTAGE_2']\n",
    "\n",
    "_, X_test, _, y_test = train_test_split(X, y, test_size=0.2, random_state=415)\n",
    "\n",
    "model_rf = RandomForestRegressor(n_estimators=300, max_depth = 20, min_samples_split = 2, random_state=123)\n",
    "model_rf.fit(X_train, y_train)\n",
    "\n",
    "y_pred_rf = model_rf.predict(X_test)\n",
    "mse_rf = mean_squared_error(y_test, y_pred_rf)\n",
    "print('Random forest MSE:', mse_rf)"
   ]
  },
  {
   "cell_type": "code",
   "execution_count": 1058,
   "id": "977873cc",
   "metadata": {},
   "outputs": [
    {
     "name": "stdout",
     "output_type": "stream",
     "text": [
      "tensor(41.9727)\n"
     ]
    }
   ],
   "source": [
    "X = df.drop(['DRUNK_DRIVING_PERCENTAGE'], axis=1)\n",
    "y = df['DRUNK_DRIVING_PERCENTAGE']\n",
    "\n",
    "X = torch.tensor(X.values, dtype=torch.float32)\n",
    "y = torch.tensor(y, dtype=torch.float32).reshape(-1, 1)\n",
    "\n",
    "X_train, X_test, y_train, y_test = train_test_split(X, y, test_size=0.2, random_state=42)\n",
    "\n",
    "torch.manual_seed(123)\n",
    "model = NeuralNet_3()\n",
    "criterion = nn.MSELoss()\n",
    "optimizer = optim.Adam(model.parameters(), lr=0.001, weight_decay=3e-4)\n",
    "\n",
    "for epoch in range(15000):\n",
    "    optimizer.zero_grad()\n",
    "    outputs = model(X_train)\n",
    "    loss = criterion(outputs, y_train)\n",
    "    loss.backward()\n",
    "    optimizer.step()\n",
    "    with torch.no_grad():\n",
    "        y_pred = model(X_test)\n",
    "        test_mse = criterion(y_pred, y_test)\n",
    "print(test_mse)"
   ]
  },
  {
   "cell_type": "code",
   "execution_count": 1063,
   "id": "38174a11",
   "metadata": {},
   "outputs": [
    {
     "name": "stdout",
     "output_type": "stream",
     "text": [
      "2.3088555335998535\n"
     ]
    }
   ],
   "source": [
    "X = small_df.drop(['STATE','STATE_NAME','DRUNK_DRIVING_PERCENTAGE_2'], axis=1)\n",
    "y = small_df['DRUNK_DRIVING_PERCENTAGE_2']\n",
    "\n",
    "X = torch.tensor(X.values, dtype=torch.float32)\n",
    "y = torch.tensor(y, dtype=torch.float32).reshape(-1, 1)\n",
    "\n",
    "X_train, X_test, y_train, y_test = train_test_split(X, y, test_size=0.2, random_state=415)\n",
    "\n",
    "trainMSE2 = []\n",
    "testMSE2 = []\n",
    "for epoch in range(250):\n",
    "    optimizer.zero_grad()\n",
    "\n",
    "    outputs = model(X_train)\n",
    "    \n",
    "    loss = criterion(outputs, y_train)\n",
    "    trainMSE2.append(loss.item())\n",
    "    loss.backward()\n",
    "    optimizer.step()\n",
    "    with torch.no_grad():\n",
    "        y_pred_test = model(X_test)\n",
    "        test_mse = criterion(y_pred_test, y_test)\n",
    "        testMSE2.append(test_mse)\n",
    "print(loss.item())     "
   ]
  },
  {
   "cell_type": "code",
   "execution_count": 1066,
   "id": "a3259220",
   "metadata": {},
   "outputs": [
    {
     "data": {
      "text/plain": [
       "tensor(62.5181)"
      ]
     },
     "execution_count": 1066,
     "metadata": {},
     "output_type": "execute_result"
    }
   ],
   "source": [
    "test_mse"
   ]
  },
  {
   "cell_type": "code",
   "execution_count": 1107,
   "id": "4aa4abf4",
   "metadata": {},
   "outputs": [
    {
     "data": {
      "image/png": "[encoded data removed]",
      "text/plain": [
       "<Figure size 640x320 with 1 Axes>"
      ]
     },
     "metadata": {},
     "output_type": "display_data"
    }
   ],
   "source": [
    "# Set the figure size\n",
    "fig, ax = plt.subplots(figsize=(8, 4))\n",
    "\n",
    "ax.plot(trainMSE2, color='blue', linewidth=1, label='Tranfer learning')\n",
    "ax.plot(losses, color='red', linewidth=1, alpha=0.5, label='Original')\n",
    "ax.set_ylim(-100, 1000)\n",
    "ax.set_xlim(0, 500)\n",
    "\n",
    "# Add labels and title\n",
    "ax.set_xlabel('Epoch', fontsize=15)\n",
    "ax.set_ylabel('Loss', fontsize=15)\n",
    "ax.set_title('Compare Train Loss: Oringinal vs Tranfer learning', fontsize=15)\n",
    "ax.text(150, 12, 'TL Train loss: 2.31', ha='center', va='bottom', color='blue', fontsize=13)\n",
    "ax.text(430, 22, 'OR Train loss: 6.78', ha='center', va='bottom', color='red', fontsize=13)\n",
    "ax.grid(True, linestyle='--', alpha=0.7)\n",
    "\n",
    "# Add legend\n",
    "ax.legend()\n",
    "\n",
    "# Adjust the plot layout\n",
    "plt.tight_layout()\n",
    "\n",
    "# Save the plot as an image\n",
    "plt.savefig('pic/10.png', dpi=300, bbox_inches='tight')\n",
    "\n",
    "# Show the plot\n",
    "plt.show()"
   ]
  },
  {
   "cell_type": "code",
   "execution_count": 1062,
   "id": "993cbad2",
   "metadata": {},
   "outputs": [
    {
     "data": {
      "text/plain": [
       "1000"
      ]
     },
     "execution_count": 1062,
     "metadata": {},
     "output_type": "execute_result"
    }
   ],
   "source": []
  },
  {
   "cell_type": "code",
   "execution_count": 1088,
   "id": "66411056",
   "metadata": {},
   "outputs": [
    {
     "data": {
      "image/png": "[encoded data removed]",
      "text/plain": [
       "<Figure size 640x320 with 1 Axes>"
      ]
     },
     "metadata": {},
     "output_type": "display_data"
    }
   ],
   "source": [
    "fig, ax = plt.subplots(figsize=(8, 4))\n",
    "\n",
    "ax.plot(testMSE2, color='blue', linewidth=2, label='Tranfer learning')\n",
    "ax.plot(testlosses, color='red', linewidth=2, alpha=0.5, label='Original')\n",
    "ax.set_ylim(-100, 1000)\n",
    "ax.set_xlim(0, 500)\n",
    "\n",
    "# Add labels and title\n",
    "ax.set_xlabel('Epoch', fontsize=15)\n",
    "ax.set_ylabel('Loss', fontsize=15)\n",
    "ax.set_title('Compare Test Loss: Oringinal vs Tranfer learning', fontsize=15)\n",
    "ax.text(200, 82, 'TL Test loss: 62.51', ha='center', va='bottom', color='blue', fontsize=13)\n",
    "ax.text(430, 142, 'OR Test loss: 120.14', ha='center', va='bottom', color='red', fontsize=13)\n",
    "\n",
    "ax.grid(True, linestyle='--', alpha=0.7)\n",
    "\n",
    "# Add legend\n",
    "ax.legend()\n",
    "\n",
    "# Adjust the plot layout\n",
    "plt.tight_layout()\n",
    "\n",
    "# Save the plot as an image\n",
    "plt.savefig('pic/11.png', dpi=300, bbox_inches='tight')\n",
    "\n",
    "# Show the plot\n",
    "plt.show()"
   ]
  },
  {
   "cell_type": "code",
   "execution_count": 1101,
   "id": "7f9b0f24",
   "metadata": {},
   "outputs": [],
   "source": [
    "state_abbreviations = {\n",
    "    'Alabama': 'AL', 'Alaska': 'AK', 'Arizona': 'AZ', 'Arkansas': 'AR', 'California': 'CA', 'Colorado': 'CO',\n",
    "    'Connecticut': 'CT', 'Delaware': 'DE', 'Florida': 'FL', 'Georgia': 'GA', 'Hawaii': 'HI', 'Idaho': 'ID',\n",
    "    'Illinois': 'IL', 'Indiana': 'IN', 'Iowa': 'IA', 'Kansas': 'KS', 'Kentucky': 'KY', 'Louisiana': 'LA',\n",
    "    'Maine': 'ME', 'Maryland': 'MD', 'Massachusetts': 'MA', 'Michigan': 'MI', 'Minnesota': 'MN', 'Mississippi': 'MS',\n",
    "    'Missouri': 'MO', 'Montana': 'MT', 'Nebraska': 'NE', 'Nevada': 'NV', 'New Hampshire': 'NH', 'New Jersey': 'NJ',\n",
    "    'New Mexico': 'NM', 'New York': 'NY', 'North Carolina': 'NC', 'North Dakota': 'ND', 'Ohio': 'OH', 'Oklahoma': 'OK',\n",
    "    'Oregon': 'OR', 'Pennsylvania': 'PA', 'Rhode Island': 'RI', 'South Carolina': 'SC', 'South Dakota': 'SD',\n",
    "    'Tennessee': 'TN', 'Texas': 'TX', 'Utah': 'UT', 'Vermont': 'VT', 'Virginia': 'VA', 'Washington': 'WA',\n",
    "    'West Virginia': 'WV', 'Wisconsin': 'WI', 'Wyoming': 'WY'\n",
    "}\n",
    "\n",
    "small_df['Abb_state'] = small_df['STATE_NAME'].map(state_abbreviations)\n",
    "small_df['percentage of drunk driving accidents'] = small_df[\"DRUNK_DRIVING_PERCENTAGE_2\"]\n",
    "\n",
    "\n"
   ]
  },
  {
   "cell_type": "code",
   "execution_count": 1102,
   "id": "78853544",
   "metadata": {},
   "outputs": [
    {
     "data": {
      "application/vnd.plotly.v1+json": {
       "config": {
        "plotlyServerURL": "https://plot.ly"
       },
       "data": [
        {
         "coloraxis": "coloraxis",
         "geo": "geo",
         "hovertemplate": "Abb_state=%{location}<br>percentage of drunk driving accidents=%{z}<extra></extra>",
         "locationmode": "USA-states",
         "locations": [
          "AL",
          "AK",
          "AZ",
          "AR",
          "CA",
          "CO",
          "CT",
          "DE",
          "FL",
          "GA",
          "HI",
          "ID",
          "IL",
          "IN",
          "IA",
          "KS",
          "KY",
          "LA",
          "ME",
          "MD",
          "MA",
          "MI",
          "MN",
          "MS",
          "MO",
          "MT",
          "NE",
          "NV",
          "NH",
          "NJ",
          "NM",
          "NY",
          "NC",
          "ND",
          "OH",
          "OK",
          "OR",
          "PA",
          "RI",
          "SC",
          "SD",
          "TN",
          "TX",
          "UT",
          "VT",
          "VA",
          "WA",
          "WV",
          "WI",
          "WY"
         ],
         "name": "",
         "type": "choropleth",
         "z": [
          22.231,
          28.48,
          18.33,
          26.71,
          25.424,
          33.932,
          29.368,
          21.207,
          21.874,
          25.023,
          34.965,
          33.838,
          20.84,
          20.442,
          25.044,
          19.381,
          26.323,
          29.532,
          41.173,
          27.47,
          24.423,
          28.656,
          30.92,
          16.369,
          29.522,
          49.48,
          35.538,
          24.67,
          33.774,
          22.528,
          28.015,
          18.313,
          22.729,
          36.385,
          32.737,
          29.109,
          19.326,
          24.896,
          35.403,
          35.097,
          36.579,
          23.669,
          24.356,
          21.924,
          31.116,
          31.605,
          31.631,
          31.933,
          33.713,
          32.72
         ]
        }
       ],
       "layout": {
        "coloraxis": {
         "colorbar": {
          "title": {
           "text": "percentage of drunk driving accidents"
          }
         },
         "colorscale": [
          [
           0,
           "#0d0887"
          ],
          [
           0.1111111111111111,
           "#46039f"
          ],
          [
           0.2222222222222222,
           "#7201a8"
          ],
          [
           0.3333333333333333,
           "#9c179e"
          ],
          [
           0.4444444444444444,
           "#bd3786"
          ],
          [
           0.5555555555555556,
           "#d8576b"
          ],
          [
           0.6666666666666666,
           "#ed7953"
          ],
          [
           0.7777777777777778,
           "#fb9f3a"
          ],
          [
           0.8888888888888888,
           "#fdca26"
          ],
          [
           1,
           "#f0f921"
          ]
         ]
        },
        "geo": {
         "center": {},
         "domain": {
          "x": [
           0,
           1
          ],
          "y": [
           0,
           1
          ]
         },
         "scope": "usa"
        },
        "legend": {
         "tracegroupgap": 0
        },
        "margin": {
         "t": 60
        },
        "template": {
         "data": {
          "bar": [
           {
            "error_x": {
             "color": "#2a3f5f"
            },
            "error_y": {
             "color": "#2a3f5f"
            },
            "marker": {
             "line": {
              "color": "#E5ECF6",
              "width": 0.5
             },
             "pattern": {
              "fillmode": "overlay",
              "size": 10,
              "solidity": 0.2
             }
            },
            "type": "bar"
           }
          ],
          "barpolar": [
           {
            "marker": {
             "line": {
              "color": "#E5ECF6",
              "width": 0.5
             },
             "pattern": {
              "fillmode": "overlay",
              "size": 10,
              "solidity": 0.2
             }
            },
            "type": "barpolar"
           }
          ],
          "carpet": [
           {
            "aaxis": {
             "endlinecolor": "#2a3f5f",
             "gridcolor": "white",
             "linecolor": "white",
             "minorgridcolor": "white",
             "startlinecolor": "#2a3f5f"
            },
            "baxis": {
             "endlinecolor": "#2a3f5f",
             "gridcolor": "white",
             "linecolor": "white",
             "minorgridcolor": "white",
             "startlinecolor": "#2a3f5f"
            },
            "type": "carpet"
           }
          ],
          "choropleth": [
           {
            "colorbar": {
             "outlinewidth": 0,
             "ticks": ""
            },
            "type": "choropleth"
           }
          ],
          "contour": [
           {
            "colorbar": {
             "outlinewidth": 0,
             "ticks": ""
            },
            "colorscale": [
             [
              0,
              "#0d0887"
             ],
             [
              0.1111111111111111,
              "#46039f"
             ],
             [
              0.2222222222222222,
              "#7201a8"
             ],
             [
              0.3333333333333333,
              "#9c179e"
             ],
             [
              0.4444444444444444,
              "#bd3786"
             ],
             [
              0.5555555555555556,
              "#d8576b"
             ],
             [
              0.6666666666666666,
              "#ed7953"
             ],
             [
              0.7777777777777778,
              "#fb9f3a"
             ],
             [
              0.8888888888888888,
              "#fdca26"
             ],
             [
              1,
              "#f0f921"
             ]
            ],
            "type": "contour"
           }
          ],
          "contourcarpet": [
           {
            "colorbar": {
             "outlinewidth": 0,
             "ticks": ""
            },
            "type": "contourcarpet"
           }
          ],
          "heatmap": [
           {
            "colorbar": {
             "outlinewidth": 0,
             "ticks": ""
            },
            "colorscale": [
             [
              0,
              "#0d0887"
             ],
             [
              0.1111111111111111,
              "#46039f"
             ],
             [
              0.2222222222222222,
              "#7201a8"
             ],
             [
              0.3333333333333333,
              "#9c179e"
             ],
             [
              0.4444444444444444,
              "#bd3786"
             ],
             [
              0.5555555555555556,
              "#d8576b"
             ],
             [
              0.6666666666666666,
              "#ed7953"
             ],
             [
              0.7777777777777778,
              "#fb9f3a"
             ],
             [
              0.8888888888888888,
              "#fdca26"
             ],
             [
              1,
              "#f0f921"
             ]
            ],
            "type": "heatmap"
           }
          ],
          "heatmapgl": [
           {
            "colorbar": {
             "outlinewidth": 0,
             "ticks": ""
            },
            "colorscale": [
             [
              0,
              "#0d0887"
             ],
             [
              0.1111111111111111,
              "#46039f"
             ],
             [
              0.2222222222222222,
              "#7201a8"
             ],
             [
              0.3333333333333333,
              "#9c179e"
             ],
             [
              0.4444444444444444,
              "#bd3786"
             ],
             [
              0.5555555555555556,
              "#d8576b"
             ],
             [
              0.6666666666666666,
              "#ed7953"
             ],
             [
              0.7777777777777778,
              "#fb9f3a"
             ],
             [
              0.8888888888888888,
              "#fdca26"
             ],
             [
              1,
              "#f0f921"
             ]
            ],
            "type": "heatmapgl"
           }
          ],
          "histogram": [
           {
            "marker": {
             "pattern": {
              "fillmode": "overlay",
              "size": 10,
              "solidity": 0.2
             }
            },
            "type": "histogram"
           }
          ],
          "histogram2d": [
           {
            "colorbar": {
             "outlinewidth": 0,
             "ticks": ""
            },
            "colorscale": [
             [
              0,
              "#0d0887"
             ],
             [
              0.1111111111111111,
              "#46039f"
             ],
             [
              0.2222222222222222,
              "#7201a8"
             ],
             [
              0.3333333333333333,
              "#9c179e"
             ],
             [
              0.4444444444444444,
              "#bd3786"
             ],
             [
              0.5555555555555556,
              "#d8576b"
             ],
             [
              0.6666666666666666,
              "#ed7953"
             ],
             [
              0.7777777777777778,
              "#fb9f3a"
             ],
             [
              0.8888888888888888,
              "#fdca26"
             ],
             [
              1,
              "#f0f921"
             ]
            ],
            "type": "histogram2d"
           }
          ],
          "histogram2dcontour": [
           {
            "colorbar": {
             "outlinewidth": 0,
             "ticks": ""
            },
            "colorscale": [
             [
              0,
              "#0d0887"
             ],
             [
              0.1111111111111111,
              "#46039f"
             ],
             [
              0.2222222222222222,
              "#7201a8"
             ],
             [
              0.3333333333333333,
              "#9c179e"
             ],
             [
              0.4444444444444444,
              "#bd3786"
             ],
             [
              0.5555555555555556,
              "#d8576b"
             ],
             [
              0.6666666666666666,
              "#ed7953"
             ],
             [
              0.7777777777777778,
              "#fb9f3a"
             ],
             [
              0.8888888888888888,
              "#fdca26"
             ],
             [
              1,
              "#f0f921"
             ]
            ],
            "type": "histogram2dcontour"
           }
          ],
          "mesh3d": [
           {
            "colorbar": {
             "outlinewidth": 0,
             "ticks": ""
            },
            "type": "mesh3d"
           }
          ],
          "parcoords": [
           {
            "line": {
             "colorbar": {
              "outlinewidth": 0,
              "ticks": ""
             }
            },
            "type": "parcoords"
           }
          ],
          "pie": [
           {
            "automargin": true,
            "type": "pie"
           }
          ],
          "scatter": [
           {
            "fillpattern": {
             "fillmode": "overlay",
             "size": 10,
             "solidity": 0.2
            },
            "type": "scatter"
           }
          ],
          "scatter3d": [
           {
            "line": {
             "colorbar": {
              "outlinewidth": 0,
              "ticks": ""
             }
            },
            "marker": {
             "colorbar": {
              "outlinewidth": 0,
              "ticks": ""
             }
            },
            "type": "scatter3d"
           }
          ],
          "scattercarpet": [
           {
            "marker": {
             "colorbar": {
              "outlinewidth": 0,
              "ticks": ""
             }
            },
            "type": "scattercarpet"
           }
          ],
          "scattergeo": [
           {
            "marker": {
             "colorbar": {
              "outlinewidth": 0,
              "ticks": ""
             }
            },
            "type": "scattergeo"
           }
          ],
          "scattergl": [
           {
            "marker": {
             "colorbar": {
              "outlinewidth": 0,
              "ticks": ""
             }
            },
            "type": "scattergl"
           }
          ],
          "scattermapbox": [
           {
            "marker": {
             "colorbar": {
              "outlinewidth": 0,
              "ticks": ""
             }
            },
            "type": "scattermapbox"
           }
          ],
          "scatterpolar": [
           {
            "marker": {
             "colorbar": {
              "outlinewidth": 0,
              "ticks": ""
             }
            },
            "type": "scatterpolar"
           }
          ],
          "scatterpolargl": [
           {
            "marker": {
             "colorbar": {
              "outlinewidth": 0,
              "ticks": ""
             }
            },
            "type": "scatterpolargl"
           }
          ],
          "scatterternary": [
           {
            "marker": {
             "colorbar": {
              "outlinewidth": 0,
              "ticks": ""
             }
            },
            "type": "scatterternary"
           }
          ],
          "surface": [
           {
            "colorbar": {
             "outlinewidth": 0,
             "ticks": ""
            },
            "colorscale": [
             [
              0,
              "#0d0887"
             ],
             [
              0.1111111111111111,
              "#46039f"
             ],
             [
              0.2222222222222222,
              "#7201a8"
             ],
             [
              0.3333333333333333,
              "#9c179e"
             ],
             [
              0.4444444444444444,
              "#bd3786"
             ],
             [
              0.5555555555555556,
              "#d8576b"
             ],
             [
              0.6666666666666666,
              "#ed7953"
             ],
             [
              0.7777777777777778,
              "#fb9f3a"
             ],
             [
              0.8888888888888888,
              "#fdca26"
             ],
             [
              1,
              "#f0f921"
             ]
            ],
            "type": "surface"
           }
          ],
          "table": [
           {
            "cells": {
             "fill": {
              "color": "#EBF0F8"
             },
             "line": {
              "color": "white"
             }
            },
            "header": {
             "fill": {
              "color": "#C8D4E3"
             },
             "line": {
              "color": "white"
             }
            },
            "type": "table"
           }
          ]
         },
         "layout": {
          "annotationdefaults": {
           "arrowcolor": "#2a3f5f",
           "arrowhead": 0,
           "arrowwidth": 1
          },
          "autotypenumbers": "strict",
          "coloraxis": {
           "colorbar": {
            "outlinewidth": 0,
            "ticks": ""
           }
          },
          "colorscale": {
           "diverging": [
            [
             0,
             "#8e0152"
            ],
            [
             0.1,
             "#c51b7d"
            ],
            [
             0.2,
             "#de77ae"
            ],
            [
             0.3,
             "#f1b6da"
            ],
            [
             0.4,
             "#fde0ef"
            ],
            [
             0.5,
             "#f7f7f7"
            ],
            [
             0.6,
             "#e6f5d0"
            ],
            [
             0.7,
             "#b8e186"
            ],
            [
             0.8,
             "#7fbc41"
            ],
            [
             0.9,
             "#4d9221"
            ],
            [
             1,
             "#276419"
            ]
           ],
           "sequential": [
            [
             0,
             "#0d0887"
            ],
            [
             0.1111111111111111,
             "#46039f"
            ],
            [
             0.2222222222222222,
             "#7201a8"
            ],
            [
             0.3333333333333333,
             "#9c179e"
            ],
            [
             0.4444444444444444,
             "#bd3786"
            ],
            [
             0.5555555555555556,
             "#d8576b"
            ],
            [
             0.6666666666666666,
             "#ed7953"
            ],
            [
             0.7777777777777778,
             "#fb9f3a"
            ],
            [
             0.8888888888888888,
             "#fdca26"
            ],
            [
             1,
             "#f0f921"
            ]
           ],
           "sequentialminus": [
            [
             0,
             "#0d0887"
            ],
            [
             0.1111111111111111,
             "#46039f"
            ],
            [
             0.2222222222222222,
             "#7201a8"
            ],
            [
             0.3333333333333333,
             "#9c179e"
            ],
            [
             0.4444444444444444,
             "#bd3786"
            ],
            [
             0.5555555555555556,
             "#d8576b"
            ],
            [
             0.6666666666666666,
             "#ed7953"
            ],
            [
             0.7777777777777778,
             "#fb9f3a"
            ],
            [
             0.8888888888888888,
             "#fdca26"
            ],
            [
             1,
             "#f0f921"
            ]
           ]
          },
          "colorway": [
           "#636efa",
           "#EF553B",
           "#00cc96",
           "#ab63fa",
           "#FFA15A",
           "#19d3f3",
           "#FF6692",
           "#B6E880",
           "#FF97FF",
           "#FECB52"
          ],
          "font": {
           "color": "#2a3f5f"
          },
          "geo": {
           "bgcolor": "white",
           "lakecolor": "white",
           "landcolor": "#E5ECF6",
           "showlakes": true,
           "showland": true,
           "subunitcolor": "white"
          },
          "hoverlabel": {
           "align": "left"
          },
          "hovermode": "closest",
          "mapbox": {
           "style": "light"
          },
          "paper_bgcolor": "white",
          "plot_bgcolor": "#E5ECF6",
          "polar": {
           "angularaxis": {
            "gridcolor": "white",
            "linecolor": "white",
            "ticks": ""
           },
           "bgcolor": "#E5ECF6",
           "radialaxis": {
            "gridcolor": "white",
            "linecolor": "white",
            "ticks": ""
           }
          },
          "scene": {
           "xaxis": {
            "backgroundcolor": "#E5ECF6",
            "gridcolor": "white",
            "gridwidth": 2,
            "linecolor": "white",
            "showbackground": true,
            "ticks": "",
            "zerolinecolor": "white"
           },
           "yaxis": {
            "backgroundcolor": "#E5ECF6",
            "gridcolor": "white",
            "gridwidth": 2,
            "linecolor": "white",
            "showbackground": true,
            "ticks": "",
            "zerolinecolor": "white"
           },
           "zaxis": {
            "backgroundcolor": "#E5ECF6",
            "gridcolor": "white",
            "gridwidth": 2,
            "linecolor": "white",
            "showbackground": true,
            "ticks": "",
            "zerolinecolor": "white"
           }
          },
          "shapedefaults": {
           "line": {
            "color": "#2a3f5f"
           }
          },
          "ternary": {
           "aaxis": {
            "gridcolor": "white",
            "linecolor": "white",
            "ticks": ""
           },
           "baxis": {
            "gridcolor": "white",
            "linecolor": "white",
            "ticks": ""
           },
           "bgcolor": "#E5ECF6",
           "caxis": {
            "gridcolor": "white",
            "linecolor": "white",
            "ticks": ""
           }
          },
          "title": {
           "x": 0.05
          },
          "xaxis": {
           "automargin": true,
           "gridcolor": "white",
           "linecolor": "white",
           "ticks": "",
           "title": {
            "standoff": 15
           },
           "zerolinecolor": "white",
           "zerolinewidth": 2
          },
          "yaxis": {
           "automargin": true,
           "gridcolor": "white",
           "linecolor": "white",
           "ticks": "",
           "title": {
            "standoff": 15
           },
           "zerolinecolor": "white",
           "zerolinewidth": 2
          }
         }
        }
       }
      },
      "text/html": [
       "<div>                            <div id=\"16214044-dd49-4154-b3f3-993fc05c5c3b\" class=\"plotly-graph-div\" style=\"height:525px; width:100%;\"></div>            <script type=\"text/javascript\">                require([\"plotly\"], function(Plotly) {                    window.PLOTLYENV=window.PLOTLYENV || {};                                    if (document.getElementById(\"16214044-dd49-4154-b3f3-993fc05c5c3b\")) {                    Plotly.newPlot(                        \"16214044-dd49-4154-b3f3-993fc05c5c3b\",                        [{\"coloraxis\":\"coloraxis\",\"geo\":\"geo\",\"hovertemplate\":\"Abb_state=%{location}<br>percentage of drunk driving accidents=%{z}<extra></extra>\",\"locationmode\":\"USA-states\",\"locations\":[\"AL\",\"AK\",\"AZ\",\"AR\",\"CA\",\"CO\",\"CT\",\"DE\",\"FL\",\"GA\",\"HI\",\"ID\",\"IL\",\"IN\",\"IA\",\"KS\",\"KY\",\"LA\",\"ME\",\"MD\",\"MA\",\"MI\",\"MN\",\"MS\",\"MO\",\"MT\",\"NE\",\"NV\",\"NH\",\"NJ\",\"NM\",\"NY\",\"NC\",\"ND\",\"OH\",\"OK\",\"OR\",\"PA\",\"RI\",\"SC\",\"SD\",\"TN\",\"TX\",\"UT\",\"VT\",\"VA\",\"WA\",\"WV\",\"WI\",\"WY\"],\"name\":\"\",\"z\":[22.231,28.48,18.33,26.71,25.424,33.932,29.368,21.207,21.874,25.023,34.965,33.838,20.84,20.442,25.044,19.381,26.323,29.532,41.173,27.47,24.423,28.656,30.92,16.369,29.522,49.48,35.538,24.67,33.774,22.528,28.015,18.313,22.729,36.385,32.737,29.109,19.326,24.896,35.403,35.097,36.579,23.669,24.356,21.924,31.116,31.605,31.631,31.933,33.713,32.72],\"type\":\"choropleth\"}],                        {\"template\":{\"data\":{\"histogram2dcontour\":[{\"type\":\"histogram2dcontour\",\"colorbar\":{\"outlinewidth\":0,\"ticks\":\"\"},\"colorscale\":[[0.0,\"#0d0887\"],[0.1111111111111111,\"#46039f\"],[0.2222222222222222,\"#7201a8\"],[0.3333333333333333,\"#9c179e\"],[0.4444444444444444,\"#bd3786\"],[0.5555555555555556,\"#d8576b\"],[0.6666666666666666,\"#ed7953\"],[0.7777777777777778,\"#fb9f3a\"],[0.8888888888888888,\"#fdca26\"],[1.0,\"#f0f921\"]]}],\"choropleth\":[{\"type\":\"choropleth\",\"colorbar\":{\"outlinewidth\":0,\"ticks\":\"\"}}],\"histogram2d\":[{\"type\":\"histogram2d\",\"colorbar\":{\"outlinewidth\":0,\"ticks\":\"\"},\"colorscale\":[[0.0,\"#0d0887\"],[0.1111111111111111,\"#46039f\"],[0.2222222222222222,\"#7201a8\"],[0.3333333333333333,\"#9c179e\"],[0.4444444444444444,\"#bd3786\"],[0.5555555555555556,\"#d8576b\"],[0.6666666666666666,\"#ed7953\"],[0.7777777777777778,\"#fb9f3a\"],[0.8888888888888888,\"#fdca26\"],[1.0,\"#f0f921\"]]}],\"heatmap\":[{\"type\":\"heatmap\",\"colorbar\":{\"outlinewidth\":0,\"ticks\":\"\"},\"colorscale\":[[0.0,\"#0d0887\"],[0.1111111111111111,\"#46039f\"],[0.2222222222222222,\"#7201a8\"],[0.3333333333333333,\"#9c179e\"],[0.4444444444444444,\"#bd3786\"],[0.5555555555555556,\"#d8576b\"],[0.6666666666666666,\"#ed7953\"],[0.7777777777777778,\"#fb9f3a\"],[0.8888888888888888,\"#fdca26\"],[1.0,\"#f0f921\"]]}],\"heatmapgl\":[{\"type\":\"heatmapgl\",\"colorbar\":{\"outlinewidth\":0,\"ticks\":\"\"},\"colorscale\":[[0.0,\"#0d0887\"],[0.1111111111111111,\"#46039f\"],[0.2222222222222222,\"#7201a8\"],[0.3333333333333333,\"#9c179e\"],[0.4444444444444444,\"#bd3786\"],[0.5555555555555556,\"#d8576b\"],[0.6666666666666666,\"#ed7953\"],[0.7777777777777778,\"#fb9f3a\"],[0.8888888888888888,\"#fdca26\"],[1.0,\"#f0f921\"]]}],\"contourcarpet\":[{\"type\":\"contourcarpet\",\"colorbar\":{\"outlinewidth\":0,\"ticks\":\"\"}}],\"contour\":[{\"type\":\"contour\",\"colorbar\":{\"outlinewidth\":0,\"ticks\":\"\"},\"colorscale\":[[0.0,\"#0d0887\"],[0.1111111111111111,\"#46039f\"],[0.2222222222222222,\"#7201a8\"],[0.3333333333333333,\"#9c179e\"],[0.4444444444444444,\"#bd3786\"],[0.5555555555555556,\"#d8576b\"],[0.6666666666666666,\"#ed7953\"],[0.7777777777777778,\"#fb9f3a\"],[0.8888888888888888,\"#fdca26\"],[1.0,\"#f0f921\"]]}],\"surface\":[{\"type\":\"surface\",\"colorbar\":{\"outlinewidth\":0,\"ticks\":\"\"},\"colorscale\":[[0.0,\"#0d0887\"],[0.1111111111111111,\"#46039f\"],[0.2222222222222222,\"#7201a8\"],[0.3333333333333333,\"#9c179e\"],[0.4444444444444444,\"#bd3786\"],[0.5555555555555556,\"#d8576b\"],[0.6666666666666666,\"#ed7953\"],[0.7777777777777778,\"#fb9f3a\"],[0.8888888888888888,\"#fdca26\"],[1.0,\"#f0f921\"]]}],\"mesh3d\":[{\"type\":\"mesh3d\",\"colorbar\":{\"outlinewidth\":0,\"ticks\":\"\"}}],\"scatter\":[{\"fillpattern\":{\"fillmode\":\"overlay\",\"size\":10,\"solidity\":0.2},\"type\":\"scatter\"}],\"parcoords\":[{\"type\":\"parcoords\",\"line\":{\"colorbar\":{\"outlinewidth\":0,\"ticks\":\"\"}}}],\"scatterpolargl\":[{\"type\":\"scatterpolargl\",\"marker\":{\"colorbar\":{\"outlinewidth\":0,\"ticks\":\"\"}}}],\"bar\":[{\"error_x\":{\"color\":\"#2a3f5f\"},\"error_y\":{\"color\":\"#2a3f5f\"},\"marker\":{\"line\":{\"color\":\"#E5ECF6\",\"width\":0.5},\"pattern\":{\"fillmode\":\"overlay\",\"size\":10,\"solidity\":0.2}},\"type\":\"bar\"}],\"scattergeo\":[{\"type\":\"scattergeo\",\"marker\":{\"colorbar\":{\"outlinewidth\":0,\"ticks\":\"\"}}}],\"scatterpolar\":[{\"type\":\"scatterpolar\",\"marker\":{\"colorbar\":{\"outlinewidth\":0,\"ticks\":\"\"}}}],\"histogram\":[{\"marker\":{\"pattern\":{\"fillmode\":\"overlay\",\"size\":10,\"solidity\":0.2}},\"type\":\"histogram\"}],\"scattergl\":[{\"type\":\"scattergl\",\"marker\":{\"colorbar\":{\"outlinewidth\":0,\"ticks\":\"\"}}}],\"scatter3d\":[{\"type\":\"scatter3d\",\"line\":{\"colorbar\":{\"outlinewidth\":0,\"ticks\":\"\"}},\"marker\":{\"colorbar\":{\"outlinewidth\":0,\"ticks\":\"\"}}}],\"scattermapbox\":[{\"type\":\"scattermapbox\",\"marker\":{\"colorbar\":{\"outlinewidth\":0,\"ticks\":\"\"}}}],\"scatterternary\":[{\"type\":\"scatterternary\",\"marker\":{\"colorbar\":{\"outlinewidth\":0,\"ticks\":\"\"}}}],\"scattercarpet\":[{\"type\":\"scattercarpet\",\"marker\":{\"colorbar\":{\"outlinewidth\":0,\"ticks\":\"\"}}}],\"carpet\":[{\"aaxis\":{\"endlinecolor\":\"#2a3f5f\",\"gridcolor\":\"white\",\"linecolor\":\"white\",\"minorgridcolor\":\"white\",\"startlinecolor\":\"#2a3f5f\"},\"baxis\":{\"endlinecolor\":\"#2a3f5f\",\"gridcolor\":\"white\",\"linecolor\":\"white\",\"minorgridcolor\":\"white\",\"startlinecolor\":\"#2a3f5f\"},\"type\":\"carpet\"}],\"table\":[{\"cells\":{\"fill\":{\"color\":\"#EBF0F8\"},\"line\":{\"color\":\"white\"}},\"header\":{\"fill\":{\"color\":\"#C8D4E3\"},\"line\":{\"color\":\"white\"}},\"type\":\"table\"}],\"barpolar\":[{\"marker\":{\"line\":{\"color\":\"#E5ECF6\",\"width\":0.5},\"pattern\":{\"fillmode\":\"overlay\",\"size\":10,\"solidity\":0.2}},\"type\":\"barpolar\"}],\"pie\":[{\"automargin\":true,\"type\":\"pie\"}]},\"layout\":{\"autotypenumbers\":\"strict\",\"colorway\":[\"#636efa\",\"#EF553B\",\"#00cc96\",\"#ab63fa\",\"#FFA15A\",\"#19d3f3\",\"#FF6692\",\"#B6E880\",\"#FF97FF\",\"#FECB52\"],\"font\":{\"color\":\"#2a3f5f\"},\"hovermode\":\"closest\",\"hoverlabel\":{\"align\":\"left\"},\"paper_bgcolor\":\"white\",\"plot_bgcolor\":\"#E5ECF6\",\"polar\":{\"bgcolor\":\"#E5ECF6\",\"angularaxis\":{\"gridcolor\":\"white\",\"linecolor\":\"white\",\"ticks\":\"\"},\"radialaxis\":{\"gridcolor\":\"white\",\"linecolor\":\"white\",\"ticks\":\"\"}},\"ternary\":{\"bgcolor\":\"#E5ECF6\",\"aaxis\":{\"gridcolor\":\"white\",\"linecolor\":\"white\",\"ticks\":\"\"},\"baxis\":{\"gridcolor\":\"white\",\"linecolor\":\"white\",\"ticks\":\"\"},\"caxis\":{\"gridcolor\":\"white\",\"linecolor\":\"white\",\"ticks\":\"\"}},\"coloraxis\":{\"colorbar\":{\"outlinewidth\":0,\"ticks\":\"\"}},\"colorscale\":{\"sequential\":[[0.0,\"#0d0887\"],[0.1111111111111111,\"#46039f\"],[0.2222222222222222,\"#7201a8\"],[0.3333333333333333,\"#9c179e\"],[0.4444444444444444,\"#bd3786\"],[0.5555555555555556,\"#d8576b\"],[0.6666666666666666,\"#ed7953\"],[0.7777777777777778,\"#fb9f3a\"],[0.8888888888888888,\"#fdca26\"],[1.0,\"#f0f921\"]],\"sequentialminus\":[[0.0,\"#0d0887\"],[0.1111111111111111,\"#46039f\"],[0.2222222222222222,\"#7201a8\"],[0.3333333333333333,\"#9c179e\"],[0.4444444444444444,\"#bd3786\"],[0.5555555555555556,\"#d8576b\"],[0.6666666666666666,\"#ed7953\"],[0.7777777777777778,\"#fb9f3a\"],[0.8888888888888888,\"#fdca26\"],[1.0,\"#f0f921\"]],\"diverging\":[[0,\"#8e0152\"],[0.1,\"#c51b7d\"],[0.2,\"#de77ae\"],[0.3,\"#f1b6da\"],[0.4,\"#fde0ef\"],[0.5,\"#f7f7f7\"],[0.6,\"#e6f5d0\"],[0.7,\"#b8e186\"],[0.8,\"#7fbc41\"],[0.9,\"#4d9221\"],[1,\"#276419\"]]},\"xaxis\":{\"gridcolor\":\"white\",\"linecolor\":\"white\",\"ticks\":\"\",\"title\":{\"standoff\":15},\"zerolinecolor\":\"white\",\"automargin\":true,\"zerolinewidth\":2},\"yaxis\":{\"gridcolor\":\"white\",\"linecolor\":\"white\",\"ticks\":\"\",\"title\":{\"standoff\":15},\"zerolinecolor\":\"white\",\"automargin\":true,\"zerolinewidth\":2},\"scene\":{\"xaxis\":{\"backgroundcolor\":\"#E5ECF6\",\"gridcolor\":\"white\",\"linecolor\":\"white\",\"showbackground\":true,\"ticks\":\"\",\"zerolinecolor\":\"white\",\"gridwidth\":2},\"yaxis\":{\"backgroundcolor\":\"#E5ECF6\",\"gridcolor\":\"white\",\"linecolor\":\"white\",\"showbackground\":true,\"ticks\":\"\",\"zerolinecolor\":\"white\",\"gridwidth\":2},\"zaxis\":{\"backgroundcolor\":\"#E5ECF6\",\"gridcolor\":\"white\",\"linecolor\":\"white\",\"showbackground\":true,\"ticks\":\"\",\"zerolinecolor\":\"white\",\"gridwidth\":2}},\"shapedefaults\":{\"line\":{\"color\":\"#2a3f5f\"}},\"annotationdefaults\":{\"arrowcolor\":\"#2a3f5f\",\"arrowhead\":0,\"arrowwidth\":1},\"geo\":{\"bgcolor\":\"white\",\"landcolor\":\"#E5ECF6\",\"subunitcolor\":\"white\",\"showland\":true,\"showlakes\":true,\"lakecolor\":\"white\"},\"title\":{\"x\":0.05},\"mapbox\":{\"style\":\"light\"}}},\"geo\":{\"domain\":{\"x\":[0.0,1.0],\"y\":[0.0,1.0]},\"center\":{},\"scope\":\"usa\"},\"coloraxis\":{\"colorbar\":{\"title\":{\"text\":\"percentage of drunk driving accidents\"}},\"colorscale\":[[0.0,\"#0d0887\"],[0.1111111111111111,\"#46039f\"],[0.2222222222222222,\"#7201a8\"],[0.3333333333333333,\"#9c179e\"],[0.4444444444444444,\"#bd3786\"],[0.5555555555555556,\"#d8576b\"],[0.6666666666666666,\"#ed7953\"],[0.7777777777777778,\"#fb9f3a\"],[0.8888888888888888,\"#fdca26\"],[1.0,\"#f0f921\"]]},\"legend\":{\"tracegroupgap\":0},\"margin\":{\"t\":60}},                        {\"responsive\": true}                    ).then(function(){\n",
       "                            \n",
       "var gd = document.getElementById('16214044-dd49-4154-b3f3-993fc05c5c3b');\n",
       "var x = new MutationObserver(function (mutations, observer) {{\n",
       "        var display = window.getComputedStyle(gd).display;\n",
       "        if (!display || display === 'none') {{\n",
       "            console.log([gd, 'removed!']);\n",
       "            Plotly.purge(gd);\n",
       "            observer.disconnect();\n",
       "        }}\n",
       "}});\n",
       "\n",
       "// Listen for the removal of the full notebook cells\n",
       "var notebookContainer = gd.closest('#notebook-container');\n",
       "if (notebookContainer) {{\n",
       "    x.observe(notebookContainer, {childList: true});\n",
       "}}\n",
       "\n",
       "// Listen for the clearing of the current output cell\n",
       "var outputEl = gd.closest('.output');\n",
       "if (outputEl) {{\n",
       "    x.observe(outputEl, {childList: true});\n",
       "}}\n",
       "\n",
       "                        })                };                });            </script>        </div>"
      ]
     },
     "metadata": {},
     "output_type": "display_data"
    },
    {
     "data": {
      "text/plain": [
       "<Figure size 640x480 with 0 Axes>"
      ]
     },
     "metadata": {},
     "output_type": "display_data"
    }
   ],
   "source": [
    "import plotly.express as px \n",
    "fig = px.choropleth(small_df, locations='Abb_state', locationmode='USA-states', color='percentage of drunk driving accidents', scope='usa') \n",
    "plt.savefig('pic/12.png', dpi=300, bbox_inches='tight')\n",
    "fig.show()"
   ]
  },
  {
   "cell_type": "code",
   "execution_count": 1098,
   "id": "4fc9ba9e",
   "metadata": {},
   "outputs": [],
   "source": [
    "outputs = model(X).detach()\n",
    "\n",
    "small_df[\"Absolute Errors\"] = np.abs(np.array(outputs).reshape(-1) - np.array(y).reshape(-1))"
   ]
  },
  {
   "cell_type": "code",
   "execution_count": 1100,
   "id": "29bb67e3",
   "metadata": {},
   "outputs": [
    {
     "data": {
      "application/vnd.plotly.v1+json": {
       "config": {
        "plotlyServerURL": "https://plot.ly"
       },
       "data": [
        {
         "coloraxis": "coloraxis",
         "geo": "geo",
         "hovertemplate": "Abb_state=%{location}<br>Absolute Errors=%{z}<extra></extra>",
         "locationmode": "USA-states",
         "locations": [
          "AL",
          "AK",
          "AZ",
          "AR",
          "CA",
          "CO",
          "CT",
          "DE",
          "FL",
          "GA",
          "HI",
          "ID",
          "IL",
          "IN",
          "IA",
          "KS",
          "KY",
          "LA",
          "ME",
          "MD",
          "MA",
          "MI",
          "MN",
          "MS",
          "MO",
          "MT",
          "NE",
          "NV",
          "NH",
          "NJ",
          "NM",
          "NY",
          "NC",
          "ND",
          "OH",
          "OK",
          "OR",
          "PA",
          "RI",
          "SC",
          "SD",
          "TN",
          "TX",
          "UT",
          "VT",
          "VA",
          "WA",
          "WV",
          "WI",
          "WY"
         ],
         "name": "",
         "type": "choropleth",
         "z": [
          1.1706981658935547,
          1.3254642486572266,
          0.27480125427246094,
          4.51500129699707,
          1.4919357299804688,
          0.8498153686523438,
          1.0157661437988281,
          0.09134864807128906,
          0.993438720703125,
          0.47110939025878906,
          0.7808418273925781,
          1.4449272155761719,
          0.6859207153320312,
          3.2186145782470703,
          1.210165023803711,
          1.8106861114501953,
          1.1583919525146484,
          10.482450485229492,
          3.8814964294433594,
          0.8592720031738281,
          4.507568359375,
          0.581024169921875,
          0.04162406921386719,
          0.707122802734375,
          3.2356834411621094,
          11.218524932861328,
          9.533746719360352,
          0.6712436676025391,
          1.2926063537597656,
          9.383209228515625,
          1.2272624969482422,
          0.3691520690917969,
          2.5735816955566406,
          1.48681640625,
          3.04071044921875,
          1.9741439819335938,
          1.5077571868896484,
          0.5309772491455078,
          1.1025619506835938,
          12.92324447631836,
          1.1718902587890625,
          0.46251869201660156,
          0.6658344268798828,
          9.018695831298828,
          2.449758529663086,
          3.821779251098633,
          0.20158004760742188,
          0.7449550628662109,
          5.274837493896484,
          1.069091796875
         ]
        }
       ],
       "layout": {
        "coloraxis": {
         "colorbar": {
          "title": {
           "text": "Absolute Errors"
          }
         },
         "colorscale": [
          [
           0,
           "#0d0887"
          ],
          [
           0.1111111111111111,
           "#46039f"
          ],
          [
           0.2222222222222222,
           "#7201a8"
          ],
          [
           0.3333333333333333,
           "#9c179e"
          ],
          [
           0.4444444444444444,
           "#bd3786"
          ],
          [
           0.5555555555555556,
           "#d8576b"
          ],
          [
           0.6666666666666666,
           "#ed7953"
          ],
          [
           0.7777777777777778,
           "#fb9f3a"
          ],
          [
           0.8888888888888888,
           "#fdca26"
          ],
          [
           1,
           "#f0f921"
          ]
         ]
        },
        "geo": {
         "center": {},
         "domain": {
          "x": [
           0,
           1
          ],
          "y": [
           0,
           1
          ]
         },
         "scope": "usa"
        },
        "legend": {
         "tracegroupgap": 0
        },
        "margin": {
         "t": 60
        },
        "template": {
         "data": {
          "bar": [
           {
            "error_x": {
             "color": "#2a3f5f"
            },
            "error_y": {
             "color": "#2a3f5f"
            },
            "marker": {
             "line": {
              "color": "#E5ECF6",
              "width": 0.5
             },
             "pattern": {
              "fillmode": "overlay",
              "size": 10,
              "solidity": 0.2
             }
            },
            "type": "bar"
           }
          ],
          "barpolar": [
           {
            "marker": {
             "line": {
              "color": "#E5ECF6",
              "width": 0.5
             },
             "pattern": {
              "fillmode": "overlay",
              "size": 10,
              "solidity": 0.2
             }
            },
            "type": "barpolar"
           }
          ],
          "carpet": [
           {
            "aaxis": {
             "endlinecolor": "#2a3f5f",
             "gridcolor": "white",
             "linecolor": "white",
             "minorgridcolor": "white",
             "startlinecolor": "#2a3f5f"
            },
            "baxis": {
             "endlinecolor": "#2a3f5f",
             "gridcolor": "white",
             "linecolor": "white",
             "minorgridcolor": "white",
             "startlinecolor": "#2a3f5f"
            },
            "type": "carpet"
           }
          ],
          "choropleth": [
           {
            "colorbar": {
             "outlinewidth": 0,
             "ticks": ""
            },
            "type": "choropleth"
           }
          ],
          "contour": [
           {
            "colorbar": {
             "outlinewidth": 0,
             "ticks": ""
            },
            "colorscale": [
             [
              0,
              "#0d0887"
             ],
             [
              0.1111111111111111,
              "#46039f"
             ],
             [
              0.2222222222222222,
              "#7201a8"
             ],
             [
              0.3333333333333333,
              "#9c179e"
             ],
             [
              0.4444444444444444,
              "#bd3786"
             ],
             [
              0.5555555555555556,
              "#d8576b"
             ],
             [
              0.6666666666666666,
              "#ed7953"
             ],
             [
              0.7777777777777778,
              "#fb9f3a"
             ],
             [
              0.8888888888888888,
              "#fdca26"
             ],
             [
              1,
              "#f0f921"
             ]
            ],
            "type": "contour"
           }
          ],
          "contourcarpet": [
           {
            "colorbar": {
             "outlinewidth": 0,
             "ticks": ""
            },
            "type": "contourcarpet"
           }
          ],
          "heatmap": [
           {
            "colorbar": {
             "outlinewidth": 0,
             "ticks": ""
            },
            "colorscale": [
             [
              0,
              "#0d0887"
             ],
             [
              0.1111111111111111,
              "#46039f"
             ],
             [
              0.2222222222222222,
              "#7201a8"
             ],
             [
              0.3333333333333333,
              "#9c179e"
             ],
             [
              0.4444444444444444,
              "#bd3786"
             ],
             [
              0.5555555555555556,
              "#d8576b"
             ],
             [
              0.6666666666666666,
              "#ed7953"
             ],
             [
              0.7777777777777778,
              "#fb9f3a"
             ],
             [
              0.8888888888888888,
              "#fdca26"
             ],
             [
              1,
              "#f0f921"
             ]
            ],
            "type": "heatmap"
           }
          ],
          "heatmapgl": [
           {
            "colorbar": {
             "outlinewidth": 0,
             "ticks": ""
            },
            "colorscale": [
             [
              0,
              "#0d0887"
             ],
             [
              0.1111111111111111,
              "#46039f"
             ],
             [
              0.2222222222222222,
              "#7201a8"
             ],
             [
              0.3333333333333333,
              "#9c179e"
             ],
             [
              0.4444444444444444,
              "#bd3786"
             ],
             [
              0.5555555555555556,
              "#d8576b"
             ],
             [
              0.6666666666666666,
              "#ed7953"
             ],
             [
              0.7777777777777778,
              "#fb9f3a"
             ],
             [
              0.8888888888888888,
              "#fdca26"
             ],
             [
              1,
              "#f0f921"
             ]
            ],
            "type": "heatmapgl"
           }
          ],
          "histogram": [
           {
            "marker": {
             "pattern": {
              "fillmode": "overlay",
              "size": 10,
              "solidity": 0.2
             }
            },
            "type": "histogram"
           }
          ],
          "histogram2d": [
           {
            "colorbar": {
             "outlinewidth": 0,
             "ticks": ""
            },
            "colorscale": [
             [
              0,
              "#0d0887"
             ],
             [
              0.1111111111111111,
              "#46039f"
             ],
             [
              0.2222222222222222,
              "#7201a8"
             ],
             [
              0.3333333333333333,
              "#9c179e"
             ],
             [
              0.4444444444444444,
              "#bd3786"
             ],
             [
              0.5555555555555556,
              "#d8576b"
             ],
             [
              0.6666666666666666,
              "#ed7953"
             ],
             [
              0.7777777777777778,
              "#fb9f3a"
             ],
             [
              0.8888888888888888,
              "#fdca26"
             ],
             [
              1,
              "#f0f921"
             ]
            ],
            "type": "histogram2d"
           }
          ],
          "histogram2dcontour": [
           {
            "colorbar": {
             "outlinewidth": 0,
             "ticks": ""
            },
            "colorscale": [
             [
              0,
              "#0d0887"
             ],
             [
              0.1111111111111111,
              "#46039f"
             ],
             [
              0.2222222222222222,
              "#7201a8"
             ],
             [
              0.3333333333333333,
              "#9c179e"
             ],
             [
              0.4444444444444444,
              "#bd3786"
             ],
             [
              0.5555555555555556,
              "#d8576b"
             ],
             [
              0.6666666666666666,
              "#ed7953"
             ],
             [
              0.7777777777777778,
              "#fb9f3a"
             ],
             [
              0.8888888888888888,
              "#fdca26"
             ],
             [
              1,
              "#f0f921"
             ]
            ],
            "type": "histogram2dcontour"
           }
          ],
          "mesh3d": [
           {
            "colorbar": {
             "outlinewidth": 0,
             "ticks": ""
            },
            "type": "mesh3d"
           }
          ],
          "parcoords": [
           {
            "line": {
             "colorbar": {
              "outlinewidth": 0,
              "ticks": ""
             }
            },
            "type": "parcoords"
           }
          ],
          "pie": [
           {
            "automargin": true,
            "type": "pie"
           }
          ],
          "scatter": [
           {
            "fillpattern": {
             "fillmode": "overlay",
             "size": 10,
             "solidity": 0.2
            },
            "type": "scatter"
           }
          ],
          "scatter3d": [
           {
            "line": {
             "colorbar": {
              "outlinewidth": 0,
              "ticks": ""
             }
            },
            "marker": {
             "colorbar": {
              "outlinewidth": 0,
              "ticks": ""
             }
            },
            "type": "scatter3d"
           }
          ],
          "scattercarpet": [
           {
            "marker": {
             "colorbar": {
              "outlinewidth": 0,
              "ticks": ""
             }
            },
            "type": "scattercarpet"
           }
          ],
          "scattergeo": [
           {
            "marker": {
             "colorbar": {
              "outlinewidth": 0,
              "ticks": ""
             }
            },
            "type": "scattergeo"
           }
          ],
          "scattergl": [
           {
            "marker": {
             "colorbar": {
              "outlinewidth": 0,
              "ticks": ""
             }
            },
            "type": "scattergl"
           }
          ],
          "scattermapbox": [
           {
            "marker": {
             "colorbar": {
              "outlinewidth": 0,
              "ticks": ""
             }
            },
            "type": "scattermapbox"
           }
          ],
          "scatterpolar": [
           {
            "marker": {
             "colorbar": {
              "outlinewidth": 0,
              "ticks": ""
             }
            },
            "type": "scatterpolar"
           }
          ],
          "scatterpolargl": [
           {
            "marker": {
             "colorbar": {
              "outlinewidth": 0,
              "ticks": ""
             }
            },
            "type": "scatterpolargl"
           }
          ],
          "scatterternary": [
           {
            "marker": {
             "colorbar": {
              "outlinewidth": 0,
              "ticks": ""
             }
            },
            "type": "scatterternary"
           }
          ],
          "surface": [
           {
            "colorbar": {
             "outlinewidth": 0,
             "ticks": ""
            },
            "colorscale": [
             [
              0,
              "#0d0887"
             ],
             [
              0.1111111111111111,
              "#46039f"
             ],
             [
              0.2222222222222222,
              "#7201a8"
             ],
             [
              0.3333333333333333,
              "#9c179e"
             ],
             [
              0.4444444444444444,
              "#bd3786"
             ],
             [
              0.5555555555555556,
              "#d8576b"
             ],
             [
              0.6666666666666666,
              "#ed7953"
             ],
             [
              0.7777777777777778,
              "#fb9f3a"
             ],
             [
              0.8888888888888888,
              "#fdca26"
             ],
             [
              1,
              "#f0f921"
             ]
            ],
            "type": "surface"
           }
          ],
          "table": [
           {
            "cells": {
             "fill": {
              "color": "#EBF0F8"
             },
             "line": {
              "color": "white"
             }
            },
            "header": {
             "fill": {
              "color": "#C8D4E3"
             },
             "line": {
              "color": "white"
             }
            },
            "type": "table"
           }
          ]
         },
         "layout": {
          "annotationdefaults": {
           "arrowcolor": "#2a3f5f",
           "arrowhead": 0,
           "arrowwidth": 1
          },
          "autotypenumbers": "strict",
          "coloraxis": {
           "colorbar": {
            "outlinewidth": 0,
            "ticks": ""
           }
          },
          "colorscale": {
           "diverging": [
            [
             0,
             "#8e0152"
            ],
            [
             0.1,
             "#c51b7d"
            ],
            [
             0.2,
             "#de77ae"
            ],
            [
             0.3,
             "#f1b6da"
            ],
            [
             0.4,
             "#fde0ef"
            ],
            [
             0.5,
             "#f7f7f7"
            ],
            [
             0.6,
             "#e6f5d0"
            ],
            [
             0.7,
             "#b8e186"
            ],
            [
             0.8,
             "#7fbc41"
            ],
            [
             0.9,
             "#4d9221"
            ],
            [
             1,
             "#276419"
            ]
           ],
           "sequential": [
            [
             0,
             "#0d0887"
            ],
            [
             0.1111111111111111,
             "#46039f"
            ],
            [
             0.2222222222222222,
             "#7201a8"
            ],
            [
             0.3333333333333333,
             "#9c179e"
            ],
            [
             0.4444444444444444,
             "#bd3786"
            ],
            [
             0.5555555555555556,
             "#d8576b"
            ],
            [
             0.6666666666666666,
             "#ed7953"
            ],
            [
             0.7777777777777778,
             "#fb9f3a"
            ],
            [
             0.8888888888888888,
             "#fdca26"
            ],
            [
             1,
             "#f0f921"
            ]
           ],
           "sequentialminus": [
            [
             0,
             "#0d0887"
            ],
            [
             0.1111111111111111,
             "#46039f"
            ],
            [
             0.2222222222222222,
             "#7201a8"
            ],
            [
             0.3333333333333333,
             "#9c179e"
            ],
            [
             0.4444444444444444,
             "#bd3786"
            ],
            [
             0.5555555555555556,
             "#d8576b"
            ],
            [
             0.6666666666666666,
             "#ed7953"
            ],
            [
             0.7777777777777778,
             "#fb9f3a"
            ],
            [
             0.8888888888888888,
             "#fdca26"
            ],
            [
             1,
             "#f0f921"
            ]
           ]
          },
          "colorway": [
           "#636efa",
           "#EF553B",
           "#00cc96",
           "#ab63fa",
           "#FFA15A",
           "#19d3f3",
           "#FF6692",
           "#B6E880",
           "#FF97FF",
           "#FECB52"
          ],
          "font": {
           "color": "#2a3f5f"
          },
          "geo": {
           "bgcolor": "white",
           "lakecolor": "white",
           "landcolor": "#E5ECF6",
           "showlakes": true,
           "showland": true,
           "subunitcolor": "white"
          },
          "hoverlabel": {
           "align": "left"
          },
          "hovermode": "closest",
          "mapbox": {
           "style": "light"
          },
          "paper_bgcolor": "white",
          "plot_bgcolor": "#E5ECF6",
          "polar": {
           "angularaxis": {
            "gridcolor": "white",
            "linecolor": "white",
            "ticks": ""
           },
           "bgcolor": "#E5ECF6",
           "radialaxis": {
            "gridcolor": "white",
            "linecolor": "white",
            "ticks": ""
           }
          },
          "scene": {
           "xaxis": {
            "backgroundcolor": "#E5ECF6",
            "gridcolor": "white",
            "gridwidth": 2,
            "linecolor": "white",
            "showbackground": true,
            "ticks": "",
            "zerolinecolor": "white"
           },
           "yaxis": {
            "backgroundcolor": "#E5ECF6",
            "gridcolor": "white",
            "gridwidth": 2,
            "linecolor": "white",
            "showbackground": true,
            "ticks": "",
            "zerolinecolor": "white"
           },
           "zaxis": {
            "backgroundcolor": "#E5ECF6",
            "gridcolor": "white",
            "gridwidth": 2,
            "linecolor": "white",
            "showbackground": true,
            "ticks": "",
            "zerolinecolor": "white"
           }
          },
          "shapedefaults": {
           "line": {
            "color": "#2a3f5f"
           }
          },
          "ternary": {
           "aaxis": {
            "gridcolor": "white",
            "linecolor": "white",
            "ticks": ""
           },
           "baxis": {
            "gridcolor": "white",
            "linecolor": "white",
            "ticks": ""
           },
           "bgcolor": "#E5ECF6",
           "caxis": {
            "gridcolor": "white",
            "linecolor": "white",
            "ticks": ""
           }
          },
          "title": {
           "x": 0.05
          },
          "xaxis": {
           "automargin": true,
           "gridcolor": "white",
           "linecolor": "white",
           "ticks": "",
           "title": {
            "standoff": 15
           },
           "zerolinecolor": "white",
           "zerolinewidth": 2
          },
          "yaxis": {
           "automargin": true,
           "gridcolor": "white",
           "linecolor": "white",
           "ticks": "",
           "title": {
            "standoff": 15
           },
           "zerolinecolor": "white",
           "zerolinewidth": 2
          }
         }
        }
       }
      },
      "text/html": [
       "<div>                            <div id=\"ac0eede9-8dde-483f-b616-a9cf729d7f41\" class=\"plotly-graph-div\" style=\"height:525px; width:100%;\"></div>            <script type=\"text/javascript\">                require([\"plotly\"], function(Plotly) {                    window.PLOTLYENV=window.PLOTLYENV || {};                                    if (document.getElementById(\"ac0eede9-8dde-483f-b616-a9cf729d7f41\")) {                    Plotly.newPlot(                        \"ac0eede9-8dde-483f-b616-a9cf729d7f41\",                        [{\"coloraxis\":\"coloraxis\",\"geo\":\"geo\",\"hovertemplate\":\"Abb_state=%{location}<br>Absolute Errors=%{z}<extra></extra>\",\"locationmode\":\"USA-states\",\"locations\":[\"AL\",\"AK\",\"AZ\",\"AR\",\"CA\",\"CO\",\"CT\",\"DE\",\"FL\",\"GA\",\"HI\",\"ID\",\"IL\",\"IN\",\"IA\",\"KS\",\"KY\",\"LA\",\"ME\",\"MD\",\"MA\",\"MI\",\"MN\",\"MS\",\"MO\",\"MT\",\"NE\",\"NV\",\"NH\",\"NJ\",\"NM\",\"NY\",\"NC\",\"ND\",\"OH\",\"OK\",\"OR\",\"PA\",\"RI\",\"SC\",\"SD\",\"TN\",\"TX\",\"UT\",\"VT\",\"VA\",\"WA\",\"WV\",\"WI\",\"WY\"],\"name\":\"\",\"z\":[1.1706981658935547,1.3254642486572266,0.27480125427246094,4.51500129699707,1.4919357299804688,0.8498153686523438,1.0157661437988281,0.09134864807128906,0.993438720703125,0.47110939025878906,0.7808418273925781,1.4449272155761719,0.6859207153320312,3.2186145782470703,1.210165023803711,1.8106861114501953,1.1583919525146484,10.482450485229492,3.8814964294433594,0.8592720031738281,4.507568359375,0.581024169921875,0.04162406921386719,0.707122802734375,3.2356834411621094,11.218524932861328,9.533746719360352,0.6712436676025391,1.2926063537597656,9.383209228515625,1.2272624969482422,0.3691520690917969,2.5735816955566406,1.48681640625,3.04071044921875,1.9741439819335938,1.5077571868896484,0.5309772491455078,1.1025619506835938,12.92324447631836,1.1718902587890625,0.46251869201660156,0.6658344268798828,9.018695831298828,2.449758529663086,3.821779251098633,0.20158004760742188,0.7449550628662109,5.274837493896484,1.069091796875],\"type\":\"choropleth\"}],                        {\"template\":{\"data\":{\"histogram2dcontour\":[{\"type\":\"histogram2dcontour\",\"colorbar\":{\"outlinewidth\":0,\"ticks\":\"\"},\"colorscale\":[[0.0,\"#0d0887\"],[0.1111111111111111,\"#46039f\"],[0.2222222222222222,\"#7201a8\"],[0.3333333333333333,\"#9c179e\"],[0.4444444444444444,\"#bd3786\"],[0.5555555555555556,\"#d8576b\"],[0.6666666666666666,\"#ed7953\"],[0.7777777777777778,\"#fb9f3a\"],[0.8888888888888888,\"#fdca26\"],[1.0,\"#f0f921\"]]}],\"choropleth\":[{\"type\":\"choropleth\",\"colorbar\":{\"outlinewidth\":0,\"ticks\":\"\"}}],\"histogram2d\":[{\"type\":\"histogram2d\",\"colorbar\":{\"outlinewidth\":0,\"ticks\":\"\"},\"colorscale\":[[0.0,\"#0d0887\"],[0.1111111111111111,\"#46039f\"],[0.2222222222222222,\"#7201a8\"],[0.3333333333333333,\"#9c179e\"],[0.4444444444444444,\"#bd3786\"],[0.5555555555555556,\"#d8576b\"],[0.6666666666666666,\"#ed7953\"],[0.7777777777777778,\"#fb9f3a\"],[0.8888888888888888,\"#fdca26\"],[1.0,\"#f0f921\"]]}],\"heatmap\":[{\"type\":\"heatmap\",\"colorbar\":{\"outlinewidth\":0,\"ticks\":\"\"},\"colorscale\":[[0.0,\"#0d0887\"],[0.1111111111111111,\"#46039f\"],[0.2222222222222222,\"#7201a8\"],[0.3333333333333333,\"#9c179e\"],[0.4444444444444444,\"#bd3786\"],[0.5555555555555556,\"#d8576b\"],[0.6666666666666666,\"#ed7953\"],[0.7777777777777778,\"#fb9f3a\"],[0.8888888888888888,\"#fdca26\"],[1.0,\"#f0f921\"]]}],\"heatmapgl\":[{\"type\":\"heatmapgl\",\"colorbar\":{\"outlinewidth\":0,\"ticks\":\"\"},\"colorscale\":[[0.0,\"#0d0887\"],[0.1111111111111111,\"#46039f\"],[0.2222222222222222,\"#7201a8\"],[0.3333333333333333,\"#9c179e\"],[0.4444444444444444,\"#bd3786\"],[0.5555555555555556,\"#d8576b\"],[0.6666666666666666,\"#ed7953\"],[0.7777777777777778,\"#fb9f3a\"],[0.8888888888888888,\"#fdca26\"],[1.0,\"#f0f921\"]]}],\"contourcarpet\":[{\"type\":\"contourcarpet\",\"colorbar\":{\"outlinewidth\":0,\"ticks\":\"\"}}],\"contour\":[{\"type\":\"contour\",\"colorbar\":{\"outlinewidth\":0,\"ticks\":\"\"},\"colorscale\":[[0.0,\"#0d0887\"],[0.1111111111111111,\"#46039f\"],[0.2222222222222222,\"#7201a8\"],[0.3333333333333333,\"#9c179e\"],[0.4444444444444444,\"#bd3786\"],[0.5555555555555556,\"#d8576b\"],[0.6666666666666666,\"#ed7953\"],[0.7777777777777778,\"#fb9f3a\"],[0.8888888888888888,\"#fdca26\"],[1.0,\"#f0f921\"]]}],\"surface\":[{\"type\":\"surface\",\"colorbar\":{\"outlinewidth\":0,\"ticks\":\"\"},\"colorscale\":[[0.0,\"#0d0887\"],[0.1111111111111111,\"#46039f\"],[0.2222222222222222,\"#7201a8\"],[0.3333333333333333,\"#9c179e\"],[0.4444444444444444,\"#bd3786\"],[0.5555555555555556,\"#d8576b\"],[0.6666666666666666,\"#ed7953\"],[0.7777777777777778,\"#fb9f3a\"],[0.8888888888888888,\"#fdca26\"],[1.0,\"#f0f921\"]]}],\"mesh3d\":[{\"type\":\"mesh3d\",\"colorbar\":{\"outlinewidth\":0,\"ticks\":\"\"}}],\"scatter\":[{\"fillpattern\":{\"fillmode\":\"overlay\",\"size\":10,\"solidity\":0.2},\"type\":\"scatter\"}],\"parcoords\":[{\"type\":\"parcoords\",\"line\":{\"colorbar\":{\"outlinewidth\":0,\"ticks\":\"\"}}}],\"scatterpolargl\":[{\"type\":\"scatterpolargl\",\"marker\":{\"colorbar\":{\"outlinewidth\":0,\"ticks\":\"\"}}}],\"bar\":[{\"error_x\":{\"color\":\"#2a3f5f\"},\"error_y\":{\"color\":\"#2a3f5f\"},\"marker\":{\"line\":{\"color\":\"#E5ECF6\",\"width\":0.5},\"pattern\":{\"fillmode\":\"overlay\",\"size\":10,\"solidity\":0.2}},\"type\":\"bar\"}],\"scattergeo\":[{\"type\":\"scattergeo\",\"marker\":{\"colorbar\":{\"outlinewidth\":0,\"ticks\":\"\"}}}],\"scatterpolar\":[{\"type\":\"scatterpolar\",\"marker\":{\"colorbar\":{\"outlinewidth\":0,\"ticks\":\"\"}}}],\"histogram\":[{\"marker\":{\"pattern\":{\"fillmode\":\"overlay\",\"size\":10,\"solidity\":0.2}},\"type\":\"histogram\"}],\"scattergl\":[{\"type\":\"scattergl\",\"marker\":{\"colorbar\":{\"outlinewidth\":0,\"ticks\":\"\"}}}],\"scatter3d\":[{\"type\":\"scatter3d\",\"line\":{\"colorbar\":{\"outlinewidth\":0,\"ticks\":\"\"}},\"marker\":{\"colorbar\":{\"outlinewidth\":0,\"ticks\":\"\"}}}],\"scattermapbox\":[{\"type\":\"scattermapbox\",\"marker\":{\"colorbar\":{\"outlinewidth\":0,\"ticks\":\"\"}}}],\"scatterternary\":[{\"type\":\"scatterternary\",\"marker\":{\"colorbar\":{\"outlinewidth\":0,\"ticks\":\"\"}}}],\"scattercarpet\":[{\"type\":\"scattercarpet\",\"marker\":{\"colorbar\":{\"outlinewidth\":0,\"ticks\":\"\"}}}],\"carpet\":[{\"aaxis\":{\"endlinecolor\":\"#2a3f5f\",\"gridcolor\":\"white\",\"linecolor\":\"white\",\"minorgridcolor\":\"white\",\"startlinecolor\":\"#2a3f5f\"},\"baxis\":{\"endlinecolor\":\"#2a3f5f\",\"gridcolor\":\"white\",\"linecolor\":\"white\",\"minorgridcolor\":\"white\",\"startlinecolor\":\"#2a3f5f\"},\"type\":\"carpet\"}],\"table\":[{\"cells\":{\"fill\":{\"color\":\"#EBF0F8\"},\"line\":{\"color\":\"white\"}},\"header\":{\"fill\":{\"color\":\"#C8D4E3\"},\"line\":{\"color\":\"white\"}},\"type\":\"table\"}],\"barpolar\":[{\"marker\":{\"line\":{\"color\":\"#E5ECF6\",\"width\":0.5},\"pattern\":{\"fillmode\":\"overlay\",\"size\":10,\"solidity\":0.2}},\"type\":\"barpolar\"}],\"pie\":[{\"automargin\":true,\"type\":\"pie\"}]},\"layout\":{\"autotypenumbers\":\"strict\",\"colorway\":[\"#636efa\",\"#EF553B\",\"#00cc96\",\"#ab63fa\",\"#FFA15A\",\"#19d3f3\",\"#FF6692\",\"#B6E880\",\"#FF97FF\",\"#FECB52\"],\"font\":{\"color\":\"#2a3f5f\"},\"hovermode\":\"closest\",\"hoverlabel\":{\"align\":\"left\"},\"paper_bgcolor\":\"white\",\"plot_bgcolor\":\"#E5ECF6\",\"polar\":{\"bgcolor\":\"#E5ECF6\",\"angularaxis\":{\"gridcolor\":\"white\",\"linecolor\":\"white\",\"ticks\":\"\"},\"radialaxis\":{\"gridcolor\":\"white\",\"linecolor\":\"white\",\"ticks\":\"\"}},\"ternary\":{\"bgcolor\":\"#E5ECF6\",\"aaxis\":{\"gridcolor\":\"white\",\"linecolor\":\"white\",\"ticks\":\"\"},\"baxis\":{\"gridcolor\":\"white\",\"linecolor\":\"white\",\"ticks\":\"\"},\"caxis\":{\"gridcolor\":\"white\",\"linecolor\":\"white\",\"ticks\":\"\"}},\"coloraxis\":{\"colorbar\":{\"outlinewidth\":0,\"ticks\":\"\"}},\"colorscale\":{\"sequential\":[[0.0,\"#0d0887\"],[0.1111111111111111,\"#46039f\"],[0.2222222222222222,\"#7201a8\"],[0.3333333333333333,\"#9c179e\"],[0.4444444444444444,\"#bd3786\"],[0.5555555555555556,\"#d8576b\"],[0.6666666666666666,\"#ed7953\"],[0.7777777777777778,\"#fb9f3a\"],[0.8888888888888888,\"#fdca26\"],[1.0,\"#f0f921\"]],\"sequentialminus\":[[0.0,\"#0d0887\"],[0.1111111111111111,\"#46039f\"],[0.2222222222222222,\"#7201a8\"],[0.3333333333333333,\"#9c179e\"],[0.4444444444444444,\"#bd3786\"],[0.5555555555555556,\"#d8576b\"],[0.6666666666666666,\"#ed7953\"],[0.7777777777777778,\"#fb9f3a\"],[0.8888888888888888,\"#fdca26\"],[1.0,\"#f0f921\"]],\"diverging\":[[0,\"#8e0152\"],[0.1,\"#c51b7d\"],[0.2,\"#de77ae\"],[0.3,\"#f1b6da\"],[0.4,\"#fde0ef\"],[0.5,\"#f7f7f7\"],[0.6,\"#e6f5d0\"],[0.7,\"#b8e186\"],[0.8,\"#7fbc41\"],[0.9,\"#4d9221\"],[1,\"#276419\"]]},\"xaxis\":{\"gridcolor\":\"white\",\"linecolor\":\"white\",\"ticks\":\"\",\"title\":{\"standoff\":15},\"zerolinecolor\":\"white\",\"automargin\":true,\"zerolinewidth\":2},\"yaxis\":{\"gridcolor\":\"white\",\"linecolor\":\"white\",\"ticks\":\"\",\"title\":{\"standoff\":15},\"zerolinecolor\":\"white\",\"automargin\":true,\"zerolinewidth\":2},\"scene\":{\"xaxis\":{\"backgroundcolor\":\"#E5ECF6\",\"gridcolor\":\"white\",\"linecolor\":\"white\",\"showbackground\":true,\"ticks\":\"\",\"zerolinecolor\":\"white\",\"gridwidth\":2},\"yaxis\":{\"backgroundcolor\":\"#E5ECF6\",\"gridcolor\":\"white\",\"linecolor\":\"white\",\"showbackground\":true,\"ticks\":\"\",\"zerolinecolor\":\"white\",\"gridwidth\":2},\"zaxis\":{\"backgroundcolor\":\"#E5ECF6\",\"gridcolor\":\"white\",\"linecolor\":\"white\",\"showbackground\":true,\"ticks\":\"\",\"zerolinecolor\":\"white\",\"gridwidth\":2}},\"shapedefaults\":{\"line\":{\"color\":\"#2a3f5f\"}},\"annotationdefaults\":{\"arrowcolor\":\"#2a3f5f\",\"arrowhead\":0,\"arrowwidth\":1},\"geo\":{\"bgcolor\":\"white\",\"landcolor\":\"#E5ECF6\",\"subunitcolor\":\"white\",\"showland\":true,\"showlakes\":true,\"lakecolor\":\"white\"},\"title\":{\"x\":0.05},\"mapbox\":{\"style\":\"light\"}}},\"geo\":{\"domain\":{\"x\":[0.0,1.0],\"y\":[0.0,1.0]},\"center\":{},\"scope\":\"usa\"},\"coloraxis\":{\"colorbar\":{\"title\":{\"text\":\"Absolute Errors\"}},\"colorscale\":[[0.0,\"#0d0887\"],[0.1111111111111111,\"#46039f\"],[0.2222222222222222,\"#7201a8\"],[0.3333333333333333,\"#9c179e\"],[0.4444444444444444,\"#bd3786\"],[0.5555555555555556,\"#d8576b\"],[0.6666666666666666,\"#ed7953\"],[0.7777777777777778,\"#fb9f3a\"],[0.8888888888888888,\"#fdca26\"],[1.0,\"#f0f921\"]]},\"legend\":{\"tracegroupgap\":0},\"margin\":{\"t\":60}},                        {\"responsive\": true}                    ).then(function(){\n",
       "                            \n",
       "var gd = document.getElementById('ac0eede9-8dde-483f-b616-a9cf729d7f41');\n",
       "var x = new MutationObserver(function (mutations, observer) {{\n",
       "        var display = window.getComputedStyle(gd).display;\n",
       "        if (!display || display === 'none') {{\n",
       "            console.log([gd, 'removed!']);\n",
       "            Plotly.purge(gd);\n",
       "            observer.disconnect();\n",
       "        }}\n",
       "}});\n",
       "\n",
       "// Listen for the removal of the full notebook cells\n",
       "var notebookContainer = gd.closest('#notebook-container');\n",
       "if (notebookContainer) {{\n",
       "    x.observe(notebookContainer, {childList: true});\n",
       "}}\n",
       "\n",
       "// Listen for the clearing of the current output cell\n",
       "var outputEl = gd.closest('.output');\n",
       "if (outputEl) {{\n",
       "    x.observe(outputEl, {childList: true});\n",
       "}}\n",
       "\n",
       "                        })                };                });            </script>        </div>"
      ]
     },
     "metadata": {},
     "output_type": "display_data"
    }
   ],
   "source": [
    "fig = px.choropleth(small_df, locations='Abb_state', locationmode='USA-states', color='Absolute Errors', scope='usa')\n",
    "fig.show()"
   ]
  },
  {
   "cell_type": "code",
   "execution_count": 1105,
   "id": "a55ca790",
   "metadata": {},
   "outputs": [
    {
     "data": {
      "text/html": [
       "<div>\n",
       "<style scoped>\n",
       "    .dataframe tbody tr th:only-of-type {\n",
       "        vertical-align: middle;\n",
       "    }\n",
       "\n",
       "    .dataframe tbody tr th {\n",
       "        vertical-align: top;\n",
       "    }\n",
       "\n",
       "    .dataframe thead th {\n",
       "        text-align: right;\n",
       "    }\n",
       "</style>\n",
       "<table border=\"1\" class=\"dataframe\">\n",
       "  <thead>\n",
       "    <tr style=\"text-align: right;\">\n",
       "      <th></th>\n",
       "      <th>STATE</th>\n",
       "      <th>STATE_NAME</th>\n",
       "      <th>POPULATION</th>\n",
       "      <th>POPULATION_DENSITY</th>\n",
       "      <th>RURAL_POPULATION_PERCENTAGE</th>\n",
       "      <th>RURAL_POPULATION_DENSITY</th>\n",
       "      <th>MALE_FEMALE_RATIO</th>\n",
       "      <th>WHITE_ALONE</th>\n",
       "      <th>BLACK_ALONE</th>\n",
       "      <th>AMERICAN_INDIAN_ALASKA_NATIVE_ALONE</th>\n",
       "      <th>...</th>\n",
       "      <th>OBESITY_RATE</th>\n",
       "      <th>SMOKING_RATE</th>\n",
       "      <th>DRUG_OVERDOSE_DEATH_RATE</th>\n",
       "      <th>PRECIPITATION</th>\n",
       "      <th>TOTAL_ACCIDENTS</th>\n",
       "      <th>DRUNK_DRIVING_PERCENTAGE_2</th>\n",
       "      <th>Abb_state</th>\n",
       "      <th>Difference</th>\n",
       "      <th>Absolute Errors</th>\n",
       "      <th>percentage of drunk driving accidents</th>\n",
       "    </tr>\n",
       "  </thead>\n",
       "  <tbody>\n",
       "    <tr>\n",
       "      <th>39</th>\n",
       "      <td>45</td>\n",
       "      <td>South Carolina</td>\n",
       "      <td>5.28</td>\n",
       "      <td>172.62</td>\n",
       "      <td>33.7</td>\n",
       "      <td>56.3</td>\n",
       "      <td>94.1</td>\n",
       "      <td>68.6</td>\n",
       "      <td>27.0</td>\n",
       "      <td>0.5</td>\n",
       "      <td>...</td>\n",
       "      <td>36.1</td>\n",
       "      <td>14.0</td>\n",
       "      <td>34.9</td>\n",
       "      <td>49.24</td>\n",
       "      <td>962</td>\n",
       "      <td>35.097</td>\n",
       "      <td>SC</td>\n",
       "      <td>12.923244</td>\n",
       "      <td>12.923244</td>\n",
       "      <td>35.097</td>\n",
       "    </tr>\n",
       "    <tr>\n",
       "      <th>25</th>\n",
       "      <td>30</td>\n",
       "      <td>Montana</td>\n",
       "      <td>1.12</td>\n",
       "      <td>7.59</td>\n",
       "      <td>44.1</td>\n",
       "      <td>3.0</td>\n",
       "      <td>101.2</td>\n",
       "      <td>88.9</td>\n",
       "      <td>0.6</td>\n",
       "      <td>6.7</td>\n",
       "      <td>...</td>\n",
       "      <td>31.8</td>\n",
       "      <td>13.0</td>\n",
       "      <td>15.6</td>\n",
       "      <td>14.92</td>\n",
       "      <td>190</td>\n",
       "      <td>49.480</td>\n",
       "      <td>MT</td>\n",
       "      <td>11.218525</td>\n",
       "      <td>11.218525</td>\n",
       "      <td>49.480</td>\n",
       "    </tr>\n",
       "    <tr>\n",
       "      <th>17</th>\n",
       "      <td>22</td>\n",
       "      <td>Louisiana</td>\n",
       "      <td>4.59</td>\n",
       "      <td>107.04</td>\n",
       "      <td>26.8</td>\n",
       "      <td>29.5</td>\n",
       "      <td>95.4</td>\n",
       "      <td>62.8</td>\n",
       "      <td>32.8</td>\n",
       "      <td>0.8</td>\n",
       "      <td>...</td>\n",
       "      <td>38.6</td>\n",
       "      <td>17.0</td>\n",
       "      <td>42.7</td>\n",
       "      <td>59.15</td>\n",
       "      <td>762</td>\n",
       "      <td>29.532</td>\n",
       "      <td>LA</td>\n",
       "      <td>10.482450</td>\n",
       "      <td>10.482450</td>\n",
       "      <td>29.532</td>\n",
       "    </tr>\n",
       "    <tr>\n",
       "      <th>26</th>\n",
       "      <td>31</td>\n",
       "      <td>Nebraska</td>\n",
       "      <td>1.97</td>\n",
       "      <td>25.56</td>\n",
       "      <td>26.9</td>\n",
       "      <td>6.4</td>\n",
       "      <td>99.5</td>\n",
       "      <td>88.1</td>\n",
       "      <td>5.2</td>\n",
       "      <td>1.5</td>\n",
       "      <td>...</td>\n",
       "      <td>35.9</td>\n",
       "      <td>12.0</td>\n",
       "      <td>11.3</td>\n",
       "      <td>26.66</td>\n",
       "      <td>217</td>\n",
       "      <td>35.538</td>\n",
       "      <td>NE</td>\n",
       "      <td>9.533747</td>\n",
       "      <td>9.533747</td>\n",
       "      <td>35.538</td>\n",
       "    </tr>\n",
       "    <tr>\n",
       "      <th>29</th>\n",
       "      <td>34</td>\n",
       "      <td>New Jersey</td>\n",
       "      <td>9.26</td>\n",
       "      <td>1260.15</td>\n",
       "      <td>5.3</td>\n",
       "      <td>105.5</td>\n",
       "      <td>95.5</td>\n",
       "      <td>71.9</td>\n",
       "      <td>15.1</td>\n",
       "      <td>0.6</td>\n",
       "      <td>...</td>\n",
       "      <td>28.2</td>\n",
       "      <td>10.0</td>\n",
       "      <td>32.1</td>\n",
       "      <td>48.02</td>\n",
       "      <td>547</td>\n",
       "      <td>22.528</td>\n",
       "      <td>NJ</td>\n",
       "      <td>9.383209</td>\n",
       "      <td>9.383209</td>\n",
       "      <td>22.528</td>\n",
       "    </tr>\n",
       "    <tr>\n",
       "      <th>43</th>\n",
       "      <td>49</td>\n",
       "      <td>Utah</td>\n",
       "      <td>3.38</td>\n",
       "      <td>40.61</td>\n",
       "      <td>9.4</td>\n",
       "      <td>3.2</td>\n",
       "      <td>101.4</td>\n",
       "      <td>90.6</td>\n",
       "      <td>1.5</td>\n",
       "      <td>1.6</td>\n",
       "      <td>...</td>\n",
       "      <td>30.9</td>\n",
       "      <td>6.0</td>\n",
       "      <td>20.5</td>\n",
       "      <td>15.79</td>\n",
       "      <td>256</td>\n",
       "      <td>21.924</td>\n",
       "      <td>UT</td>\n",
       "      <td>9.018696</td>\n",
       "      <td>9.018696</td>\n",
       "      <td>21.924</td>\n",
       "    </tr>\n",
       "    <tr>\n",
       "      <th>48</th>\n",
       "      <td>55</td>\n",
       "      <td>Wisconsin</td>\n",
       "      <td>5.89</td>\n",
       "      <td>108.87</td>\n",
       "      <td>29.9</td>\n",
       "      <td>32.5</td>\n",
       "      <td>99.1</td>\n",
       "      <td>87.0</td>\n",
       "      <td>6.7</td>\n",
       "      <td>1.2</td>\n",
       "      <td>...</td>\n",
       "      <td>33.9</td>\n",
       "      <td>11.0</td>\n",
       "      <td>27.7</td>\n",
       "      <td>33.11</td>\n",
       "      <td>561</td>\n",
       "      <td>33.713</td>\n",
       "      <td>WI</td>\n",
       "      <td>5.274837</td>\n",
       "      <td>5.274837</td>\n",
       "      <td>33.713</td>\n",
       "    </tr>\n",
       "    <tr>\n",
       "      <th>3</th>\n",
       "      <td>5</td>\n",
       "      <td>Arkansas</td>\n",
       "      <td>3.01</td>\n",
       "      <td>58.16</td>\n",
       "      <td>43.8</td>\n",
       "      <td>25.1</td>\n",
       "      <td>96.4</td>\n",
       "      <td>79.0</td>\n",
       "      <td>15.7</td>\n",
       "      <td>1.0</td>\n",
       "      <td>...</td>\n",
       "      <td>38.7</td>\n",
       "      <td>18.0</td>\n",
       "      <td>19.1</td>\n",
       "      <td>49.72</td>\n",
       "      <td>585</td>\n",
       "      <td>26.710</td>\n",
       "      <td>AR</td>\n",
       "      <td>4.515001</td>\n",
       "      <td>4.515001</td>\n",
       "      <td>26.710</td>\n",
       "    </tr>\n",
       "    <tr>\n",
       "      <th>20</th>\n",
       "      <td>25</td>\n",
       "      <td>Massachusetts</td>\n",
       "      <td>6.98</td>\n",
       "      <td>895.36</td>\n",
       "      <td>8.0</td>\n",
       "      <td>109.2</td>\n",
       "      <td>94.3</td>\n",
       "      <td>80.6</td>\n",
       "      <td>9.0</td>\n",
       "      <td>0.5</td>\n",
       "      <td>...</td>\n",
       "      <td>27.4</td>\n",
       "      <td>9.0</td>\n",
       "      <td>33.9</td>\n",
       "      <td>48.42</td>\n",
       "      <td>327</td>\n",
       "      <td>24.423</td>\n",
       "      <td>MA</td>\n",
       "      <td>4.507568</td>\n",
       "      <td>4.507568</td>\n",
       "      <td>24.423</td>\n",
       "    </tr>\n",
       "    <tr>\n",
       "      <th>18</th>\n",
       "      <td>23</td>\n",
       "      <td>Maine</td>\n",
       "      <td>1.34</td>\n",
       "      <td>44.49</td>\n",
       "      <td>61.3</td>\n",
       "      <td>26.7</td>\n",
       "      <td>96.0</td>\n",
       "      <td>94.4</td>\n",
       "      <td>1.7</td>\n",
       "      <td>0.7</td>\n",
       "      <td>...</td>\n",
       "      <td>31.9</td>\n",
       "      <td>13.0</td>\n",
       "      <td>39.7</td>\n",
       "      <td>45.49</td>\n",
       "      <td>151</td>\n",
       "      <td>41.173</td>\n",
       "      <td>ME</td>\n",
       "      <td>3.881496</td>\n",
       "      <td>3.881496</td>\n",
       "      <td>41.173</td>\n",
       "    </tr>\n",
       "    <tr>\n",
       "      <th>45</th>\n",
       "      <td>51</td>\n",
       "      <td>Virginia</td>\n",
       "      <td>8.68</td>\n",
       "      <td>218.83</td>\n",
       "      <td>24.6</td>\n",
       "      <td>53.3</td>\n",
       "      <td>96.8</td>\n",
       "      <td>69.4</td>\n",
       "      <td>19.9</td>\n",
       "      <td>0.5</td>\n",
       "      <td>...</td>\n",
       "      <td>34.2</td>\n",
       "      <td>11.0</td>\n",
       "      <td>26.6</td>\n",
       "      <td>42.76</td>\n",
       "      <td>796</td>\n",
       "      <td>31.605</td>\n",
       "      <td>VA</td>\n",
       "      <td>3.821779</td>\n",
       "      <td>3.821779</td>\n",
       "      <td>31.605</td>\n",
       "    </tr>\n",
       "    <tr>\n",
       "      <th>24</th>\n",
       "      <td>29</td>\n",
       "      <td>Missouri</td>\n",
       "      <td>6.18</td>\n",
       "      <td>89.76</td>\n",
       "      <td>29.6</td>\n",
       "      <td>26.6</td>\n",
       "      <td>96.3</td>\n",
       "      <td>82.9</td>\n",
       "      <td>11.8</td>\n",
       "      <td>0.6</td>\n",
       "      <td>...</td>\n",
       "      <td>37.3</td>\n",
       "      <td>16.0</td>\n",
       "      <td>32.1</td>\n",
       "      <td>42.52</td>\n",
       "      <td>914</td>\n",
       "      <td>29.522</td>\n",
       "      <td>MO</td>\n",
       "      <td>3.235683</td>\n",
       "      <td>3.235683</td>\n",
       "      <td>29.522</td>\n",
       "    </tr>\n",
       "    <tr>\n",
       "      <th>13</th>\n",
       "      <td>18</td>\n",
       "      <td>Indiana</td>\n",
       "      <td>6.83</td>\n",
       "      <td>189.99</td>\n",
       "      <td>27.6</td>\n",
       "      <td>53.7</td>\n",
       "      <td>97.2</td>\n",
       "      <td>84.8</td>\n",
       "      <td>9.9</td>\n",
       "      <td>0.4</td>\n",
       "      <td>...</td>\n",
       "      <td>36.3</td>\n",
       "      <td>16.0</td>\n",
       "      <td>36.7</td>\n",
       "      <td>41.86</td>\n",
       "      <td>815</td>\n",
       "      <td>20.442</td>\n",
       "      <td>IN</td>\n",
       "      <td>3.218615</td>\n",
       "      <td>3.218615</td>\n",
       "      <td>20.442</td>\n",
       "    </tr>\n",
       "    <tr>\n",
       "      <th>34</th>\n",
       "      <td>39</td>\n",
       "      <td>Ohio</td>\n",
       "      <td>11.76</td>\n",
       "      <td>288.32</td>\n",
       "      <td>22.1</td>\n",
       "      <td>69.9</td>\n",
       "      <td>96.1</td>\n",
       "      <td>81.7</td>\n",
       "      <td>13.1</td>\n",
       "      <td>0.3</td>\n",
       "      <td>...</td>\n",
       "      <td>37.8</td>\n",
       "      <td>16.0</td>\n",
       "      <td>47.2</td>\n",
       "      <td>39.24</td>\n",
       "      <td>1154</td>\n",
       "      <td>32.737</td>\n",
       "      <td>OH</td>\n",
       "      <td>3.040710</td>\n",
       "      <td>3.040710</td>\n",
       "      <td>32.737</td>\n",
       "    </tr>\n",
       "    <tr>\n",
       "      <th>32</th>\n",
       "      <td>37</td>\n",
       "      <td>North Carolina</td>\n",
       "      <td>10.70</td>\n",
       "      <td>217.02</td>\n",
       "      <td>33.9</td>\n",
       "      <td>73.5</td>\n",
       "      <td>94.7</td>\n",
       "      <td>70.6</td>\n",
       "      <td>22.2</td>\n",
       "      <td>1.6</td>\n",
       "      <td>...</td>\n",
       "      <td>36.0</td>\n",
       "      <td>13.0</td>\n",
       "      <td>30.9</td>\n",
       "      <td>46.92</td>\n",
       "      <td>1412</td>\n",
       "      <td>22.729</td>\n",
       "      <td>NC</td>\n",
       "      <td>2.573582</td>\n",
       "      <td>2.573582</td>\n",
       "      <td>22.729</td>\n",
       "    </tr>\n",
       "    <tr>\n",
       "      <th>44</th>\n",
       "      <td>50</td>\n",
       "      <td>Vermont</td>\n",
       "      <td>0.65</td>\n",
       "      <td>70.04</td>\n",
       "      <td>61.1</td>\n",
       "      <td>42.2</td>\n",
       "      <td>97.6</td>\n",
       "      <td>94.2</td>\n",
       "      <td>1.4</td>\n",
       "      <td>0.4</td>\n",
       "      <td>...</td>\n",
       "      <td>29.0</td>\n",
       "      <td>13.0</td>\n",
       "      <td>32.9</td>\n",
       "      <td>42.58</td>\n",
       "      <td>58</td>\n",
       "      <td>31.116</td>\n",
       "      <td>VT</td>\n",
       "      <td>2.449759</td>\n",
       "      <td>2.449759</td>\n",
       "      <td>31.116</td>\n",
       "    </tr>\n",
       "    <tr>\n",
       "      <th>35</th>\n",
       "      <td>40</td>\n",
       "      <td>Oklahoma</td>\n",
       "      <td>4.02</td>\n",
       "      <td>58.11</td>\n",
       "      <td>33.8</td>\n",
       "      <td>18.8</td>\n",
       "      <td>98.2</td>\n",
       "      <td>74.0</td>\n",
       "      <td>7.8</td>\n",
       "      <td>9.4</td>\n",
       "      <td>...</td>\n",
       "      <td>39.4</td>\n",
       "      <td>15.0</td>\n",
       "      <td>19.4</td>\n",
       "      <td>37.62</td>\n",
       "      <td>599</td>\n",
       "      <td>29.109</td>\n",
       "      <td>OK</td>\n",
       "      <td>1.974144</td>\n",
       "      <td>1.974144</td>\n",
       "      <td>29.109</td>\n",
       "    </tr>\n",
       "    <tr>\n",
       "      <th>15</th>\n",
       "      <td>20</td>\n",
       "      <td>Kansas</td>\n",
       "      <td>2.94</td>\n",
       "      <td>35.89</td>\n",
       "      <td>25.8</td>\n",
       "      <td>9.1</td>\n",
       "      <td>99.4</td>\n",
       "      <td>86.3</td>\n",
       "      <td>6.1</td>\n",
       "      <td>1.2</td>\n",
       "      <td>...</td>\n",
       "      <td>36.0</td>\n",
       "      <td>14.0</td>\n",
       "      <td>17.4</td>\n",
       "      <td>32.43</td>\n",
       "      <td>382</td>\n",
       "      <td>19.381</td>\n",
       "      <td>KS</td>\n",
       "      <td>1.810686</td>\n",
       "      <td>1.810686</td>\n",
       "      <td>19.381</td>\n",
       "    </tr>\n",
       "    <tr>\n",
       "      <th>36</th>\n",
       "      <td>41</td>\n",
       "      <td>Oregon</td>\n",
       "      <td>4.24</td>\n",
       "      <td>44.24</td>\n",
       "      <td>19.0</td>\n",
       "      <td>7.7</td>\n",
       "      <td>98.3</td>\n",
       "      <td>86.7</td>\n",
       "      <td>2.2</td>\n",
       "      <td>1.8</td>\n",
       "      <td>...</td>\n",
       "      <td>30.4</td>\n",
       "      <td>12.0</td>\n",
       "      <td>18.7</td>\n",
       "      <td>43.62</td>\n",
       "      <td>461</td>\n",
       "      <td>19.326</td>\n",
       "      <td>OR</td>\n",
       "      <td>1.507757</td>\n",
       "      <td>1.507757</td>\n",
       "      <td>19.326</td>\n",
       "    </tr>\n",
       "    <tr>\n",
       "      <th>4</th>\n",
       "      <td>6</td>\n",
       "      <td>California</td>\n",
       "      <td>39.03</td>\n",
       "      <td>251.90</td>\n",
       "      <td>5.1</td>\n",
       "      <td>12.7</td>\n",
       "      <td>98.9</td>\n",
       "      <td>71.9</td>\n",
       "      <td>6.5</td>\n",
       "      <td>1.6</td>\n",
       "      <td>...</td>\n",
       "      <td>27.6</td>\n",
       "      <td>9.0</td>\n",
       "      <td>21.8</td>\n",
       "      <td>22.97</td>\n",
       "      <td>3558</td>\n",
       "      <td>25.424</td>\n",
       "      <td>CA</td>\n",
       "      <td>1.491936</td>\n",
       "      <td>1.491936</td>\n",
       "      <td>25.424</td>\n",
       "    </tr>\n",
       "    <tr>\n",
       "      <th>33</th>\n",
       "      <td>38</td>\n",
       "      <td>North Dakota</td>\n",
       "      <td>0.78</td>\n",
       "      <td>11.23</td>\n",
       "      <td>40.1</td>\n",
       "      <td>3.9</td>\n",
       "      <td>104.9</td>\n",
       "      <td>86.9</td>\n",
       "      <td>3.4</td>\n",
       "      <td>5.6</td>\n",
       "      <td>...</td>\n",
       "      <td>35.2</td>\n",
       "      <td>13.0</td>\n",
       "      <td>15.6</td>\n",
       "      <td>18.59</td>\n",
       "      <td>96</td>\n",
       "      <td>36.385</td>\n",
       "      <td>ND</td>\n",
       "      <td>1.486816</td>\n",
       "      <td>1.486816</td>\n",
       "      <td>36.385</td>\n",
       "    </tr>\n",
       "    <tr>\n",
       "      <th>11</th>\n",
       "      <td>16</td>\n",
       "      <td>Idaho</td>\n",
       "      <td>1.94</td>\n",
       "      <td>23.00</td>\n",
       "      <td>29.4</td>\n",
       "      <td>5.6</td>\n",
       "      <td>100.6</td>\n",
       "      <td>93.0</td>\n",
       "      <td>0.9</td>\n",
       "      <td>1.7</td>\n",
       "      <td>...</td>\n",
       "      <td>31.6</td>\n",
       "      <td>13.0</td>\n",
       "      <td>15.9</td>\n",
       "      <td>16.91</td>\n",
       "      <td>188</td>\n",
       "      <td>33.838</td>\n",
       "      <td>ID</td>\n",
       "      <td>1.444927</td>\n",
       "      <td>1.444927</td>\n",
       "      <td>33.838</td>\n",
       "    </tr>\n",
       "    <tr>\n",
       "      <th>1</th>\n",
       "      <td>2</td>\n",
       "      <td>Alaska</td>\n",
       "      <td>0.73</td>\n",
       "      <td>1.28</td>\n",
       "      <td>34.0</td>\n",
       "      <td>0.4</td>\n",
       "      <td>109.2</td>\n",
       "      <td>65.3</td>\n",
       "      <td>3.7</td>\n",
       "      <td>15.6</td>\n",
       "      <td>...</td>\n",
       "      <td>33.5</td>\n",
       "      <td>15.0</td>\n",
       "      <td>22.0</td>\n",
       "      <td>29.03</td>\n",
       "      <td>53</td>\n",
       "      <td>28.480</td>\n",
       "      <td>AK</td>\n",
       "      <td>1.325464</td>\n",
       "      <td>1.325464</td>\n",
       "      <td>28.480</td>\n",
       "    </tr>\n",
       "    <tr>\n",
       "      <th>28</th>\n",
       "      <td>33</td>\n",
       "      <td>New Hampshire</td>\n",
       "      <td>1.40</td>\n",
       "      <td>155.16</td>\n",
       "      <td>39.7</td>\n",
       "      <td>62.9</td>\n",
       "      <td>98.3</td>\n",
       "      <td>93.1</td>\n",
       "      <td>1.8</td>\n",
       "      <td>0.3</td>\n",
       "      <td>...</td>\n",
       "      <td>30.6</td>\n",
       "      <td>11.0</td>\n",
       "      <td>30.3</td>\n",
       "      <td>44.84</td>\n",
       "      <td>98</td>\n",
       "      <td>33.774</td>\n",
       "      <td>NH</td>\n",
       "      <td>1.292606</td>\n",
       "      <td>1.292606</td>\n",
       "      <td>33.774</td>\n",
       "    </tr>\n",
       "    <tr>\n",
       "      <th>30</th>\n",
       "      <td>35</td>\n",
       "      <td>New Mexico</td>\n",
       "      <td>2.11</td>\n",
       "      <td>17.44</td>\n",
       "      <td>22.6</td>\n",
       "      <td>3.9</td>\n",
       "      <td>98.0</td>\n",
       "      <td>81.9</td>\n",
       "      <td>2.6</td>\n",
       "      <td>11.0</td>\n",
       "      <td>...</td>\n",
       "      <td>34.6</td>\n",
       "      <td>13.0</td>\n",
       "      <td>39.0</td>\n",
       "      <td>14.24</td>\n",
       "      <td>365</td>\n",
       "      <td>28.015</td>\n",
       "      <td>NM</td>\n",
       "      <td>1.227262</td>\n",
       "      <td>1.227262</td>\n",
       "      <td>28.015</td>\n",
       "    </tr>\n",
       "    <tr>\n",
       "      <th>14</th>\n",
       "      <td>19</td>\n",
       "      <td>Iowa</td>\n",
       "      <td>3.20</td>\n",
       "      <td>57.16</td>\n",
       "      <td>36.0</td>\n",
       "      <td>20.0</td>\n",
       "      <td>98.7</td>\n",
       "      <td>90.6</td>\n",
       "      <td>4.1</td>\n",
       "      <td>0.5</td>\n",
       "      <td>...</td>\n",
       "      <td>36.4</td>\n",
       "      <td>14.0</td>\n",
       "      <td>14.3</td>\n",
       "      <td>34.50</td>\n",
       "      <td>304</td>\n",
       "      <td>25.044</td>\n",
       "      <td>IA</td>\n",
       "      <td>1.210165</td>\n",
       "      <td>1.210165</td>\n",
       "      <td>25.044</td>\n",
       "    </tr>\n",
       "    <tr>\n",
       "      <th>40</th>\n",
       "      <td>46</td>\n",
       "      <td>South Dakota</td>\n",
       "      <td>0.91</td>\n",
       "      <td>11.81</td>\n",
       "      <td>43.4</td>\n",
       "      <td>4.7</td>\n",
       "      <td>101.5</td>\n",
       "      <td>84.6</td>\n",
       "      <td>2.3</td>\n",
       "      <td>9.0</td>\n",
       "      <td>...</td>\n",
       "      <td>38.4</td>\n",
       "      <td>13.0</td>\n",
       "      <td>10.3</td>\n",
       "      <td>22.02</td>\n",
       "      <td>132</td>\n",
       "      <td>36.579</td>\n",
       "      <td>SD</td>\n",
       "      <td>1.171890</td>\n",
       "      <td>1.171890</td>\n",
       "      <td>36.579</td>\n",
       "    </tr>\n",
       "    <tr>\n",
       "      <th>0</th>\n",
       "      <td>1</td>\n",
       "      <td>Alabama</td>\n",
       "      <td>5.07</td>\n",
       "      <td>99.52</td>\n",
       "      <td>41.0</td>\n",
       "      <td>40.4</td>\n",
       "      <td>93.6</td>\n",
       "      <td>69.1</td>\n",
       "      <td>26.8</td>\n",
       "      <td>0.7</td>\n",
       "      <td>...</td>\n",
       "      <td>39.9</td>\n",
       "      <td>15.0</td>\n",
       "      <td>22.3</td>\n",
       "      <td>56.00</td>\n",
       "      <td>852</td>\n",
       "      <td>22.231</td>\n",
       "      <td>AL</td>\n",
       "      <td>1.170698</td>\n",
       "      <td>1.170698</td>\n",
       "      <td>22.231</td>\n",
       "    </tr>\n",
       "    <tr>\n",
       "      <th>16</th>\n",
       "      <td>21</td>\n",
       "      <td>Kentucky</td>\n",
       "      <td>4.51</td>\n",
       "      <td>114.18</td>\n",
       "      <td>41.6</td>\n",
       "      <td>47.4</td>\n",
       "      <td>97.0</td>\n",
       "      <td>87.5</td>\n",
       "      <td>8.5</td>\n",
       "      <td>0.3</td>\n",
       "      <td>...</td>\n",
       "      <td>40.3</td>\n",
       "      <td>18.0</td>\n",
       "      <td>49.2</td>\n",
       "      <td>46.27</td>\n",
       "      <td>709</td>\n",
       "      <td>26.323</td>\n",
       "      <td>KY</td>\n",
       "      <td>1.158392</td>\n",
       "      <td>1.158392</td>\n",
       "      <td>26.323</td>\n",
       "    </tr>\n",
       "    <tr>\n",
       "      <th>38</th>\n",
       "      <td>44</td>\n",
       "      <td>Rhode Island</td>\n",
       "      <td>1.09</td>\n",
       "      <td>1059.58</td>\n",
       "      <td>9.3</td>\n",
       "      <td>154.0</td>\n",
       "      <td>94.7</td>\n",
       "      <td>83.6</td>\n",
       "      <td>8.5</td>\n",
       "      <td>1.1</td>\n",
       "      <td>...</td>\n",
       "      <td>30.1</td>\n",
       "      <td>11.0</td>\n",
       "      <td>38.2</td>\n",
       "      <td>49.96</td>\n",
       "      <td>66</td>\n",
       "      <td>35.403</td>\n",
       "      <td>RI</td>\n",
       "      <td>1.102562</td>\n",
       "      <td>1.102562</td>\n",
       "      <td>35.403</td>\n",
       "    </tr>\n",
       "    <tr>\n",
       "      <th>49</th>\n",
       "      <td>56</td>\n",
       "      <td>Wyoming</td>\n",
       "      <td>0.58</td>\n",
       "      <td>5.96</td>\n",
       "      <td>35.2</td>\n",
       "      <td>2.0</td>\n",
       "      <td>103.9</td>\n",
       "      <td>92.5</td>\n",
       "      <td>1.3</td>\n",
       "      <td>2.7</td>\n",
       "      <td>...</td>\n",
       "      <td>32.0</td>\n",
       "      <td>15.0</td>\n",
       "      <td>17.4</td>\n",
       "      <td>13.23</td>\n",
       "      <td>114</td>\n",
       "      <td>32.720</td>\n",
       "      <td>WY</td>\n",
       "      <td>1.069092</td>\n",
       "      <td>1.069092</td>\n",
       "      <td>32.720</td>\n",
       "    </tr>\n",
       "    <tr>\n",
       "      <th>6</th>\n",
       "      <td>9</td>\n",
       "      <td>Connecticut</td>\n",
       "      <td>3.63</td>\n",
       "      <td>744.96</td>\n",
       "      <td>12.0</td>\n",
       "      <td>142.3</td>\n",
       "      <td>95.2</td>\n",
       "      <td>79.7</td>\n",
       "      <td>12.2</td>\n",
       "      <td>0.6</td>\n",
       "      <td>...</td>\n",
       "      <td>30.4</td>\n",
       "      <td>10.0</td>\n",
       "      <td>39.1</td>\n",
       "      <td>50.07</td>\n",
       "      <td>279</td>\n",
       "      <td>29.368</td>\n",
       "      <td>CT</td>\n",
       "      <td>1.015766</td>\n",
       "      <td>1.015766</td>\n",
       "      <td>29.368</td>\n",
       "    </tr>\n",
       "    <tr>\n",
       "      <th>8</th>\n",
       "      <td>12</td>\n",
       "      <td>Florida</td>\n",
       "      <td>22.24</td>\n",
       "      <td>406.34</td>\n",
       "      <td>8.8</td>\n",
       "      <td>35.9</td>\n",
       "      <td>95.7</td>\n",
       "      <td>77.3</td>\n",
       "      <td>16.9</td>\n",
       "      <td>0.5</td>\n",
       "      <td>...</td>\n",
       "      <td>28.0</td>\n",
       "      <td>14.7</td>\n",
       "      <td>35.0</td>\n",
       "      <td>54.73</td>\n",
       "      <td>3098</td>\n",
       "      <td>21.874</td>\n",
       "      <td>FL</td>\n",
       "      <td>0.993439</td>\n",
       "      <td>0.993439</td>\n",
       "      <td>21.874</td>\n",
       "    </tr>\n",
       "    <tr>\n",
       "      <th>19</th>\n",
       "      <td>24</td>\n",
       "      <td>Maryland</td>\n",
       "      <td>6.16</td>\n",
       "      <td>635.25</td>\n",
       "      <td>12.8</td>\n",
       "      <td>96.0</td>\n",
       "      <td>94.0</td>\n",
       "      <td>58.5</td>\n",
       "      <td>31.1</td>\n",
       "      <td>0.6</td>\n",
       "      <td>...</td>\n",
       "      <td>34.3</td>\n",
       "      <td>9.0</td>\n",
       "      <td>44.6</td>\n",
       "      <td>42.70</td>\n",
       "      <td>540</td>\n",
       "      <td>27.470</td>\n",
       "      <td>MD</td>\n",
       "      <td>0.859272</td>\n",
       "      <td>0.859272</td>\n",
       "      <td>27.470</td>\n",
       "    </tr>\n",
       "    <tr>\n",
       "      <th>5</th>\n",
       "      <td>8</td>\n",
       "      <td>Colorado</td>\n",
       "      <td>5.84</td>\n",
       "      <td>56.08</td>\n",
       "      <td>13.9</td>\n",
       "      <td>6.8</td>\n",
       "      <td>101.4</td>\n",
       "      <td>86.9</td>\n",
       "      <td>4.6</td>\n",
       "      <td>1.6</td>\n",
       "      <td>...</td>\n",
       "      <td>25.1</td>\n",
       "      <td>11.0</td>\n",
       "      <td>24.9</td>\n",
       "      <td>16.98</td>\n",
       "      <td>574</td>\n",
       "      <td>33.932</td>\n",
       "      <td>CO</td>\n",
       "      <td>0.849815</td>\n",
       "      <td>0.849815</td>\n",
       "      <td>33.932</td>\n",
       "    </tr>\n",
       "    <tr>\n",
       "      <th>10</th>\n",
       "      <td>15</td>\n",
       "      <td>Hawaii</td>\n",
       "      <td>1.44</td>\n",
       "      <td>224.26</td>\n",
       "      <td>8.1</td>\n",
       "      <td>18.2</td>\n",
       "      <td>100.6</td>\n",
       "      <td>25.5</td>\n",
       "      <td>2.2</td>\n",
       "      <td>0.4</td>\n",
       "      <td>...</td>\n",
       "      <td>25.0</td>\n",
       "      <td>9.0</td>\n",
       "      <td>18.3</td>\n",
       "      <td>50.33</td>\n",
       "      <td>81</td>\n",
       "      <td>34.965</td>\n",
       "      <td>HI</td>\n",
       "      <td>0.780842</td>\n",
       "      <td>0.780842</td>\n",
       "      <td>34.965</td>\n",
       "    </tr>\n",
       "    <tr>\n",
       "      <th>47</th>\n",
       "      <td>54</td>\n",
       "      <td>West Virginia</td>\n",
       "      <td>1.78</td>\n",
       "      <td>74.17</td>\n",
       "      <td>51.3</td>\n",
       "      <td>40.6</td>\n",
       "      <td>97.5</td>\n",
       "      <td>93.5</td>\n",
       "      <td>3.6</td>\n",
       "      <td>0.3</td>\n",
       "      <td>...</td>\n",
       "      <td>40.6</td>\n",
       "      <td>20.0</td>\n",
       "      <td>81.4</td>\n",
       "      <td>44.36</td>\n",
       "      <td>249</td>\n",
       "      <td>31.933</td>\n",
       "      <td>WV</td>\n",
       "      <td>0.744955</td>\n",
       "      <td>0.744955</td>\n",
       "      <td>31.933</td>\n",
       "    </tr>\n",
       "    <tr>\n",
       "      <th>23</th>\n",
       "      <td>28</td>\n",
       "      <td>Mississippi</td>\n",
       "      <td>2.94</td>\n",
       "      <td>62.87</td>\n",
       "      <td>50.7</td>\n",
       "      <td>32.8</td>\n",
       "      <td>93.9</td>\n",
       "      <td>59.1</td>\n",
       "      <td>37.8</td>\n",
       "      <td>0.6</td>\n",
       "      <td>...</td>\n",
       "      <td>39.1</td>\n",
       "      <td>18.0</td>\n",
       "      <td>21.1</td>\n",
       "      <td>56.48</td>\n",
       "      <td>687</td>\n",
       "      <td>16.369</td>\n",
       "      <td>MS</td>\n",
       "      <td>0.707123</td>\n",
       "      <td>0.707123</td>\n",
       "      <td>16.369</td>\n",
       "    </tr>\n",
       "    <tr>\n",
       "      <th>12</th>\n",
       "      <td>17</td>\n",
       "      <td>Illinois</td>\n",
       "      <td>12.58</td>\n",
       "      <td>228.24</td>\n",
       "      <td>11.5</td>\n",
       "      <td>28.6</td>\n",
       "      <td>96.6</td>\n",
       "      <td>76.8</td>\n",
       "      <td>14.6</td>\n",
       "      <td>0.6</td>\n",
       "      <td>...</td>\n",
       "      <td>34.2</td>\n",
       "      <td>11.0</td>\n",
       "      <td>28.1</td>\n",
       "      <td>38.52</td>\n",
       "      <td>1087</td>\n",
       "      <td>20.840</td>\n",
       "      <td>IL</td>\n",
       "      <td>0.685921</td>\n",
       "      <td>0.685921</td>\n",
       "      <td>20.840</td>\n",
       "    </tr>\n",
       "    <tr>\n",
       "      <th>27</th>\n",
       "      <td>32</td>\n",
       "      <td>Nevada</td>\n",
       "      <td>3.18</td>\n",
       "      <td>28.64</td>\n",
       "      <td>5.8</td>\n",
       "      <td>1.4</td>\n",
       "      <td>100.7</td>\n",
       "      <td>73.9</td>\n",
       "      <td>10.3</td>\n",
       "      <td>1.7</td>\n",
       "      <td>...</td>\n",
       "      <td>31.3</td>\n",
       "      <td>14.0</td>\n",
       "      <td>26.0</td>\n",
       "      <td>9.46</td>\n",
       "      <td>293</td>\n",
       "      <td>24.670</td>\n",
       "      <td>NV</td>\n",
       "      <td>0.671244</td>\n",
       "      <td>0.671244</td>\n",
       "      <td>24.670</td>\n",
       "    </tr>\n",
       "    <tr>\n",
       "      <th>42</th>\n",
       "      <td>48</td>\n",
       "      <td>Texas</td>\n",
       "      <td>30.03</td>\n",
       "      <td>113.04</td>\n",
       "      <td>15.3</td>\n",
       "      <td>15.2</td>\n",
       "      <td>98.7</td>\n",
       "      <td>78.7</td>\n",
       "      <td>12.9</td>\n",
       "      <td>1.0</td>\n",
       "      <td>...</td>\n",
       "      <td>36.1</td>\n",
       "      <td>12.0</td>\n",
       "      <td>14.1</td>\n",
       "      <td>35.00</td>\n",
       "      <td>3520</td>\n",
       "      <td>24.356</td>\n",
       "      <td>TX</td>\n",
       "      <td>0.665834</td>\n",
       "      <td>0.665834</td>\n",
       "      <td>24.356</td>\n",
       "    </tr>\n",
       "    <tr>\n",
       "      <th>21</th>\n",
       "      <td>26</td>\n",
       "      <td>Michigan</td>\n",
       "      <td>10.03</td>\n",
       "      <td>177.80</td>\n",
       "      <td>25.4</td>\n",
       "      <td>47.5</td>\n",
       "      <td>97.0</td>\n",
       "      <td>79.2</td>\n",
       "      <td>14.1</td>\n",
       "      <td>0.7</td>\n",
       "      <td>...</td>\n",
       "      <td>34.4</td>\n",
       "      <td>16.0</td>\n",
       "      <td>28.6</td>\n",
       "      <td>32.79</td>\n",
       "      <td>1011</td>\n",
       "      <td>28.656</td>\n",
       "      <td>MI</td>\n",
       "      <td>0.581024</td>\n",
       "      <td>0.581024</td>\n",
       "      <td>28.656</td>\n",
       "    </tr>\n",
       "    <tr>\n",
       "      <th>37</th>\n",
       "      <td>42</td>\n",
       "      <td>Pennsylvania</td>\n",
       "      <td>12.97</td>\n",
       "      <td>289.77</td>\n",
       "      <td>21.3</td>\n",
       "      <td>67.7</td>\n",
       "      <td>96.1</td>\n",
       "      <td>81.6</td>\n",
       "      <td>12.0</td>\n",
       "      <td>0.4</td>\n",
       "      <td>...</td>\n",
       "      <td>33.3</td>\n",
       "      <td>13.0</td>\n",
       "      <td>42.4</td>\n",
       "      <td>42.77</td>\n",
       "      <td>1060</td>\n",
       "      <td>24.896</td>\n",
       "      <td>PA</td>\n",
       "      <td>0.530977</td>\n",
       "      <td>0.530977</td>\n",
       "      <td>24.896</td>\n",
       "    </tr>\n",
       "    <tr>\n",
       "      <th>9</th>\n",
       "      <td>13</td>\n",
       "      <td>Georgia</td>\n",
       "      <td>10.91</td>\n",
       "      <td>187.82</td>\n",
       "      <td>24.9</td>\n",
       "      <td>45.8</td>\n",
       "      <td>94.7</td>\n",
       "      <td>60.2</td>\n",
       "      <td>32.6</td>\n",
       "      <td>0.5</td>\n",
       "      <td>...</td>\n",
       "      <td>33.9</td>\n",
       "      <td>13.0</td>\n",
       "      <td>18.0</td>\n",
       "      <td>50.22</td>\n",
       "      <td>1522</td>\n",
       "      <td>25.023</td>\n",
       "      <td>GA</td>\n",
       "      <td>0.471109</td>\n",
       "      <td>0.471109</td>\n",
       "      <td>25.023</td>\n",
       "    </tr>\n",
       "    <tr>\n",
       "      <th>41</th>\n",
       "      <td>47</td>\n",
       "      <td>Tennessee</td>\n",
       "      <td>7.05</td>\n",
       "      <td>169.16</td>\n",
       "      <td>33.6</td>\n",
       "      <td>55.6</td>\n",
       "      <td>95.3</td>\n",
       "      <td>78.4</td>\n",
       "      <td>17.1</td>\n",
       "      <td>0.5</td>\n",
       "      <td>...</td>\n",
       "      <td>35.0</td>\n",
       "      <td>17.0</td>\n",
       "      <td>45.6</td>\n",
       "      <td>51.85</td>\n",
       "      <td>1119</td>\n",
       "      <td>23.669</td>\n",
       "      <td>TN</td>\n",
       "      <td>0.462519</td>\n",
       "      <td>0.462519</td>\n",
       "      <td>23.669</td>\n",
       "    </tr>\n",
       "    <tr>\n",
       "      <th>31</th>\n",
       "      <td>36</td>\n",
       "      <td>New York</td>\n",
       "      <td>19.68</td>\n",
       "      <td>420.91</td>\n",
       "      <td>12.1</td>\n",
       "      <td>54.6</td>\n",
       "      <td>94.4</td>\n",
       "      <td>69.6</td>\n",
       "      <td>17.6</td>\n",
       "      <td>1.0</td>\n",
       "      <td>...</td>\n",
       "      <td>29.1</td>\n",
       "      <td>12.0</td>\n",
       "      <td>25.4</td>\n",
       "      <td>42.87</td>\n",
       "      <td>963</td>\n",
       "      <td>18.313</td>\n",
       "      <td>NY</td>\n",
       "      <td>0.369152</td>\n",
       "      <td>0.369152</td>\n",
       "      <td>18.313</td>\n",
       "    </tr>\n",
       "    <tr>\n",
       "      <th>2</th>\n",
       "      <td>4</td>\n",
       "      <td>Arizona</td>\n",
       "      <td>7.36</td>\n",
       "      <td>64.05</td>\n",
       "      <td>10.2</td>\n",
       "      <td>5.8</td>\n",
       "      <td>98.8</td>\n",
       "      <td>82.6</td>\n",
       "      <td>5.2</td>\n",
       "      <td>5.3</td>\n",
       "      <td>...</td>\n",
       "      <td>31.3</td>\n",
       "      <td>12.0</td>\n",
       "      <td>35.8</td>\n",
       "      <td>11.80</td>\n",
       "      <td>967</td>\n",
       "      <td>18.330</td>\n",
       "      <td>AZ</td>\n",
       "      <td>0.274801</td>\n",
       "      <td>0.274801</td>\n",
       "      <td>18.330</td>\n",
       "    </tr>\n",
       "    <tr>\n",
       "      <th>46</th>\n",
       "      <td>53</td>\n",
       "      <td>Washington</td>\n",
       "      <td>7.79</td>\n",
       "      <td>116.46</td>\n",
       "      <td>16.0</td>\n",
       "      <td>16.7</td>\n",
       "      <td>100.1</td>\n",
       "      <td>78.5</td>\n",
       "      <td>4.4</td>\n",
       "      <td>1.9</td>\n",
       "      <td>...</td>\n",
       "      <td>28.8</td>\n",
       "      <td>10.0</td>\n",
       "      <td>22.0</td>\n",
       "      <td>38.67</td>\n",
       "      <td>525</td>\n",
       "      <td>31.631</td>\n",
       "      <td>WA</td>\n",
       "      <td>0.201580</td>\n",
       "      <td>0.201580</td>\n",
       "      <td>31.631</td>\n",
       "    </tr>\n",
       "    <tr>\n",
       "      <th>7</th>\n",
       "      <td>10</td>\n",
       "      <td>Delaware</td>\n",
       "      <td>1.02</td>\n",
       "      <td>514.82</td>\n",
       "      <td>16.7</td>\n",
       "      <td>97.3</td>\n",
       "      <td>93.6</td>\n",
       "      <td>69.2</td>\n",
       "      <td>23.2</td>\n",
       "      <td>0.7</td>\n",
       "      <td>...</td>\n",
       "      <td>33.9</td>\n",
       "      <td>12.0</td>\n",
       "      <td>47.3</td>\n",
       "      <td>45.82</td>\n",
       "      <td>104</td>\n",
       "      <td>21.207</td>\n",
       "      <td>DE</td>\n",
       "      <td>0.091349</td>\n",
       "      <td>0.091349</td>\n",
       "      <td>21.207</td>\n",
       "    </tr>\n",
       "    <tr>\n",
       "      <th>22</th>\n",
       "      <td>27</td>\n",
       "      <td>Minnesota</td>\n",
       "      <td>5.72</td>\n",
       "      <td>71.69</td>\n",
       "      <td>26.7</td>\n",
       "      <td>18.2</td>\n",
       "      <td>99.2</td>\n",
       "      <td>83.8</td>\n",
       "      <td>7.0</td>\n",
       "      <td>1.4</td>\n",
       "      <td>...</td>\n",
       "      <td>32.4</td>\n",
       "      <td>12.0</td>\n",
       "      <td>19.0</td>\n",
       "      <td>28.61</td>\n",
       "      <td>369</td>\n",
       "      <td>30.920</td>\n",
       "      <td>MN</td>\n",
       "      <td>0.041624</td>\n",
       "      <td>0.041624</td>\n",
       "      <td>30.920</td>\n",
       "    </tr>\n",
       "  </tbody>\n",
       "</table>\n",
       "<p>50 rows × 29 columns</p>\n",
       "</div>"
      ],
      "text/plain": [
       "    STATE      STATE_NAME  POPULATION  POPULATION_DENSITY   \n",
       "39     45  South Carolina        5.28              172.62  \\\n",
       "25     30         Montana        1.12                7.59   \n",
       "17     22       Louisiana        4.59              107.04   \n",
       "26     31        Nebraska        1.97               25.56   \n",
       "29     34      New Jersey        9.26             1260.15   \n",
       "43     49            Utah        3.38               40.61   \n",
       "48     55       Wisconsin        5.89              108.87   \n",
       "3       5        Arkansas        3.01               58.16   \n",
       "20     25   Massachusetts        6.98              895.36   \n",
       "18     23           Maine        1.34               44.49   \n",
       "45     51        Virginia        8.68              218.83   \n",
       "24     29        Missouri        6.18               89.76   \n",
       "13     18         Indiana        6.83              189.99   \n",
       "34     39            Ohio       11.76              288.32   \n",
       "32     37  North Carolina       10.70              217.02   \n",
       "44     50         Vermont        0.65               70.04   \n",
       "35     40        Oklahoma        4.02               58.11   \n",
       "15     20          Kansas        2.94               35.89   \n",
       "36     41          Oregon        4.24               44.24   \n",
       "4       6      California       39.03              251.90   \n",
       "33     38    North Dakota        0.78               11.23   \n",
       "11     16           Idaho        1.94               23.00   \n",
       "1       2          Alaska        0.73                1.28   \n",
       "28     33   New Hampshire        1.40              155.16   \n",
       "30     35      New Mexico        2.11               17.44   \n",
       "14     19            Iowa        3.20               57.16   \n",
       "40     46    South Dakota        0.91               11.81   \n",
       "0       1         Alabama        5.07               99.52   \n",
       "16     21        Kentucky        4.51              114.18   \n",
       "38     44    Rhode Island        1.09             1059.58   \n",
       "49     56         Wyoming        0.58                5.96   \n",
       "6       9     Connecticut        3.63              744.96   \n",
       "8      12         Florida       22.24              406.34   \n",
       "19     24        Maryland        6.16              635.25   \n",
       "5       8        Colorado        5.84               56.08   \n",
       "10     15          Hawaii        1.44              224.26   \n",
       "47     54   West Virginia        1.78               74.17   \n",
       "23     28     Mississippi        2.94               62.87   \n",
       "12     17        Illinois       12.58              228.24   \n",
       "27     32          Nevada        3.18               28.64   \n",
       "42     48           Texas       30.03              113.04   \n",
       "21     26        Michigan       10.03              177.80   \n",
       "37     42    Pennsylvania       12.97              289.77   \n",
       "9      13         Georgia       10.91              187.82   \n",
       "41     47       Tennessee        7.05              169.16   \n",
       "31     36        New York       19.68              420.91   \n",
       "2       4         Arizona        7.36               64.05   \n",
       "46     53      Washington        7.79              116.46   \n",
       "7      10        Delaware        1.02              514.82   \n",
       "22     27       Minnesota        5.72               71.69   \n",
       "\n",
       "    RURAL_POPULATION_PERCENTAGE  RURAL_POPULATION_DENSITY  MALE_FEMALE_RATIO   \n",
       "39                         33.7                      56.3               94.1  \\\n",
       "25                         44.1                       3.0              101.2   \n",
       "17                         26.8                      29.5               95.4   \n",
       "26                         26.9                       6.4               99.5   \n",
       "29                          5.3                     105.5               95.5   \n",
       "43                          9.4                       3.2              101.4   \n",
       "48                         29.9                      32.5               99.1   \n",
       "3                          43.8                      25.1               96.4   \n",
       "20                          8.0                     109.2               94.3   \n",
       "18                         61.3                      26.7               96.0   \n",
       "45                         24.6                      53.3               96.8   \n",
       "24                         29.6                      26.6               96.3   \n",
       "13                         27.6                      53.7               97.2   \n",
       "34                         22.1                      69.9               96.1   \n",
       "32                         33.9                      73.5               94.7   \n",
       "44                         61.1                      42.2               97.6   \n",
       "35                         33.8                      18.8               98.2   \n",
       "15                         25.8                       9.1               99.4   \n",
       "36                         19.0                       7.7               98.3   \n",
       "4                           5.1                      12.7               98.9   \n",
       "33                         40.1                       3.9              104.9   \n",
       "11                         29.4                       5.6              100.6   \n",
       "1                          34.0                       0.4              109.2   \n",
       "28                         39.7                      62.9               98.3   \n",
       "30                         22.6                       3.9               98.0   \n",
       "14                         36.0                      20.0               98.7   \n",
       "40                         43.4                       4.7              101.5   \n",
       "0                          41.0                      40.4               93.6   \n",
       "16                         41.6                      47.4               97.0   \n",
       "38                          9.3                     154.0               94.7   \n",
       "49                         35.2                       2.0              103.9   \n",
       "6                          12.0                     142.3               95.2   \n",
       "8                           8.8                      35.9               95.7   \n",
       "19                         12.8                      96.0               94.0   \n",
       "5                          13.9                       6.8              101.4   \n",
       "10                          8.1                      18.2              100.6   \n",
       "47                         51.3                      40.6               97.5   \n",
       "23                         50.7                      32.8               93.9   \n",
       "12                         11.5                      28.6               96.6   \n",
       "27                          5.8                       1.4              100.7   \n",
       "42                         15.3                      15.2               98.7   \n",
       "21                         25.4                      47.5               97.0   \n",
       "37                         21.3                      67.7               96.1   \n",
       "9                          24.9                      45.8               94.7   \n",
       "41                         33.6                      55.6               95.3   \n",
       "31                         12.1                      54.6               94.4   \n",
       "2                          10.2                       5.8               98.8   \n",
       "46                         16.0                      16.7              100.1   \n",
       "7                          16.7                      97.3               93.6   \n",
       "22                         26.7                      18.2               99.2   \n",
       "\n",
       "    WHITE_ALONE  BLACK_ALONE  AMERICAN_INDIAN_ALASKA_NATIVE_ALONE  ...   \n",
       "39         68.6         27.0                                  0.5  ...  \\\n",
       "25         88.9          0.6                                  6.7  ...   \n",
       "17         62.8         32.8                                  0.8  ...   \n",
       "26         88.1          5.2                                  1.5  ...   \n",
       "29         71.9         15.1                                  0.6  ...   \n",
       "43         90.6          1.5                                  1.6  ...   \n",
       "48         87.0          6.7                                  1.2  ...   \n",
       "3          79.0         15.7                                  1.0  ...   \n",
       "20         80.6          9.0                                  0.5  ...   \n",
       "18         94.4          1.7                                  0.7  ...   \n",
       "45         69.4         19.9                                  0.5  ...   \n",
       "24         82.9         11.8                                  0.6  ...   \n",
       "13         84.8          9.9                                  0.4  ...   \n",
       "34         81.7         13.1                                  0.3  ...   \n",
       "32         70.6         22.2                                  1.6  ...   \n",
       "44         94.2          1.4                                  0.4  ...   \n",
       "35         74.0          7.8                                  9.4  ...   \n",
       "15         86.3          6.1                                  1.2  ...   \n",
       "36         86.7          2.2                                  1.8  ...   \n",
       "4          71.9          6.5                                  1.6  ...   \n",
       "33         86.9          3.4                                  5.6  ...   \n",
       "11         93.0          0.9                                  1.7  ...   \n",
       "1          65.3          3.7                                 15.6  ...   \n",
       "28         93.1          1.8                                  0.3  ...   \n",
       "30         81.9          2.6                                 11.0  ...   \n",
       "14         90.6          4.1                                  0.5  ...   \n",
       "40         84.6          2.3                                  9.0  ...   \n",
       "0          69.1         26.8                                  0.7  ...   \n",
       "16         87.5          8.5                                  0.3  ...   \n",
       "38         83.6          8.5                                  1.1  ...   \n",
       "49         92.5          1.3                                  2.7  ...   \n",
       "6          79.7         12.2                                  0.6  ...   \n",
       "8          77.3         16.9                                  0.5  ...   \n",
       "19         58.5         31.1                                  0.6  ...   \n",
       "5          86.9          4.6                                  1.6  ...   \n",
       "10         25.5          2.2                                  0.4  ...   \n",
       "47         93.5          3.6                                  0.3  ...   \n",
       "23         59.1         37.8                                  0.6  ...   \n",
       "12         76.8         14.6                                  0.6  ...   \n",
       "27         73.9         10.3                                  1.7  ...   \n",
       "42         78.7         12.9                                  1.0  ...   \n",
       "21         79.2         14.1                                  0.7  ...   \n",
       "37         81.6         12.0                                  0.4  ...   \n",
       "9          60.2         32.6                                  0.5  ...   \n",
       "41         78.4         17.1                                  0.5  ...   \n",
       "31         69.6         17.6                                  1.0  ...   \n",
       "2          82.6          5.2                                  5.3  ...   \n",
       "46         78.5          4.4                                  1.9  ...   \n",
       "7          69.2         23.2                                  0.7  ...   \n",
       "22         83.8          7.0                                  1.4  ...   \n",
       "\n",
       "    OBESITY_RATE  SMOKING_RATE  DRUG_OVERDOSE_DEATH_RATE  PRECIPITATION   \n",
       "39          36.1          14.0                      34.9          49.24  \\\n",
       "25          31.8          13.0                      15.6          14.92   \n",
       "17          38.6          17.0                      42.7          59.15   \n",
       "26          35.9          12.0                      11.3          26.66   \n",
       "29          28.2          10.0                      32.1          48.02   \n",
       "43          30.9           6.0                      20.5          15.79   \n",
       "48          33.9          11.0                      27.7          33.11   \n",
       "3           38.7          18.0                      19.1          49.72   \n",
       "20          27.4           9.0                      33.9          48.42   \n",
       "18          31.9          13.0                      39.7          45.49   \n",
       "45          34.2          11.0                      26.6          42.76   \n",
       "24          37.3          16.0                      32.1          42.52   \n",
       "13          36.3          16.0                      36.7          41.86   \n",
       "34          37.8          16.0                      47.2          39.24   \n",
       "32          36.0          13.0                      30.9          46.92   \n",
       "44          29.0          13.0                      32.9          42.58   \n",
       "35          39.4          15.0                      19.4          37.62   \n",
       "15          36.0          14.0                      17.4          32.43   \n",
       "36          30.4          12.0                      18.7          43.62   \n",
       "4           27.6           9.0                      21.8          22.97   \n",
       "33          35.2          13.0                      15.6          18.59   \n",
       "11          31.6          13.0                      15.9          16.91   \n",
       "1           33.5          15.0                      22.0          29.03   \n",
       "28          30.6          11.0                      30.3          44.84   \n",
       "30          34.6          13.0                      39.0          14.24   \n",
       "14          36.4          14.0                      14.3          34.50   \n",
       "40          38.4          13.0                      10.3          22.02   \n",
       "0           39.9          15.0                      22.3          56.00   \n",
       "16          40.3          18.0                      49.2          46.27   \n",
       "38          30.1          11.0                      38.2          49.96   \n",
       "49          32.0          15.0                      17.4          13.23   \n",
       "6           30.4          10.0                      39.1          50.07   \n",
       "8           28.0          14.7                      35.0          54.73   \n",
       "19          34.3           9.0                      44.6          42.70   \n",
       "5           25.1          11.0                      24.9          16.98   \n",
       "10          25.0           9.0                      18.3          50.33   \n",
       "47          40.6          20.0                      81.4          44.36   \n",
       "23          39.1          18.0                      21.1          56.48   \n",
       "12          34.2          11.0                      28.1          38.52   \n",
       "27          31.3          14.0                      26.0           9.46   \n",
       "42          36.1          12.0                      14.1          35.00   \n",
       "21          34.4          16.0                      28.6          32.79   \n",
       "37          33.3          13.0                      42.4          42.77   \n",
       "9           33.9          13.0                      18.0          50.22   \n",
       "41          35.0          17.0                      45.6          51.85   \n",
       "31          29.1          12.0                      25.4          42.87   \n",
       "2           31.3          12.0                      35.8          11.80   \n",
       "46          28.8          10.0                      22.0          38.67   \n",
       "7           33.9          12.0                      47.3          45.82   \n",
       "22          32.4          12.0                      19.0          28.61   \n",
       "\n",
       "    TOTAL_ACCIDENTS  DRUNK_DRIVING_PERCENTAGE_2  Abb_state  Difference   \n",
       "39              962                      35.097         SC   12.923244  \\\n",
       "25              190                      49.480         MT   11.218525   \n",
       "17              762                      29.532         LA   10.482450   \n",
       "26              217                      35.538         NE    9.533747   \n",
       "29              547                      22.528         NJ    9.383209   \n",
       "43              256                      21.924         UT    9.018696   \n",
       "48              561                      33.713         WI    5.274837   \n",
       "3               585                      26.710         AR    4.515001   \n",
       "20              327                      24.423         MA    4.507568   \n",
       "18              151                      41.173         ME    3.881496   \n",
       "45              796                      31.605         VA    3.821779   \n",
       "24              914                      29.522         MO    3.235683   \n",
       "13              815                      20.442         IN    3.218615   \n",
       "34             1154                      32.737         OH    3.040710   \n",
       "32             1412                      22.729         NC    2.573582   \n",
       "44               58                      31.116         VT    2.449759   \n",
       "35              599                      29.109         OK    1.974144   \n",
       "15              382                      19.381         KS    1.810686   \n",
       "36              461                      19.326         OR    1.507757   \n",
       "4              3558                      25.424         CA    1.491936   \n",
       "33               96                      36.385         ND    1.486816   \n",
       "11              188                      33.838         ID    1.444927   \n",
       "1                53                      28.480         AK    1.325464   \n",
       "28               98                      33.774         NH    1.292606   \n",
       "30              365                      28.015         NM    1.227262   \n",
       "14              304                      25.044         IA    1.210165   \n",
       "40              132                      36.579         SD    1.171890   \n",
       "0               852                      22.231         AL    1.170698   \n",
       "16              709                      26.323         KY    1.158392   \n",
       "38               66                      35.403         RI    1.102562   \n",
       "49              114                      32.720         WY    1.069092   \n",
       "6               279                      29.368         CT    1.015766   \n",
       "8              3098                      21.874         FL    0.993439   \n",
       "19              540                      27.470         MD    0.859272   \n",
       "5               574                      33.932         CO    0.849815   \n",
       "10               81                      34.965         HI    0.780842   \n",
       "47              249                      31.933         WV    0.744955   \n",
       "23              687                      16.369         MS    0.707123   \n",
       "12             1087                      20.840         IL    0.685921   \n",
       "27              293                      24.670         NV    0.671244   \n",
       "42             3520                      24.356         TX    0.665834   \n",
       "21             1011                      28.656         MI    0.581024   \n",
       "37             1060                      24.896         PA    0.530977   \n",
       "9              1522                      25.023         GA    0.471109   \n",
       "41             1119                      23.669         TN    0.462519   \n",
       "31              963                      18.313         NY    0.369152   \n",
       "2               967                      18.330         AZ    0.274801   \n",
       "46              525                      31.631         WA    0.201580   \n",
       "7               104                      21.207         DE    0.091349   \n",
       "22              369                      30.920         MN    0.041624   \n",
       "\n",
       "    Absolute Errors  percentage of drunk driving accidents  \n",
       "39        12.923244                                 35.097  \n",
       "25        11.218525                                 49.480  \n",
       "17        10.482450                                 29.532  \n",
       "26         9.533747                                 35.538  \n",
       "29         9.383209                                 22.528  \n",
       "43         9.018696                                 21.924  \n",
       "48         5.274837                                 33.713  \n",
       "3          4.515001                                 26.710  \n",
       "20         4.507568                                 24.423  \n",
       "18         3.881496                                 41.173  \n",
       "45         3.821779                                 31.605  \n",
       "24         3.235683                                 29.522  \n",
       "13         3.218615                                 20.442  \n",
       "34         3.040710                                 32.737  \n",
       "32         2.573582                                 22.729  \n",
       "44         2.449759                                 31.116  \n",
       "35         1.974144                                 29.109  \n",
       "15         1.810686                                 19.381  \n",
       "36         1.507757                                 19.326  \n",
       "4          1.491936                                 25.424  \n",
       "33         1.486816                                 36.385  \n",
       "11         1.444927                                 33.838  \n",
       "1          1.325464                                 28.480  \n",
       "28         1.292606                                 33.774  \n",
       "30         1.227262                                 28.015  \n",
       "14         1.210165                                 25.044  \n",
       "40         1.171890                                 36.579  \n",
       "0          1.170698                                 22.231  \n",
       "16         1.158392                                 26.323  \n",
       "38         1.102562                                 35.403  \n",
       "49         1.069092                                 32.720  \n",
       "6          1.015766                                 29.368  \n",
       "8          0.993439                                 21.874  \n",
       "19         0.859272                                 27.470  \n",
       "5          0.849815                                 33.932  \n",
       "10         0.780842                                 34.965  \n",
       "47         0.744955                                 31.933  \n",
       "23         0.707123                                 16.369  \n",
       "12         0.685921                                 20.840  \n",
       "27         0.671244                                 24.670  \n",
       "42         0.665834                                 24.356  \n",
       "21         0.581024                                 28.656  \n",
       "37         0.530977                                 24.896  \n",
       "9          0.471109                                 25.023  \n",
       "41         0.462519                                 23.669  \n",
       "31         0.369152                                 18.313  \n",
       "2          0.274801                                 18.330  \n",
       "46         0.201580                                 31.631  \n",
       "7          0.091349                                 21.207  \n",
       "22         0.041624                                 30.920  \n",
       "\n",
       "[50 rows x 29 columns]"
      ]
     },
     "execution_count": 1105,
     "metadata": {},
     "output_type": "execute_result"
    }
   ],
   "source": [
    "sorted_df = small_df.sort_values(by='Absolute Errors', ascending=False)\n",
    "sorted_df"
   ]
  }
 ],
 "metadata": {
  "kernelspec": {
   "display_name": "Python 3 (ipykernel)",
   "language": "python",
   "name": "python3"
  },
  "language_info": {
   "codemirror_mode": {
    "name": "ipython",
    "version": 3
   },
   "file_extension": ".py",
   "mimetype": "text/x-python",
   "name": "python",
   "nbconvert_exporter": "python",
   "pygments_lexer": "ipython3",
   "version": "3.9.16"
  }
 },
 "nbformat": 4,
 "nbformat_minor": 5
}
